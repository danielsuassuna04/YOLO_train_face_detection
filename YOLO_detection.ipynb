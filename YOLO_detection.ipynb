{
  "nbformat": 4,
  "nbformat_minor": 0,
  "metadata": {
    "colab": {
      "provenance": [],
      "machine_shape": "hm",
      "gpuType": "T4",
      "authorship_tag": "ABX9TyMM5QayYqwf6cZ6XNk5BWWm"
    },
    "kernelspec": {
      "name": "python3",
      "display_name": "Python 3"
    },
    "language_info": {
      "name": "python"
    },
    "accelerator": "GPU"
  },
  "cells": [
    {
      "cell_type": "code",
      "source": [
        "import kagglehub\n",
        "path = kagglehub.dataset_download(\"fareselmenshawii/face-detection-dataset\")\n",
        "print(\"Path to dataset files:\", path)"
      ],
      "metadata": {
        "colab": {
          "base_uri": "https://localhost:8080/"
        },
        "id": "WiPeZHvCQacS",
        "outputId": "66a571c8-aea0-4516-e5a1-1d4ea48a05f0"
      },
      "execution_count": null,
      "outputs": [
        {
          "output_type": "stream",
          "name": "stdout",
          "text": [
            "Downloading from https://www.kaggle.com/api/v1/datasets/download/fareselmenshawii/face-detection-dataset?dataset_version_number=3...\n"
          ]
        },
        {
          "output_type": "stream",
          "name": "stderr",
          "text": [
            "100%|██████████| 4.43G/4.43G [00:21<00:00, 221MB/s]"
          ]
        },
        {
          "output_type": "stream",
          "name": "stdout",
          "text": [
            "Extracting files...\n"
          ]
        },
        {
          "output_type": "stream",
          "name": "stderr",
          "text": [
            "\n"
          ]
        },
        {
          "output_type": "stream",
          "name": "stdout",
          "text": [
            "Path to dataset files: /root/.cache/kagglehub/datasets/fareselmenshawii/face-detection-dataset/versions/3\n"
          ]
        }
      ]
    },
    {
      "cell_type": "code",
      "source": [
        "from ultralytics import YOLO\n",
        "\n",
        "# Carregar o modelo pré-treinado\n",
        "model = YOLO(\"yolov8n.pt\")\n",
        "hyp_params = {\n",
        "    \"hsv_h\": 0.015,\n",
        "    \"hsv_s\": 0.7,\n",
        "    \"hsv_v\": 0.4,\n",
        "    \"degrees\": 5.0,\n",
        "    \"translate\": 0.1,\n",
        "    \"scale\": 0.5,\n",
        "    \"shear\": 0.0,\n",
        "    \"perspective\": 0.0,\n",
        "    \"fliplr\": 0.5,\n",
        "    \"flipud\": 0.0,\n",
        "    \"mosaic\": 1.0,\n",
        "    \"mixup\": 0.0\n",
        "}\n",
        "# Treinar o modelo\n",
        "model.train(\n",
        "    data=\"dataset.yaml\",\n",
        "    epochs=10,\n",
        "    hsv_h=hyp_params[\"hsv_h\"],\n",
        "    hsv_s=hyp_params[\"hsv_s\"],\n",
        "    hsv_v=hyp_params[\"hsv_v\"],\n",
        "    imgsz=640,\n",
        "    batch=16,\n",
        "    name=\"custom_yolo_training2\",\n",
        "    augment=True,\n",
        "    pretrained=True,\n",
        "    optimizer=\"Adamw\",\n",
        ")\n"
      ],
      "metadata": {
        "id": "mcTJVPmM7Mum",
        "colab": {
          "base_uri": "https://localhost:8080/"
        },
        "outputId": "2cf1d397-b5a4-44d9-e6c0-7beb5f1906f9"
      },
      "execution_count": null,
      "outputs": [
        {
          "output_type": "stream",
          "name": "stdout",
          "text": [
            "Creating new Ultralytics Settings v0.0.6 file ✅ \n",
            "View Ultralytics Settings with 'yolo settings' or at '/root/.config/Ultralytics/settings.json'\n",
            "Update Settings with 'yolo settings key=value', i.e. 'yolo settings runs_dir=path/to/dir'. For help see https://docs.ultralytics.com/quickstart/#ultralytics-settings.\n",
            "Downloading https://github.com/ultralytics/assets/releases/download/v8.3.0/yolov8n.pt to 'yolov8n.pt'...\n"
          ]
        },
        {
          "output_type": "stream",
          "name": "stderr",
          "text": [
            "100%|██████████| 6.25M/6.25M [00:00<00:00, 70.1MB/s]\n"
          ]
        },
        {
          "output_type": "stream",
          "name": "stdout",
          "text": [
            "Ultralytics 8.3.40 🚀 Python-3.10.12 torch-2.5.1+cu121 CUDA:0 (NVIDIA A100-SXM4-40GB, 40514MiB)\n",
            "\u001b[34m\u001b[1mengine/trainer: \u001b[0mtask=detect, mode=train, model=yolov8n.pt, data=dataset.yaml, epochs=10, time=None, patience=100, batch=16, imgsz=640, save=True, save_period=-1, cache=False, device=None, workers=8, project=None, name=custom_yolo_training2, exist_ok=False, pretrained=True, optimizer=Adamw, verbose=True, seed=0, deterministic=True, single_cls=False, rect=False, cos_lr=False, close_mosaic=10, resume=False, amp=True, fraction=1.0, profile=False, freeze=None, multi_scale=False, overlap_mask=True, mask_ratio=4, dropout=0.0, val=True, split=val, save_json=False, save_hybrid=False, conf=None, iou=0.7, max_det=300, half=False, dnn=False, plots=True, source=None, vid_stride=1, stream_buffer=False, visualize=False, augment=True, agnostic_nms=False, classes=None, retina_masks=False, embed=None, show=False, save_frames=False, save_txt=False, save_conf=False, save_crop=False, show_labels=True, show_conf=True, show_boxes=True, line_width=None, format=torchscript, keras=False, optimize=False, int8=False, dynamic=False, simplify=True, opset=None, workspace=None, nms=False, lr0=0.01, lrf=0.01, momentum=0.937, weight_decay=0.0005, warmup_epochs=3.0, warmup_momentum=0.8, warmup_bias_lr=0.1, box=7.5, cls=0.5, dfl=1.5, pose=12.0, kobj=1.0, nbs=64, hsv_h=0.015, hsv_s=0.7, hsv_v=0.4, degrees=0.0, translate=0.1, scale=0.5, shear=0.0, perspective=0.0, flipud=0.0, fliplr=0.5, bgr=0.0, mosaic=1.0, mixup=0.0, copy_paste=0.0, copy_paste_mode=flip, auto_augment=randaugment, erasing=0.4, crop_fraction=1.0, cfg=None, tracker=botsort.yaml, save_dir=runs/detect/custom_yolo_training2\n",
            "Downloading https://ultralytics.com/assets/Arial.ttf to '/root/.config/Ultralytics/Arial.ttf'...\n"
          ]
        },
        {
          "output_type": "stream",
          "name": "stderr",
          "text": [
            "100%|██████████| 755k/755k [00:00<00:00, 14.2MB/s]\n"
          ]
        },
        {
          "output_type": "stream",
          "name": "stdout",
          "text": [
            "Overriding model.yaml nc=80 with nc=1\n",
            "\n",
            "                   from  n    params  module                                       arguments                     \n",
            "  0                  -1  1       464  ultralytics.nn.modules.conv.Conv             [3, 16, 3, 2]                 \n",
            "  1                  -1  1      4672  ultralytics.nn.modules.conv.Conv             [16, 32, 3, 2]                \n",
            "  2                  -1  1      7360  ultralytics.nn.modules.block.C2f             [32, 32, 1, True]             \n",
            "  3                  -1  1     18560  ultralytics.nn.modules.conv.Conv             [32, 64, 3, 2]                \n",
            "  4                  -1  2     49664  ultralytics.nn.modules.block.C2f             [64, 64, 2, True]             \n",
            "  5                  -1  1     73984  ultralytics.nn.modules.conv.Conv             [64, 128, 3, 2]               \n",
            "  6                  -1  2    197632  ultralytics.nn.modules.block.C2f             [128, 128, 2, True]           \n",
            "  7                  -1  1    295424  ultralytics.nn.modules.conv.Conv             [128, 256, 3, 2]              \n",
            "  8                  -1  1    460288  ultralytics.nn.modules.block.C2f             [256, 256, 1, True]           \n",
            "  9                  -1  1    164608  ultralytics.nn.modules.block.SPPF            [256, 256, 5]                 \n",
            " 10                  -1  1         0  torch.nn.modules.upsampling.Upsample         [None, 2, 'nearest']          \n",
            " 11             [-1, 6]  1         0  ultralytics.nn.modules.conv.Concat           [1]                           \n",
            " 12                  -1  1    148224  ultralytics.nn.modules.block.C2f             [384, 128, 1]                 \n",
            " 13                  -1  1         0  torch.nn.modules.upsampling.Upsample         [None, 2, 'nearest']          \n",
            " 14             [-1, 4]  1         0  ultralytics.nn.modules.conv.Concat           [1]                           \n",
            " 15                  -1  1     37248  ultralytics.nn.modules.block.C2f             [192, 64, 1]                  \n",
            " 16                  -1  1     36992  ultralytics.nn.modules.conv.Conv             [64, 64, 3, 2]                \n",
            " 17            [-1, 12]  1         0  ultralytics.nn.modules.conv.Concat           [1]                           \n",
            " 18                  -1  1    123648  ultralytics.nn.modules.block.C2f             [192, 128, 1]                 \n",
            " 19                  -1  1    147712  ultralytics.nn.modules.conv.Conv             [128, 128, 3, 2]              \n",
            " 20             [-1, 9]  1         0  ultralytics.nn.modules.conv.Concat           [1]                           \n",
            " 21                  -1  1    493056  ultralytics.nn.modules.block.C2f             [384, 256, 1]                 \n",
            " 22        [15, 18, 21]  1    751507  ultralytics.nn.modules.head.Detect           [1, [64, 128, 256]]           \n",
            "Model summary: 225 layers, 3,011,043 parameters, 3,011,027 gradients, 8.2 GFLOPs\n",
            "\n",
            "Transferred 319/355 items from pretrained weights\n",
            "\u001b[34m\u001b[1mTensorBoard: \u001b[0mStart with 'tensorboard --logdir runs/detect/custom_yolo_training2', view at http://localhost:6006/\n",
            "Freezing layer 'model.22.dfl.conv.weight'\n",
            "\u001b[34m\u001b[1mAMP: \u001b[0mrunning Automatic Mixed Precision (AMP) checks...\n",
            "Downloading https://github.com/ultralytics/assets/releases/download/v8.3.0/yolo11n.pt to 'yolo11n.pt'...\n"
          ]
        },
        {
          "output_type": "stream",
          "name": "stderr",
          "text": [
            "100%|██████████| 5.35M/5.35M [00:00<00:00, 64.5MB/s]\n"
          ]
        },
        {
          "output_type": "stream",
          "name": "stdout",
          "text": [
            "\u001b[34m\u001b[1mAMP: \u001b[0mchecks passed ✅\n"
          ]
        },
        {
          "output_type": "stream",
          "name": "stderr",
          "text": [
            "\u001b[34m\u001b[1mtrain: \u001b[0mScanning /root/.cache/kagglehub/datasets/fareselmenshawii/face-detection-dataset/versions/3/labels/train... 13386 images, 0 backgrounds, 0 corrupt: 100%|██████████| 13386/13386 [00:12<00:00, 1035.38it/s]\n"
          ]
        },
        {
          "output_type": "stream",
          "name": "stdout",
          "text": [
            "\u001b[34m\u001b[1mtrain: \u001b[0mNew cache created: /root/.cache/kagglehub/datasets/fareselmenshawii/face-detection-dataset/versions/3/labels/train.cache\n",
            "\u001b[34m\u001b[1malbumentations: \u001b[0mBlur(p=0.01, blur_limit=(3, 7)), MedianBlur(p=0.01, blur_limit=(3, 7)), ToGray(p=0.01, num_output_channels=3, method='weighted_average'), CLAHE(p=0.01, clip_limit=(1.0, 4.0), tile_grid_size=(8, 8))\n"
          ]
        },
        {
          "output_type": "stream",
          "name": "stderr",
          "text": [
            "/usr/local/lib/python3.10/dist-packages/albumentations/__init__.py:24: UserWarning: A new version of Albumentations is available: 1.4.21 (you have 1.4.20). Upgrade using: pip install -U albumentations. To disable automatic update checks, set the environment variable NO_ALBUMENTATIONS_UPDATE to 1.\n",
            "  check_for_updates()\n",
            "\u001b[34m\u001b[1mval: \u001b[0mScanning /root/.cache/kagglehub/datasets/fareselmenshawii/face-detection-dataset/versions/3/labels/val... 3347 images, 0 backgrounds, 0 corrupt: 100%|██████████| 3347/3347 [00:03<00:00, 945.09it/s] \n"
          ]
        },
        {
          "output_type": "stream",
          "name": "stdout",
          "text": [
            "\u001b[34m\u001b[1mval: \u001b[0mNew cache created: /root/.cache/kagglehub/datasets/fareselmenshawii/face-detection-dataset/versions/3/labels/val.cache\n",
            "Plotting labels to runs/detect/custom_yolo_training2/labels.jpg... \n",
            "\u001b[34m\u001b[1moptimizer:\u001b[0m AdamW(lr=0.01, momentum=0.937) with parameter groups 57 weight(decay=0.0), 64 weight(decay=0.0005), 63 bias(decay=0.0)\n",
            "\u001b[34m\u001b[1mTensorBoard: \u001b[0mmodel graph visualization added ✅\n",
            "Image sizes 640 train, 640 val\n",
            "Using 8 dataloader workers\n",
            "Logging results to \u001b[1mruns/detect/custom_yolo_training2\u001b[0m\n",
            "Starting training for 10 epochs...\n",
            "Closing dataloader mosaic\n",
            "\u001b[34m\u001b[1malbumentations: \u001b[0mBlur(p=0.01, blur_limit=(3, 7)), MedianBlur(p=0.01, blur_limit=(3, 7)), ToGray(p=0.01, num_output_channels=3, method='weighted_average'), CLAHE(p=0.01, clip_limit=(1.0, 4.0), tile_grid_size=(8, 8))\n",
            "\n",
            "      Epoch    GPU_mem   box_loss   cls_loss   dfl_loss  Instances       Size\n"
          ]
        },
        {
          "output_type": "stream",
          "name": "stderr",
          "text": [
            "       1/10      3.15G       1.57      1.328       1.36         28        640: 100%|██████████| 837/837 [01:25<00:00,  9.81it/s]\n",
            "                 Class     Images  Instances      Box(P          R      mAP50  mAP50-95): 100%|██████████| 105/105 [00:15<00:00,  6.56it/s]\n"
          ]
        },
        {
          "output_type": "stream",
          "name": "stdout",
          "text": [
            "                   all       3347      10299      0.834      0.554      0.646      0.368\n",
            "\n",
            "      Epoch    GPU_mem   box_loss   cls_loss   dfl_loss  Instances       Size\n"
          ]
        },
        {
          "output_type": "stream",
          "name": "stderr",
          "text": [
            "       2/10      3.34G      1.483      1.102      1.321         60        640: 100%|██████████| 837/837 [01:20<00:00, 10.35it/s]\n",
            "                 Class     Images  Instances      Box(P          R      mAP50  mAP50-95): 100%|██████████| 105/105 [00:13<00:00,  8.05it/s]\n"
          ]
        },
        {
          "output_type": "stream",
          "name": "stdout",
          "text": [
            "                   all       3347      10299      0.834      0.597      0.676      0.414\n",
            "\n",
            "      Epoch    GPU_mem   box_loss   cls_loss   dfl_loss  Instances       Size\n"
          ]
        },
        {
          "output_type": "stream",
          "name": "stderr",
          "text": [
            "       3/10      3.04G      1.416     0.9916      1.279         26        640: 100%|██████████| 837/837 [01:18<00:00, 10.60it/s]\n",
            "                 Class     Images  Instances      Box(P          R      mAP50  mAP50-95): 100%|██████████| 105/105 [00:13<00:00,  8.06it/s]\n"
          ]
        },
        {
          "output_type": "stream",
          "name": "stdout",
          "text": [
            "                   all       3347      10299      0.872      0.654      0.747      0.463\n",
            "\n",
            "      Epoch    GPU_mem   box_loss   cls_loss   dfl_loss  Instances       Size\n"
          ]
        },
        {
          "output_type": "stream",
          "name": "stderr",
          "text": [
            "       4/10      3.08G      1.352     0.9054      1.243         26        640: 100%|██████████| 837/837 [01:18<00:00, 10.71it/s]\n",
            "                 Class     Images  Instances      Box(P          R      mAP50  mAP50-95): 100%|██████████| 105/105 [00:13<00:00,  8.01it/s]\n"
          ]
        },
        {
          "output_type": "stream",
          "name": "stdout",
          "text": [
            "                   all       3347      10299      0.881      0.689      0.778      0.483\n",
            "\n",
            "      Epoch    GPU_mem   box_loss   cls_loss   dfl_loss  Instances       Size\n"
          ]
        },
        {
          "output_type": "stream",
          "name": "stderr",
          "text": [
            "       5/10      3.11G      1.316     0.8417       1.21         30        640: 100%|██████████| 837/837 [01:18<00:00, 10.70it/s]\n",
            "                 Class     Images  Instances      Box(P          R      mAP50  mAP50-95): 100%|██████████| 105/105 [00:12<00:00,  8.09it/s]\n"
          ]
        },
        {
          "output_type": "stream",
          "name": "stdout",
          "text": [
            "                   all       3347      10299      0.874       0.69      0.784      0.487\n",
            "\n",
            "      Epoch    GPU_mem   box_loss   cls_loss   dfl_loss  Instances       Size\n"
          ]
        },
        {
          "output_type": "stream",
          "name": "stderr",
          "text": [
            "       6/10         3G      1.288     0.7983      1.194         20        640: 100%|██████████| 837/837 [01:17<00:00, 10.74it/s]\n",
            "                 Class     Images  Instances      Box(P          R      mAP50  mAP50-95): 100%|██████████| 105/105 [00:13<00:00,  8.06it/s]\n"
          ]
        },
        {
          "output_type": "stream",
          "name": "stdout",
          "text": [
            "                   all       3347      10299      0.889      0.719      0.806      0.511\n",
            "\n",
            "      Epoch    GPU_mem   box_loss   cls_loss   dfl_loss  Instances       Size\n"
          ]
        },
        {
          "output_type": "stream",
          "name": "stderr",
          "text": [
            "       7/10      3.12G      1.253     0.7578      1.175         33        640: 100%|██████████| 837/837 [01:18<00:00, 10.68it/s]\n",
            "                 Class     Images  Instances      Box(P          R      mAP50  mAP50-95): 100%|██████████| 105/105 [00:13<00:00,  7.96it/s]\n"
          ]
        },
        {
          "output_type": "stream",
          "name": "stdout",
          "text": [
            "                   all       3347      10299      0.879      0.738      0.813      0.514\n",
            "\n",
            "      Epoch    GPU_mem   box_loss   cls_loss   dfl_loss  Instances       Size\n"
          ]
        },
        {
          "output_type": "stream",
          "name": "stderr",
          "text": [
            "       8/10      3.27G      1.232      0.718      1.156         25        640: 100%|██████████| 837/837 [01:18<00:00, 10.66it/s]\n",
            "                 Class     Images  Instances      Box(P          R      mAP50  mAP50-95): 100%|██████████| 105/105 [00:12<00:00,  8.08it/s]\n"
          ]
        },
        {
          "output_type": "stream",
          "name": "stdout",
          "text": [
            "                   all       3347      10299      0.889       0.75       0.83      0.538\n",
            "\n",
            "      Epoch    GPU_mem   box_loss   cls_loss   dfl_loss  Instances       Size\n"
          ]
        },
        {
          "output_type": "stream",
          "name": "stderr",
          "text": [
            "       9/10       3.1G      1.209     0.6881      1.147         47        640: 100%|██████████| 837/837 [01:17<00:00, 10.76it/s]\n",
            "                 Class     Images  Instances      Box(P          R      mAP50  mAP50-95): 100%|██████████| 105/105 [00:12<00:00,  8.15it/s]\n"
          ]
        },
        {
          "output_type": "stream",
          "name": "stdout",
          "text": [
            "                   all       3347      10299      0.894      0.752      0.837      0.544\n",
            "\n",
            "      Epoch    GPU_mem   box_loss   cls_loss   dfl_loss  Instances       Size\n"
          ]
        },
        {
          "output_type": "stream",
          "name": "stderr",
          "text": [
            "      10/10       2.9G      1.182     0.6546      1.127         17        640: 100%|██████████| 837/837 [01:17<00:00, 10.75it/s]\n",
            "                 Class     Images  Instances      Box(P          R      mAP50  mAP50-95): 100%|██████████| 105/105 [00:13<00:00,  7.97it/s]"
          ]
        },
        {
          "output_type": "stream",
          "name": "stdout",
          "text": [
            "                   all       3347      10299      0.887      0.764      0.845      0.555\n"
          ]
        },
        {
          "output_type": "stream",
          "name": "stderr",
          "text": [
            "\n"
          ]
        },
        {
          "output_type": "stream",
          "name": "stdout",
          "text": [
            "\n",
            "10 epochs completed in 0.261 hours.\n",
            "Optimizer stripped from runs/detect/custom_yolo_training2/weights/last.pt, 6.2MB\n",
            "Optimizer stripped from runs/detect/custom_yolo_training2/weights/best.pt, 6.2MB\n",
            "\n",
            "Validating runs/detect/custom_yolo_training2/weights/best.pt...\n",
            "Ultralytics 8.3.40 🚀 Python-3.10.12 torch-2.5.1+cu121 CUDA:0 (NVIDIA A100-SXM4-40GB, 40514MiB)\n",
            "Model summary (fused): 168 layers, 3,005,843 parameters, 0 gradients, 8.1 GFLOPs\n"
          ]
        },
        {
          "output_type": "stream",
          "name": "stderr",
          "text": [
            "                 Class     Images  Instances      Box(P          R      mAP50  mAP50-95): 100%|██████████| 105/105 [00:19<00:00,  5.46it/s]\n"
          ]
        },
        {
          "output_type": "stream",
          "name": "stdout",
          "text": [
            "                   all       3347      10299      0.886      0.758      0.842      0.556\n",
            "Speed: 0.1ms preprocess, 1.6ms inference, 0.0ms loss, 0.8ms postprocess per image\n",
            "Results saved to \u001b[1mruns/detect/custom_yolo_training2\u001b[0m\n"
          ]
        },
        {
          "output_type": "execute_result",
          "data": {
            "text/plain": [
              "ultralytics.utils.metrics.DetMetrics object with attributes:\n",
              "\n",
              "ap_class_index: array([0])\n",
              "box: ultralytics.utils.metrics.Metric object\n",
              "confusion_matrix: <ultralytics.utils.metrics.ConfusionMatrix object at 0x79a4e4667820>\n",
              "curves: ['Precision-Recall(B)', 'F1-Confidence(B)', 'Precision-Confidence(B)', 'Recall-Confidence(B)']\n",
              "curves_results: [[array([          0,    0.001001,    0.002002,    0.003003,    0.004004,    0.005005,    0.006006,    0.007007,    0.008008,    0.009009,     0.01001,    0.011011,    0.012012,    0.013013,    0.014014,    0.015015,    0.016016,    0.017017,    0.018018,    0.019019,     0.02002,    0.021021,    0.022022,    0.023023,\n",
              "          0.024024,    0.025025,    0.026026,    0.027027,    0.028028,    0.029029,     0.03003,    0.031031,    0.032032,    0.033033,    0.034034,    0.035035,    0.036036,    0.037037,    0.038038,    0.039039,     0.04004,    0.041041,    0.042042,    0.043043,    0.044044,    0.045045,    0.046046,    0.047047,\n",
              "          0.048048,    0.049049,     0.05005,    0.051051,    0.052052,    0.053053,    0.054054,    0.055055,    0.056056,    0.057057,    0.058058,    0.059059,     0.06006,    0.061061,    0.062062,    0.063063,    0.064064,    0.065065,    0.066066,    0.067067,    0.068068,    0.069069,     0.07007,    0.071071,\n",
              "          0.072072,    0.073073,    0.074074,    0.075075,    0.076076,    0.077077,    0.078078,    0.079079,     0.08008,    0.081081,    0.082082,    0.083083,    0.084084,    0.085085,    0.086086,    0.087087,    0.088088,    0.089089,     0.09009,    0.091091,    0.092092,    0.093093,    0.094094,    0.095095,\n",
              "          0.096096,    0.097097,    0.098098,    0.099099,      0.1001,      0.1011,      0.1021,      0.1031,      0.1041,     0.10511,     0.10611,     0.10711,     0.10811,     0.10911,     0.11011,     0.11111,     0.11211,     0.11311,     0.11411,     0.11512,     0.11612,     0.11712,     0.11812,     0.11912,\n",
              "           0.12012,     0.12112,     0.12212,     0.12312,     0.12412,     0.12513,     0.12613,     0.12713,     0.12813,     0.12913,     0.13013,     0.13113,     0.13213,     0.13313,     0.13413,     0.13514,     0.13614,     0.13714,     0.13814,     0.13914,     0.14014,     0.14114,     0.14214,     0.14314,\n",
              "           0.14414,     0.14515,     0.14615,     0.14715,     0.14815,     0.14915,     0.15015,     0.15115,     0.15215,     0.15315,     0.15415,     0.15516,     0.15616,     0.15716,     0.15816,     0.15916,     0.16016,     0.16116,     0.16216,     0.16316,     0.16416,     0.16517,     0.16617,     0.16717,\n",
              "           0.16817,     0.16917,     0.17017,     0.17117,     0.17217,     0.17317,     0.17417,     0.17518,     0.17618,     0.17718,     0.17818,     0.17918,     0.18018,     0.18118,     0.18218,     0.18318,     0.18418,     0.18519,     0.18619,     0.18719,     0.18819,     0.18919,     0.19019,     0.19119,\n",
              "           0.19219,     0.19319,     0.19419,      0.1952,      0.1962,      0.1972,      0.1982,      0.1992,      0.2002,      0.2012,      0.2022,      0.2032,      0.2042,     0.20521,     0.20621,     0.20721,     0.20821,     0.20921,     0.21021,     0.21121,     0.21221,     0.21321,     0.21421,     0.21522,\n",
              "           0.21622,     0.21722,     0.21822,     0.21922,     0.22022,     0.22122,     0.22222,     0.22322,     0.22422,     0.22523,     0.22623,     0.22723,     0.22823,     0.22923,     0.23023,     0.23123,     0.23223,     0.23323,     0.23423,     0.23524,     0.23624,     0.23724,     0.23824,     0.23924,\n",
              "           0.24024,     0.24124,     0.24224,     0.24324,     0.24424,     0.24525,     0.24625,     0.24725,     0.24825,     0.24925,     0.25025,     0.25125,     0.25225,     0.25325,     0.25425,     0.25526,     0.25626,     0.25726,     0.25826,     0.25926,     0.26026,     0.26126,     0.26226,     0.26326,\n",
              "           0.26426,     0.26527,     0.26627,     0.26727,     0.26827,     0.26927,     0.27027,     0.27127,     0.27227,     0.27327,     0.27427,     0.27528,     0.27628,     0.27728,     0.27828,     0.27928,     0.28028,     0.28128,     0.28228,     0.28328,     0.28428,     0.28529,     0.28629,     0.28729,\n",
              "           0.28829,     0.28929,     0.29029,     0.29129,     0.29229,     0.29329,     0.29429,      0.2953,      0.2963,      0.2973,      0.2983,      0.2993,      0.3003,      0.3013,      0.3023,      0.3033,      0.3043,     0.30531,     0.30631,     0.30731,     0.30831,     0.30931,     0.31031,     0.31131,\n",
              "           0.31231,     0.31331,     0.31431,     0.31532,     0.31632,     0.31732,     0.31832,     0.31932,     0.32032,     0.32132,     0.32232,     0.32332,     0.32432,     0.32533,     0.32633,     0.32733,     0.32833,     0.32933,     0.33033,     0.33133,     0.33233,     0.33333,     0.33433,     0.33534,\n",
              "           0.33634,     0.33734,     0.33834,     0.33934,     0.34034,     0.34134,     0.34234,     0.34334,     0.34434,     0.34535,     0.34635,     0.34735,     0.34835,     0.34935,     0.35035,     0.35135,     0.35235,     0.35335,     0.35435,     0.35536,     0.35636,     0.35736,     0.35836,     0.35936,\n",
              "           0.36036,     0.36136,     0.36236,     0.36336,     0.36436,     0.36537,     0.36637,     0.36737,     0.36837,     0.36937,     0.37037,     0.37137,     0.37237,     0.37337,     0.37437,     0.37538,     0.37638,     0.37738,     0.37838,     0.37938,     0.38038,     0.38138,     0.38238,     0.38338,\n",
              "           0.38438,     0.38539,     0.38639,     0.38739,     0.38839,     0.38939,     0.39039,     0.39139,     0.39239,     0.39339,     0.39439,      0.3954,      0.3964,      0.3974,      0.3984,      0.3994,      0.4004,      0.4014,      0.4024,      0.4034,      0.4044,     0.40541,     0.40641,     0.40741,\n",
              "           0.40841,     0.40941,     0.41041,     0.41141,     0.41241,     0.41341,     0.41441,     0.41542,     0.41642,     0.41742,     0.41842,     0.41942,     0.42042,     0.42142,     0.42242,     0.42342,     0.42442,     0.42543,     0.42643,     0.42743,     0.42843,     0.42943,     0.43043,     0.43143,\n",
              "           0.43243,     0.43343,     0.43443,     0.43544,     0.43644,     0.43744,     0.43844,     0.43944,     0.44044,     0.44144,     0.44244,     0.44344,     0.44444,     0.44545,     0.44645,     0.44745,     0.44845,     0.44945,     0.45045,     0.45145,     0.45245,     0.45345,     0.45445,     0.45546,\n",
              "           0.45646,     0.45746,     0.45846,     0.45946,     0.46046,     0.46146,     0.46246,     0.46346,     0.46446,     0.46547,     0.46647,     0.46747,     0.46847,     0.46947,     0.47047,     0.47147,     0.47247,     0.47347,     0.47447,     0.47548,     0.47648,     0.47748,     0.47848,     0.47948,\n",
              "           0.48048,     0.48148,     0.48248,     0.48348,     0.48448,     0.48549,     0.48649,     0.48749,     0.48849,     0.48949,     0.49049,     0.49149,     0.49249,     0.49349,     0.49449,      0.4955,      0.4965,      0.4975,      0.4985,      0.4995,      0.5005,      0.5015,      0.5025,      0.5035,\n",
              "            0.5045,     0.50551,     0.50651,     0.50751,     0.50851,     0.50951,     0.51051,     0.51151,     0.51251,     0.51351,     0.51451,     0.51552,     0.51652,     0.51752,     0.51852,     0.51952,     0.52052,     0.52152,     0.52252,     0.52352,     0.52452,     0.52553,     0.52653,     0.52753,\n",
              "           0.52853,     0.52953,     0.53053,     0.53153,     0.53253,     0.53353,     0.53453,     0.53554,     0.53654,     0.53754,     0.53854,     0.53954,     0.54054,     0.54154,     0.54254,     0.54354,     0.54454,     0.54555,     0.54655,     0.54755,     0.54855,     0.54955,     0.55055,     0.55155,\n",
              "           0.55255,     0.55355,     0.55455,     0.55556,     0.55656,     0.55756,     0.55856,     0.55956,     0.56056,     0.56156,     0.56256,     0.56356,     0.56456,     0.56557,     0.56657,     0.56757,     0.56857,     0.56957,     0.57057,     0.57157,     0.57257,     0.57357,     0.57457,     0.57558,\n",
              "           0.57658,     0.57758,     0.57858,     0.57958,     0.58058,     0.58158,     0.58258,     0.58358,     0.58458,     0.58559,     0.58659,     0.58759,     0.58859,     0.58959,     0.59059,     0.59159,     0.59259,     0.59359,     0.59459,      0.5956,      0.5966,      0.5976,      0.5986,      0.5996,\n",
              "            0.6006,      0.6016,      0.6026,      0.6036,      0.6046,     0.60561,     0.60661,     0.60761,     0.60861,     0.60961,     0.61061,     0.61161,     0.61261,     0.61361,     0.61461,     0.61562,     0.61662,     0.61762,     0.61862,     0.61962,     0.62062,     0.62162,     0.62262,     0.62362,\n",
              "           0.62462,     0.62563,     0.62663,     0.62763,     0.62863,     0.62963,     0.63063,     0.63163,     0.63263,     0.63363,     0.63463,     0.63564,     0.63664,     0.63764,     0.63864,     0.63964,     0.64064,     0.64164,     0.64264,     0.64364,     0.64464,     0.64565,     0.64665,     0.64765,\n",
              "           0.64865,     0.64965,     0.65065,     0.65165,     0.65265,     0.65365,     0.65465,     0.65566,     0.65666,     0.65766,     0.65866,     0.65966,     0.66066,     0.66166,     0.66266,     0.66366,     0.66466,     0.66567,     0.66667,     0.66767,     0.66867,     0.66967,     0.67067,     0.67167,\n",
              "           0.67267,     0.67367,     0.67467,     0.67568,     0.67668,     0.67768,     0.67868,     0.67968,     0.68068,     0.68168,     0.68268,     0.68368,     0.68468,     0.68569,     0.68669,     0.68769,     0.68869,     0.68969,     0.69069,     0.69169,     0.69269,     0.69369,     0.69469,      0.6957,\n",
              "            0.6967,      0.6977,      0.6987,      0.6997,      0.7007,      0.7017,      0.7027,      0.7037,      0.7047,     0.70571,     0.70671,     0.70771,     0.70871,     0.70971,     0.71071,     0.71171,     0.71271,     0.71371,     0.71471,     0.71572,     0.71672,     0.71772,     0.71872,     0.71972,\n",
              "           0.72072,     0.72172,     0.72272,     0.72372,     0.72472,     0.72573,     0.72673,     0.72773,     0.72873,     0.72973,     0.73073,     0.73173,     0.73273,     0.73373,     0.73473,     0.73574,     0.73674,     0.73774,     0.73874,     0.73974,     0.74074,     0.74174,     0.74274,     0.74374,\n",
              "           0.74474,     0.74575,     0.74675,     0.74775,     0.74875,     0.74975,     0.75075,     0.75175,     0.75275,     0.75375,     0.75475,     0.75576,     0.75676,     0.75776,     0.75876,     0.75976,     0.76076,     0.76176,     0.76276,     0.76376,     0.76476,     0.76577,     0.76677,     0.76777,\n",
              "           0.76877,     0.76977,     0.77077,     0.77177,     0.77277,     0.77377,     0.77477,     0.77578,     0.77678,     0.77778,     0.77878,     0.77978,     0.78078,     0.78178,     0.78278,     0.78378,     0.78478,     0.78579,     0.78679,     0.78779,     0.78879,     0.78979,     0.79079,     0.79179,\n",
              "           0.79279,     0.79379,     0.79479,      0.7958,      0.7968,      0.7978,      0.7988,      0.7998,      0.8008,      0.8018,      0.8028,      0.8038,      0.8048,     0.80581,     0.80681,     0.80781,     0.80881,     0.80981,     0.81081,     0.81181,     0.81281,     0.81381,     0.81481,     0.81582,\n",
              "           0.81682,     0.81782,     0.81882,     0.81982,     0.82082,     0.82182,     0.82282,     0.82382,     0.82482,     0.82583,     0.82683,     0.82783,     0.82883,     0.82983,     0.83083,     0.83183,     0.83283,     0.83383,     0.83483,     0.83584,     0.83684,     0.83784,     0.83884,     0.83984,\n",
              "           0.84084,     0.84184,     0.84284,     0.84384,     0.84484,     0.84585,     0.84685,     0.84785,     0.84885,     0.84985,     0.85085,     0.85185,     0.85285,     0.85385,     0.85485,     0.85586,     0.85686,     0.85786,     0.85886,     0.85986,     0.86086,     0.86186,     0.86286,     0.86386,\n",
              "           0.86486,     0.86587,     0.86687,     0.86787,     0.86887,     0.86987,     0.87087,     0.87187,     0.87287,     0.87387,     0.87487,     0.87588,     0.87688,     0.87788,     0.87888,     0.87988,     0.88088,     0.88188,     0.88288,     0.88388,     0.88488,     0.88589,     0.88689,     0.88789,\n",
              "           0.88889,     0.88989,     0.89089,     0.89189,     0.89289,     0.89389,     0.89489,      0.8959,      0.8969,      0.8979,      0.8989,      0.8999,      0.9009,      0.9019,      0.9029,      0.9039,      0.9049,     0.90591,     0.90691,     0.90791,     0.90891,     0.90991,     0.91091,     0.91191,\n",
              "           0.91291,     0.91391,     0.91491,     0.91592,     0.91692,     0.91792,     0.91892,     0.91992,     0.92092,     0.92192,     0.92292,     0.92392,     0.92492,     0.92593,     0.92693,     0.92793,     0.92893,     0.92993,     0.93093,     0.93193,     0.93293,     0.93393,     0.93493,     0.93594,\n",
              "           0.93694,     0.93794,     0.93894,     0.93994,     0.94094,     0.94194,     0.94294,     0.94394,     0.94494,     0.94595,     0.94695,     0.94795,     0.94895,     0.94995,     0.95095,     0.95195,     0.95295,     0.95395,     0.95495,     0.95596,     0.95696,     0.95796,     0.95896,     0.95996,\n",
              "           0.96096,     0.96196,     0.96296,     0.96396,     0.96496,     0.96597,     0.96697,     0.96797,     0.96897,     0.96997,     0.97097,     0.97197,     0.97297,     0.97397,     0.97497,     0.97598,     0.97698,     0.97798,     0.97898,     0.97998,     0.98098,     0.98198,     0.98298,     0.98398,\n",
              "           0.98498,     0.98599,     0.98699,     0.98799,     0.98899,     0.98999,     0.99099,     0.99199,     0.99299,     0.99399,     0.99499,       0.996,       0.997,       0.998,       0.999,           1]), array([[          1,           1,           1,           1,           1,           1,           1,           1,           1,           1,           1,           1,           1,           1,           1,           1,           1,           1,           1,           1,           1,           1,           1,\n",
              "                  1,           1,           1,           1,           1,           1,           1,           1,     0.99906,     0.99906,     0.99906,     0.99906,     0.99906,     0.99906,     0.99906,     0.99906,     0.99906,     0.99906,     0.99906,     0.99906,     0.99906,     0.99906,     0.99906,\n",
              "            0.99906,     0.99906,     0.99906,     0.99906,     0.99906,     0.99906,     0.99906,     0.99906,     0.99906,     0.99906,     0.99906,     0.99906,     0.99906,     0.99906,     0.99906,     0.99906,     0.99906,     0.99906,     0.99906,     0.99906,     0.99906,     0.99906,     0.99906,\n",
              "            0.99906,     0.99906,     0.99906,     0.99906,     0.99906,     0.99906,     0.99906,     0.99906,     0.99906,     0.99906,     0.99906,     0.99906,     0.99906,     0.99906,     0.99906,     0.99906,     0.99906,     0.99906,     0.99906,     0.99906,     0.99906,     0.99906,     0.99906,\n",
              "            0.99906,     0.99906,     0.99906,     0.99906,     0.99906,     0.99906,     0.99906,     0.99906,     0.99906,     0.99906,     0.99906,     0.99865,     0.99865,     0.99865,     0.99865,     0.99865,     0.99865,     0.99865,     0.99865,     0.99865,     0.99865,     0.99865,     0.99865,\n",
              "            0.99865,     0.99865,     0.99865,     0.99865,     0.99865,     0.99865,     0.99865,     0.99865,     0.99865,     0.99865,     0.99865,     0.99865,     0.99865,     0.99865,     0.99865,     0.99865,     0.99865,     0.99865,     0.99865,     0.99865,     0.99865,     0.99865,     0.99865,\n",
              "            0.99865,     0.99865,     0.99865,     0.99865,     0.99865,     0.99865,     0.99802,     0.99802,     0.99802,      0.9975,      0.9975,      0.9975,      0.9975,      0.9975,      0.9975,      0.9975,      0.9975,      0.9975,     0.99711,     0.99711,     0.99711,     0.99711,     0.99711,\n",
              "            0.99711,     0.99711,     0.99711,     0.99711,     0.99711,     0.99711,     0.99711,     0.99656,     0.99602,      0.9958,      0.9958,      0.9958,      0.9958,      0.9958,      0.9958,      0.9958,      0.9958,      0.9958,      0.9958,      0.9958,      0.9958,      0.9958,      0.9958,\n",
              "            0.99577,     0.99577,     0.99577,     0.99577,     0.99577,     0.99577,     0.99577,     0.99577,     0.99577,     0.99577,     0.99577,     0.99577,     0.99577,     0.99577,     0.99577,     0.99577,     0.99577,     0.99577,     0.99577,     0.99577,     0.99577,     0.99577,     0.99577,\n",
              "            0.99577,     0.99577,     0.99577,     0.99577,     0.99577,     0.99577,     0.99577,     0.99577,     0.99577,     0.99577,     0.99577,     0.99577,     0.99577,     0.99577,     0.99577,     0.99577,     0.99577,     0.99577,     0.99577,     0.99577,     0.99577,     0.99577,     0.99577,\n",
              "            0.99577,     0.99577,     0.99577,     0.99577,     0.99577,     0.99577,     0.99577,     0.99577,     0.99577,     0.99577,     0.99577,     0.99577,     0.99577,     0.99577,     0.99577,     0.99577,     0.99577,     0.99577,     0.99577,     0.99577,     0.99577,     0.99577,     0.99569,\n",
              "            0.99569,     0.99569,     0.99569,     0.99569,     0.99569,     0.99569,     0.99569,     0.99569,     0.99569,     0.99569,     0.99569,     0.99569,     0.99569,     0.99569,     0.99569,     0.99569,     0.99569,     0.99569,     0.99569,     0.99569,     0.99569,     0.99569,     0.99569,\n",
              "            0.99569,     0.99569,     0.99569,     0.99569,     0.99569,     0.99569,     0.99569,     0.99569,     0.99569,     0.99569,     0.99569,     0.99569,     0.99569,     0.99569,     0.99569,     0.99569,     0.99541,     0.99541,     0.99541,     0.99525,     0.99525,     0.99525,     0.99525,\n",
              "            0.99525,     0.99525,     0.99525,     0.99525,     0.99525,     0.99525,     0.99464,      0.9944,      0.9944,      0.9944,      0.9944,      0.9944,     0.99395,     0.99395,     0.99395,     0.99395,     0.99395,     0.99395,     0.99395,     0.99395,     0.99367,      0.9934,      0.9934,\n",
              "            0.99318,     0.99318,     0.99318,     0.99318,     0.99318,     0.99318,     0.99318,     0.99318,     0.99318,     0.99318,     0.99318,     0.99318,     0.99318,     0.99318,     0.99318,     0.99318,     0.99318,      0.9929,      0.9925,      0.9925,      0.9925,      0.9925,      0.9925,\n",
              "             0.9925,      0.9925,     0.99225,     0.99202,     0.99202,     0.99177,     0.99153,     0.99137,     0.99137,     0.99137,     0.99137,     0.99137,     0.99116,     0.99116,     0.99091,     0.99085,     0.99085,     0.99085,     0.99085,     0.99085,     0.99085,     0.99085,     0.99085,\n",
              "            0.99061,     0.99057,     0.99057,     0.99057,     0.99057,     0.99057,     0.99057,     0.99057,     0.99057,     0.99007,     0.98987,     0.98987,     0.98968,     0.98968,     0.98968,     0.98968,     0.98968,     0.98968,     0.98968,     0.98968,     0.98968,     0.98968,     0.98968,\n",
              "            0.98951,     0.98951,     0.98951,      0.9894,      0.9894,      0.9894,      0.9894,      0.9894,     0.98933,     0.98933,     0.98933,     0.98933,     0.98933,     0.98933,     0.98933,     0.98933,     0.98933,     0.98933,     0.98933,     0.98933,     0.98933,     0.98933,     0.98933,\n",
              "            0.98933,     0.98933,     0.98933,     0.98933,     0.98933,     0.98933,     0.98933,     0.98933,     0.98933,     0.98913,     0.98898,     0.98898,     0.98898,     0.98885,     0.98885,     0.98885,     0.98867,     0.98867,     0.98852,     0.98852,     0.98852,     0.98833,     0.98816,\n",
              "            0.98816,     0.98777,     0.98777,     0.98777,     0.98777,     0.98777,     0.98777,     0.98777,     0.98777,     0.98777,     0.98774,     0.98774,     0.98774,     0.98774,     0.98774,     0.98774,     0.98774,     0.98762,     0.98762,     0.98762,     0.98745,     0.98738,     0.98738,\n",
              "            0.98738,     0.98738,     0.98738,       0.987,     0.98686,     0.98686,     0.98686,     0.98669,     0.98663,     0.98663,     0.98663,     0.98663,     0.98663,     0.98646,     0.98629,     0.98611,     0.98589,     0.98589,     0.98589,     0.98589,     0.98589,     0.98589,      0.9858,\n",
              "             0.9858,      0.9858,     0.98542,     0.98529,     0.98529,     0.98488,     0.98488,     0.98488,     0.98488,     0.98488,     0.98457,     0.98457,     0.98457,      0.9843,      0.9843,      0.9843,     0.98396,     0.98368,     0.98368,     0.98368,     0.98357,     0.98357,     0.98357,\n",
              "            0.98351,     0.98351,     0.98351,     0.98351,     0.98337,     0.98333,     0.98333,     0.98333,     0.98333,     0.98316,     0.98305,     0.98305,     0.98294,     0.98294,     0.98286,     0.98286,     0.98286,      0.9828,      0.9828,      0.9828,      0.9828,     0.98255,     0.98255,\n",
              "            0.98255,     0.98228,     0.98228,     0.98228,     0.98213,       0.982,     0.98187,     0.98171,     0.98147,     0.98147,     0.98147,     0.98139,     0.98139,     0.98139,     0.98139,     0.98139,     0.98139,     0.98139,     0.98139,     0.98126,     0.98115,     0.98115,     0.98101,\n",
              "            0.98072,      0.9806,     0.98046,     0.98035,     0.98035,     0.98035,     0.98035,     0.98035,     0.98035,     0.98035,     0.98005,     0.97982,     0.97982,     0.97982,     0.97936,     0.97907,     0.97878,     0.97851,     0.97822,     0.97779,     0.97779,     0.97735,     0.97727,\n",
              "            0.97727,     0.97703,     0.97703,     0.97658,     0.97648,     0.97635,     0.97592,     0.97564,     0.97537,     0.97522,     0.97494,     0.97473,     0.97473,     0.97444,     0.97424,     0.97424,     0.97349,     0.97322,     0.97299,     0.97299,     0.97266,     0.97266,     0.97256,\n",
              "            0.97256,     0.97245,      0.9722,     0.97195,     0.97172,     0.97172,     0.97132,     0.97111,     0.97111,     0.97099,     0.97088,     0.97065,     0.97053,     0.97031,     0.97021,     0.97013,     0.97013,     0.97002,     0.96935,     0.96924,     0.96883,     0.96861,     0.96852,\n",
              "            0.96841,     0.96817,     0.96778,     0.96755,     0.96751,     0.96751,     0.96742,     0.96729,     0.96705,     0.96697,     0.96688,     0.96671,     0.96671,      0.9666,     0.96579,     0.96572,     0.96562,     0.96551,     0.96528,     0.96491,     0.96454,     0.96419,     0.96412,\n",
              "            0.96401,     0.96365,      0.9634,     0.96321,      0.9627,     0.96247,     0.96243,     0.96229,      0.9618,     0.96131,     0.96071,     0.96046,     0.96006,     0.96006,     0.95983,     0.95923,     0.95888,     0.95852,     0.95835,     0.95824,     0.95765,     0.95756,     0.95686,\n",
              "            0.95674,     0.95629,     0.95553,     0.95446,     0.95435,     0.95428,     0.95421,     0.95375,     0.95316,     0.95232,     0.95191,     0.95154,     0.95058,        0.95,     0.94918,     0.94898,     0.94869,     0.94849,     0.94818,     0.94746,     0.94746,     0.94727,      0.9467,\n",
              "            0.94652,     0.94558,     0.94455,     0.94423,     0.94368,     0.94264,     0.94137,     0.94096,     0.94066,     0.94013,     0.93852,     0.93799,     0.93771,     0.93704,     0.93628,       0.936,     0.93524,     0.93464,     0.93457,      0.9335,     0.93248,     0.93127,     0.93103,\n",
              "            0.93075,     0.93013,     0.92881,     0.92809,     0.92727,     0.92654,      0.9257,     0.92501,     0.92428,     0.92267,     0.92173,     0.92001,      0.9181,     0.91799,     0.91761,      0.9166,     0.91492,     0.91435,     0.91347,     0.91282,     0.91259,     0.91203,     0.91072,\n",
              "            0.90915,     0.90863,     0.90662,     0.90573,     0.90423,     0.90275,     0.90206,     0.90139,     0.90059,     0.89994,     0.89966,     0.89883,     0.89737,     0.89603,     0.89514,     0.89423,     0.89322,     0.89241,     0.89183,     0.89001,     0.88942,     0.88643,     0.88535,\n",
              "            0.88408,     0.88264,      0.8815,     0.88056,     0.87863,     0.87776,     0.87488,     0.87269,     0.87105,     0.86935,     0.86664,     0.86425,     0.86226,     0.86065,     0.85874,     0.85728,     0.85592,     0.85418,     0.85153,     0.84914,     0.84865,     0.84769,     0.84598,\n",
              "            0.84428,      0.8412,     0.83755,     0.83597,     0.83325,     0.83093,     0.82898,     0.82775,     0.82523,     0.82307,     0.82079,     0.81825,     0.81445,     0.81277,     0.81161,     0.80789,     0.80491,     0.80333,     0.79984,     0.79628,     0.79464,     0.79142,       0.788,\n",
              "            0.78329,     0.78028,     0.77612,     0.77352,     0.77003,     0.76756,     0.76419,      0.7604,     0.75793,     0.75157,       0.747,     0.74208,     0.73763,     0.73582,     0.73324,     0.72974,     0.72534,     0.72232,     0.72011,     0.71549,      0.7112,     0.70737,     0.70329,\n",
              "            0.69872,     0.69223,     0.68764,     0.68437,     0.67966,     0.67707,     0.67114,     0.66628,     0.66097,     0.64987,     0.64555,     0.64136,     0.63616,     0.63117,     0.62557,     0.61783,     0.60777,     0.60593,     0.59842,     0.59028,     0.58446,     0.57837,     0.57129,\n",
              "            0.56341,     0.55807,     0.55253,     0.54867,     0.54558,     0.53956,     0.53496,     0.52923,     0.52266,     0.51769,     0.51422,     0.50818,     0.50448,      0.4988,     0.48965,     0.48361,     0.47713,     0.46971,     0.46446,      0.4503,     0.43983,     0.42681,     0.42203,\n",
              "            0.41658,     0.40917,     0.39988,     0.39286,      0.3848,     0.37924,     0.37439,     0.36531,     0.35754,      0.3505,      0.3478,     0.34177,     0.33507,     0.33195,     0.32429,     0.31852,     0.31005,     0.30114,     0.29331,     0.28316,     0.27173,     0.26513,     0.25364,\n",
              "            0.24713,     0.23935,     0.23575,     0.22472,     0.21969,     0.21386,     0.20559,     0.20107,     0.19684,     0.18923,     0.18364,     0.17689,     0.16879,     0.16465,     0.15941,     0.15323,     0.14862,      0.1448,      0.1405,     0.13408,      0.1283,     0.12207,     0.11823,\n",
              "            0.11475,     0.11171,     0.10661,      0.1035,    0.095961,    0.091492,    0.087509,    0.082175,    0.075517,    0.071895,     0.06834,    0.065396,    0.062042,    0.057862,    0.053321,    0.050556,     0.04808,    0.045649,    0.044913,    0.044177,    0.043441,    0.042704,    0.041968,\n",
              "           0.041232,    0.040495,    0.039759,    0.039023,    0.038287,     0.03755,    0.036814,    0.036078,    0.035341,    0.034605,    0.033869,    0.033133,    0.032396,     0.03166,    0.030924,    0.030188,    0.029451,    0.028715,    0.027979,    0.027242,    0.026506,     0.02577,    0.025034,\n",
              "           0.024297,    0.023561,    0.022825,    0.022088,    0.021352,    0.020616,     0.01988,    0.019143,    0.018407,    0.017671,    0.016934,    0.016198,    0.015462,    0.014726,    0.013989,    0.013253,    0.012517,     0.01178,    0.011044,    0.010308,   0.0095716,   0.0088354,   0.0080991,\n",
              "          0.0073628,   0.0066265,   0.0058902,    0.005154,   0.0044177,   0.0036814,   0.0029451,   0.0022088,   0.0014726,  0.00073628,           0]]), 'Recall', 'Precision'], [array([          0,    0.001001,    0.002002,    0.003003,    0.004004,    0.005005,    0.006006,    0.007007,    0.008008,    0.009009,     0.01001,    0.011011,    0.012012,    0.013013,    0.014014,    0.015015,    0.016016,    0.017017,    0.018018,    0.019019,     0.02002,    0.021021,    0.022022,    0.023023,\n",
              "          0.024024,    0.025025,    0.026026,    0.027027,    0.028028,    0.029029,     0.03003,    0.031031,    0.032032,    0.033033,    0.034034,    0.035035,    0.036036,    0.037037,    0.038038,    0.039039,     0.04004,    0.041041,    0.042042,    0.043043,    0.044044,    0.045045,    0.046046,    0.047047,\n",
              "          0.048048,    0.049049,     0.05005,    0.051051,    0.052052,    0.053053,    0.054054,    0.055055,    0.056056,    0.057057,    0.058058,    0.059059,     0.06006,    0.061061,    0.062062,    0.063063,    0.064064,    0.065065,    0.066066,    0.067067,    0.068068,    0.069069,     0.07007,    0.071071,\n",
              "          0.072072,    0.073073,    0.074074,    0.075075,    0.076076,    0.077077,    0.078078,    0.079079,     0.08008,    0.081081,    0.082082,    0.083083,    0.084084,    0.085085,    0.086086,    0.087087,    0.088088,    0.089089,     0.09009,    0.091091,    0.092092,    0.093093,    0.094094,    0.095095,\n",
              "          0.096096,    0.097097,    0.098098,    0.099099,      0.1001,      0.1011,      0.1021,      0.1031,      0.1041,     0.10511,     0.10611,     0.10711,     0.10811,     0.10911,     0.11011,     0.11111,     0.11211,     0.11311,     0.11411,     0.11512,     0.11612,     0.11712,     0.11812,     0.11912,\n",
              "           0.12012,     0.12112,     0.12212,     0.12312,     0.12412,     0.12513,     0.12613,     0.12713,     0.12813,     0.12913,     0.13013,     0.13113,     0.13213,     0.13313,     0.13413,     0.13514,     0.13614,     0.13714,     0.13814,     0.13914,     0.14014,     0.14114,     0.14214,     0.14314,\n",
              "           0.14414,     0.14515,     0.14615,     0.14715,     0.14815,     0.14915,     0.15015,     0.15115,     0.15215,     0.15315,     0.15415,     0.15516,     0.15616,     0.15716,     0.15816,     0.15916,     0.16016,     0.16116,     0.16216,     0.16316,     0.16416,     0.16517,     0.16617,     0.16717,\n",
              "           0.16817,     0.16917,     0.17017,     0.17117,     0.17217,     0.17317,     0.17417,     0.17518,     0.17618,     0.17718,     0.17818,     0.17918,     0.18018,     0.18118,     0.18218,     0.18318,     0.18418,     0.18519,     0.18619,     0.18719,     0.18819,     0.18919,     0.19019,     0.19119,\n",
              "           0.19219,     0.19319,     0.19419,      0.1952,      0.1962,      0.1972,      0.1982,      0.1992,      0.2002,      0.2012,      0.2022,      0.2032,      0.2042,     0.20521,     0.20621,     0.20721,     0.20821,     0.20921,     0.21021,     0.21121,     0.21221,     0.21321,     0.21421,     0.21522,\n",
              "           0.21622,     0.21722,     0.21822,     0.21922,     0.22022,     0.22122,     0.22222,     0.22322,     0.22422,     0.22523,     0.22623,     0.22723,     0.22823,     0.22923,     0.23023,     0.23123,     0.23223,     0.23323,     0.23423,     0.23524,     0.23624,     0.23724,     0.23824,     0.23924,\n",
              "           0.24024,     0.24124,     0.24224,     0.24324,     0.24424,     0.24525,     0.24625,     0.24725,     0.24825,     0.24925,     0.25025,     0.25125,     0.25225,     0.25325,     0.25425,     0.25526,     0.25626,     0.25726,     0.25826,     0.25926,     0.26026,     0.26126,     0.26226,     0.26326,\n",
              "           0.26426,     0.26527,     0.26627,     0.26727,     0.26827,     0.26927,     0.27027,     0.27127,     0.27227,     0.27327,     0.27427,     0.27528,     0.27628,     0.27728,     0.27828,     0.27928,     0.28028,     0.28128,     0.28228,     0.28328,     0.28428,     0.28529,     0.28629,     0.28729,\n",
              "           0.28829,     0.28929,     0.29029,     0.29129,     0.29229,     0.29329,     0.29429,      0.2953,      0.2963,      0.2973,      0.2983,      0.2993,      0.3003,      0.3013,      0.3023,      0.3033,      0.3043,     0.30531,     0.30631,     0.30731,     0.30831,     0.30931,     0.31031,     0.31131,\n",
              "           0.31231,     0.31331,     0.31431,     0.31532,     0.31632,     0.31732,     0.31832,     0.31932,     0.32032,     0.32132,     0.32232,     0.32332,     0.32432,     0.32533,     0.32633,     0.32733,     0.32833,     0.32933,     0.33033,     0.33133,     0.33233,     0.33333,     0.33433,     0.33534,\n",
              "           0.33634,     0.33734,     0.33834,     0.33934,     0.34034,     0.34134,     0.34234,     0.34334,     0.34434,     0.34535,     0.34635,     0.34735,     0.34835,     0.34935,     0.35035,     0.35135,     0.35235,     0.35335,     0.35435,     0.35536,     0.35636,     0.35736,     0.35836,     0.35936,\n",
              "           0.36036,     0.36136,     0.36236,     0.36336,     0.36436,     0.36537,     0.36637,     0.36737,     0.36837,     0.36937,     0.37037,     0.37137,     0.37237,     0.37337,     0.37437,     0.37538,     0.37638,     0.37738,     0.37838,     0.37938,     0.38038,     0.38138,     0.38238,     0.38338,\n",
              "           0.38438,     0.38539,     0.38639,     0.38739,     0.38839,     0.38939,     0.39039,     0.39139,     0.39239,     0.39339,     0.39439,      0.3954,      0.3964,      0.3974,      0.3984,      0.3994,      0.4004,      0.4014,      0.4024,      0.4034,      0.4044,     0.40541,     0.40641,     0.40741,\n",
              "           0.40841,     0.40941,     0.41041,     0.41141,     0.41241,     0.41341,     0.41441,     0.41542,     0.41642,     0.41742,     0.41842,     0.41942,     0.42042,     0.42142,     0.42242,     0.42342,     0.42442,     0.42543,     0.42643,     0.42743,     0.42843,     0.42943,     0.43043,     0.43143,\n",
              "           0.43243,     0.43343,     0.43443,     0.43544,     0.43644,     0.43744,     0.43844,     0.43944,     0.44044,     0.44144,     0.44244,     0.44344,     0.44444,     0.44545,     0.44645,     0.44745,     0.44845,     0.44945,     0.45045,     0.45145,     0.45245,     0.45345,     0.45445,     0.45546,\n",
              "           0.45646,     0.45746,     0.45846,     0.45946,     0.46046,     0.46146,     0.46246,     0.46346,     0.46446,     0.46547,     0.46647,     0.46747,     0.46847,     0.46947,     0.47047,     0.47147,     0.47247,     0.47347,     0.47447,     0.47548,     0.47648,     0.47748,     0.47848,     0.47948,\n",
              "           0.48048,     0.48148,     0.48248,     0.48348,     0.48448,     0.48549,     0.48649,     0.48749,     0.48849,     0.48949,     0.49049,     0.49149,     0.49249,     0.49349,     0.49449,      0.4955,      0.4965,      0.4975,      0.4985,      0.4995,      0.5005,      0.5015,      0.5025,      0.5035,\n",
              "            0.5045,     0.50551,     0.50651,     0.50751,     0.50851,     0.50951,     0.51051,     0.51151,     0.51251,     0.51351,     0.51451,     0.51552,     0.51652,     0.51752,     0.51852,     0.51952,     0.52052,     0.52152,     0.52252,     0.52352,     0.52452,     0.52553,     0.52653,     0.52753,\n",
              "           0.52853,     0.52953,     0.53053,     0.53153,     0.53253,     0.53353,     0.53453,     0.53554,     0.53654,     0.53754,     0.53854,     0.53954,     0.54054,     0.54154,     0.54254,     0.54354,     0.54454,     0.54555,     0.54655,     0.54755,     0.54855,     0.54955,     0.55055,     0.55155,\n",
              "           0.55255,     0.55355,     0.55455,     0.55556,     0.55656,     0.55756,     0.55856,     0.55956,     0.56056,     0.56156,     0.56256,     0.56356,     0.56456,     0.56557,     0.56657,     0.56757,     0.56857,     0.56957,     0.57057,     0.57157,     0.57257,     0.57357,     0.57457,     0.57558,\n",
              "           0.57658,     0.57758,     0.57858,     0.57958,     0.58058,     0.58158,     0.58258,     0.58358,     0.58458,     0.58559,     0.58659,     0.58759,     0.58859,     0.58959,     0.59059,     0.59159,     0.59259,     0.59359,     0.59459,      0.5956,      0.5966,      0.5976,      0.5986,      0.5996,\n",
              "            0.6006,      0.6016,      0.6026,      0.6036,      0.6046,     0.60561,     0.60661,     0.60761,     0.60861,     0.60961,     0.61061,     0.61161,     0.61261,     0.61361,     0.61461,     0.61562,     0.61662,     0.61762,     0.61862,     0.61962,     0.62062,     0.62162,     0.62262,     0.62362,\n",
              "           0.62462,     0.62563,     0.62663,     0.62763,     0.62863,     0.62963,     0.63063,     0.63163,     0.63263,     0.63363,     0.63463,     0.63564,     0.63664,     0.63764,     0.63864,     0.63964,     0.64064,     0.64164,     0.64264,     0.64364,     0.64464,     0.64565,     0.64665,     0.64765,\n",
              "           0.64865,     0.64965,     0.65065,     0.65165,     0.65265,     0.65365,     0.65465,     0.65566,     0.65666,     0.65766,     0.65866,     0.65966,     0.66066,     0.66166,     0.66266,     0.66366,     0.66466,     0.66567,     0.66667,     0.66767,     0.66867,     0.66967,     0.67067,     0.67167,\n",
              "           0.67267,     0.67367,     0.67467,     0.67568,     0.67668,     0.67768,     0.67868,     0.67968,     0.68068,     0.68168,     0.68268,     0.68368,     0.68468,     0.68569,     0.68669,     0.68769,     0.68869,     0.68969,     0.69069,     0.69169,     0.69269,     0.69369,     0.69469,      0.6957,\n",
              "            0.6967,      0.6977,      0.6987,      0.6997,      0.7007,      0.7017,      0.7027,      0.7037,      0.7047,     0.70571,     0.70671,     0.70771,     0.70871,     0.70971,     0.71071,     0.71171,     0.71271,     0.71371,     0.71471,     0.71572,     0.71672,     0.71772,     0.71872,     0.71972,\n",
              "           0.72072,     0.72172,     0.72272,     0.72372,     0.72472,     0.72573,     0.72673,     0.72773,     0.72873,     0.72973,     0.73073,     0.73173,     0.73273,     0.73373,     0.73473,     0.73574,     0.73674,     0.73774,     0.73874,     0.73974,     0.74074,     0.74174,     0.74274,     0.74374,\n",
              "           0.74474,     0.74575,     0.74675,     0.74775,     0.74875,     0.74975,     0.75075,     0.75175,     0.75275,     0.75375,     0.75475,     0.75576,     0.75676,     0.75776,     0.75876,     0.75976,     0.76076,     0.76176,     0.76276,     0.76376,     0.76476,     0.76577,     0.76677,     0.76777,\n",
              "           0.76877,     0.76977,     0.77077,     0.77177,     0.77277,     0.77377,     0.77477,     0.77578,     0.77678,     0.77778,     0.77878,     0.77978,     0.78078,     0.78178,     0.78278,     0.78378,     0.78478,     0.78579,     0.78679,     0.78779,     0.78879,     0.78979,     0.79079,     0.79179,\n",
              "           0.79279,     0.79379,     0.79479,      0.7958,      0.7968,      0.7978,      0.7988,      0.7998,      0.8008,      0.8018,      0.8028,      0.8038,      0.8048,     0.80581,     0.80681,     0.80781,     0.80881,     0.80981,     0.81081,     0.81181,     0.81281,     0.81381,     0.81481,     0.81582,\n",
              "           0.81682,     0.81782,     0.81882,     0.81982,     0.82082,     0.82182,     0.82282,     0.82382,     0.82482,     0.82583,     0.82683,     0.82783,     0.82883,     0.82983,     0.83083,     0.83183,     0.83283,     0.83383,     0.83483,     0.83584,     0.83684,     0.83784,     0.83884,     0.83984,\n",
              "           0.84084,     0.84184,     0.84284,     0.84384,     0.84484,     0.84585,     0.84685,     0.84785,     0.84885,     0.84985,     0.85085,     0.85185,     0.85285,     0.85385,     0.85485,     0.85586,     0.85686,     0.85786,     0.85886,     0.85986,     0.86086,     0.86186,     0.86286,     0.86386,\n",
              "           0.86486,     0.86587,     0.86687,     0.86787,     0.86887,     0.86987,     0.87087,     0.87187,     0.87287,     0.87387,     0.87487,     0.87588,     0.87688,     0.87788,     0.87888,     0.87988,     0.88088,     0.88188,     0.88288,     0.88388,     0.88488,     0.88589,     0.88689,     0.88789,\n",
              "           0.88889,     0.88989,     0.89089,     0.89189,     0.89289,     0.89389,     0.89489,      0.8959,      0.8969,      0.8979,      0.8989,      0.8999,      0.9009,      0.9019,      0.9029,      0.9039,      0.9049,     0.90591,     0.90691,     0.90791,     0.90891,     0.90991,     0.91091,     0.91191,\n",
              "           0.91291,     0.91391,     0.91491,     0.91592,     0.91692,     0.91792,     0.91892,     0.91992,     0.92092,     0.92192,     0.92292,     0.92392,     0.92492,     0.92593,     0.92693,     0.92793,     0.92893,     0.92993,     0.93093,     0.93193,     0.93293,     0.93393,     0.93493,     0.93594,\n",
              "           0.93694,     0.93794,     0.93894,     0.93994,     0.94094,     0.94194,     0.94294,     0.94394,     0.94494,     0.94595,     0.94695,     0.94795,     0.94895,     0.94995,     0.95095,     0.95195,     0.95295,     0.95395,     0.95495,     0.95596,     0.95696,     0.95796,     0.95896,     0.95996,\n",
              "           0.96096,     0.96196,     0.96296,     0.96396,     0.96496,     0.96597,     0.96697,     0.96797,     0.96897,     0.96997,     0.97097,     0.97197,     0.97297,     0.97397,     0.97497,     0.97598,     0.97698,     0.97798,     0.97898,     0.97998,     0.98098,     0.98198,     0.98298,     0.98398,\n",
              "           0.98498,     0.98599,     0.98699,     0.98799,     0.98899,     0.98999,     0.99099,     0.99199,     0.99299,     0.99399,     0.99499,       0.996,       0.997,       0.998,       0.999,           1]), array([[   0.087427,    0.087427,     0.13043,     0.16519,     0.19446,     0.21987,     0.24292,     0.26314,      0.2832,     0.30076,     0.31802,     0.33252,     0.34721,     0.36003,     0.37363,     0.38548,     0.39617,     0.40714,     0.41746,      0.4285,     0.43874,     0.44812,      0.4568,\n",
              "            0.46485,     0.47357,      0.4814,     0.48841,     0.49575,     0.50247,     0.50914,     0.51597,     0.52252,     0.52849,     0.53451,     0.54099,     0.54623,     0.55164,     0.55684,     0.56216,     0.56678,     0.57194,      0.5763,      0.5813,     0.58585,     0.59031,     0.59462,\n",
              "            0.59953,     0.60336,     0.60764,      0.6111,     0.61515,     0.61859,     0.62209,     0.62559,     0.62863,     0.63219,     0.63566,     0.63772,     0.64052,     0.64372,     0.64619,     0.64908,     0.65207,     0.65526,     0.65788,     0.66042,     0.66241,     0.66475,     0.66737,\n",
              "            0.66908,     0.67099,     0.67287,      0.6747,     0.67667,      0.6787,     0.68104,     0.68299,     0.68483,     0.68665,     0.68838,     0.69042,     0.69186,     0.69359,     0.69483,      0.6959,     0.69811,     0.70032,     0.70212,     0.70398,     0.70522,     0.70699,     0.70865,\n",
              "            0.71034,     0.71214,     0.71355,     0.71492,     0.71676,     0.71811,     0.71939,     0.72065,     0.72241,     0.72404,     0.72521,     0.72687,     0.72743,     0.72869,     0.73035,     0.73156,     0.73227,     0.73381,     0.73507,     0.73613,     0.73772,     0.73862,     0.73981,\n",
              "            0.74063,     0.74178,     0.74271,     0.74405,     0.74517,     0.74625,     0.74747,     0.74811,     0.74904,     0.74974,     0.75117,     0.75197,     0.75246,     0.75355,      0.7544,     0.75557,     0.75639,     0.75738,     0.75822,     0.75874,     0.75953,      0.7603,     0.76076,\n",
              "            0.76185,      0.7624,     0.76293,     0.76376,     0.76424,     0.76483,     0.76524,     0.76628,     0.76664,     0.76753,     0.76844,     0.76884,     0.76949,     0.76984,     0.77051,     0.77097,     0.77176,     0.77265,     0.77342,     0.77398,     0.77446,     0.77479,     0.77543,\n",
              "            0.77568,      0.7763,     0.77687,     0.77725,     0.77788,     0.77863,     0.77925,     0.77964,     0.78052,     0.78077,     0.78109,     0.78195,     0.78254,      0.7832,     0.78418,     0.78476,     0.78509,      0.7857,     0.78581,     0.78622,     0.78646,      0.7874,     0.78781,\n",
              "             0.7882,     0.78861,     0.78902,     0.78957,      0.7899,     0.79006,     0.79074,     0.79087,     0.79115,     0.79162,     0.79183,     0.79226,     0.79275,     0.79308,     0.79382,     0.79413,     0.79429,     0.79487,     0.79523,     0.79547,     0.79584,     0.79641,     0.79671,\n",
              "            0.79741,     0.79752,     0.79805,     0.79873,     0.79884,     0.79903,     0.79903,     0.79939,     0.79981,     0.80008,      0.8003,     0.80045,     0.80076,     0.80143,     0.80137,     0.80175,     0.80183,     0.80221,     0.80261,     0.80287,     0.80312,     0.80337,     0.80349,\n",
              "            0.80372,     0.80413,     0.80425,     0.80423,     0.80421,      0.8045,     0.80461,     0.80461,     0.80504,     0.80542,     0.80581,     0.80615,     0.80639,     0.80659,     0.80665,       0.807,     0.80714,      0.8072,      0.8075,     0.80763,     0.80792,     0.80811,     0.80821,\n",
              "            0.80835,     0.80834,     0.80859,     0.80876,     0.80874,     0.80911,     0.80936,     0.80941,     0.80984,     0.80982,     0.81005,     0.80998,     0.81016,     0.81034,     0.81024,     0.81067,     0.81082,     0.81118,     0.81183,     0.81199,     0.81193,     0.81204,     0.81255,\n",
              "            0.81251,     0.81259,     0.81275,     0.81279,     0.81294,       0.813,     0.81265,     0.81251,     0.81249,     0.81242,     0.81275,     0.81295,     0.81325,     0.81352,     0.81379,     0.81398,      0.8139,     0.81408,     0.81401,     0.81391,     0.81399,     0.81394,     0.81408,\n",
              "            0.81417,     0.81445,     0.81429,     0.81428,     0.81458,     0.81453,     0.81471,      0.8148,     0.81488,     0.81502,     0.81511,     0.81524,     0.81529,     0.81549,     0.81581,     0.81595,     0.81604,     0.81603,     0.81613,     0.81618,     0.81616,     0.81621,     0.81607,\n",
              "            0.81621,     0.81629,     0.81646,     0.81661,     0.81671,     0.81683,     0.81702,     0.81706,     0.81741,     0.81734,     0.81728,     0.81719,     0.81712,     0.81741,     0.81751,     0.81723,     0.81734,     0.81711,     0.81722,     0.81727,     0.81724,     0.81729,     0.81728,\n",
              "            0.81714,     0.81713,     0.81719,     0.81717,     0.81726,      0.8171,     0.81702,     0.81701,      0.8171,     0.81722,     0.81747,     0.81771,     0.81771,      0.8174,     0.81743,     0.81746,     0.81754,     0.81762,     0.81736,     0.81731,     0.81714,     0.81693,     0.81697,\n",
              "            0.81692,     0.81702,      0.8169,     0.81676,     0.81674,     0.81668,     0.81659,     0.81653,     0.81637,     0.81656,     0.81651,      0.8164,     0.81635,     0.81623,     0.81633,     0.81634,     0.81625,     0.81622,     0.81594,     0.81588,     0.81562,     0.81532,     0.81533,\n",
              "            0.81525,     0.81512,     0.81494,     0.81474,     0.81475,     0.81492,     0.81461,     0.81452,     0.81432,     0.81437,      0.8142,     0.81435,     0.81437,     0.81425,     0.81418,     0.81409,     0.81444,     0.81438,     0.81412,     0.81429,     0.81406,     0.81402,     0.81425,\n",
              "            0.81427,     0.81424,     0.81399,      0.8138,     0.81386,     0.81394,     0.81402,       0.814,     0.81411,     0.81394,     0.81389,     0.81368,     0.81338,     0.81328,     0.81308,     0.81292,     0.81275,      0.8126,     0.81234,     0.81239,     0.81213,     0.81197,     0.81192,\n",
              "            0.81211,     0.81197,       0.812,     0.81189,     0.81175,      0.8115,     0.81077,     0.81056,     0.81062,     0.81088,     0.81078,     0.81071,      0.8107,     0.81074,     0.81077,     0.81066,     0.81068,     0.81058,     0.81063,     0.81063,     0.81044,     0.81037,     0.81038,\n",
              "            0.81032,     0.81009,     0.80988,     0.80984,     0.80979,     0.80962,     0.80958,     0.80951,     0.80933,     0.80942,      0.8091,     0.80899,     0.80886,      0.8088,     0.80873,     0.80855,     0.80853,     0.80825,     0.80825,     0.80837,     0.80802,     0.80809,     0.80776,\n",
              "            0.80754,     0.80697,     0.80681,     0.80686,     0.80668,     0.80653,     0.80658,     0.80675,     0.80656,     0.80635,     0.80624,     0.80627,     0.80607,     0.80596,     0.80543,     0.80506,     0.80507,     0.80487,     0.80474,     0.80446,     0.80421,     0.80393,     0.80382,\n",
              "            0.80362,     0.80351,     0.80317,     0.80291,     0.80279,     0.80246,     0.80248,     0.80235,     0.80235,     0.80233,     0.80205,      0.8017,     0.80136,     0.80114,      0.8006,      0.8006,     0.80058,     0.80045,     0.80037,     0.80028,     0.79994,     0.79949,     0.79916,\n",
              "            0.79916,     0.79893,     0.79881,     0.79863,     0.79843,     0.79811,     0.79793,     0.79772,     0.79752,       0.797,     0.79673,     0.79639,     0.79622,      0.7959,     0.79568,     0.79531,     0.79497,     0.79465,     0.79403,     0.79356,     0.79326,     0.79311,     0.79307,\n",
              "            0.79275,     0.79256,     0.79256,     0.79223,     0.79209,     0.79114,     0.79092,     0.79069,     0.79066,     0.79032,     0.79033,     0.78971,     0.78964,     0.78914,     0.78849,     0.78833,     0.78776,     0.78737,     0.78745,     0.78738,     0.78733,     0.78671,      0.7865,\n",
              "            0.78595,      0.7858,     0.78571,     0.78552,     0.78487,     0.78412,     0.78346,     0.78301,     0.78275,     0.78204,     0.78203,     0.78166,      0.7812,     0.78094,     0.78017,     0.77974,     0.77922,     0.77902,     0.77848,     0.77815,     0.77811,     0.77731,     0.77714,\n",
              "            0.77678,       0.776,     0.77562,     0.77514,     0.77491,     0.77467,     0.77382,     0.77383,     0.77349,     0.77281,     0.77242,     0.77146,     0.77108,     0.77066,     0.77025,     0.76987,     0.76959,     0.76932,       0.769,     0.76881,     0.76836,     0.76793,     0.76689,\n",
              "            0.76666,      0.7664,     0.76587,     0.76535,     0.76467,      0.7644,     0.76381,     0.76298,     0.76244,      0.7621,     0.76141,     0.76069,     0.75973,     0.75919,     0.75884,     0.75827,     0.75791,     0.75719,      0.7565,     0.75518,     0.75486,     0.75418,     0.75358,\n",
              "            0.75315,     0.75252,     0.75185,      0.7513,     0.75053,     0.74876,     0.74765,     0.74707,     0.74646,     0.74599,     0.74546,     0.74477,     0.74367,     0.74246,     0.74081,     0.73987,     0.73911,     0.73842,     0.73745,     0.73681,     0.73601,     0.73464,     0.73376,\n",
              "            0.73263,     0.73213,     0.73125,     0.72966,     0.72878,     0.72799,     0.72734,     0.72626,     0.72564,     0.72506,     0.72316,     0.72246,     0.72203,     0.72056,     0.72017,     0.71967,     0.71872,     0.71799,     0.71698,     0.71619,     0.71453,     0.71434,     0.71336,\n",
              "            0.71215,     0.71127,     0.71047,       0.709,       0.708,     0.70626,     0.70552,     0.70399,     0.70157,     0.69994,     0.69783,     0.69661,     0.69508,     0.69444,     0.69362,     0.69136,     0.68992,     0.68924,     0.68872,     0.68773,     0.68594,     0.68503,     0.68425,\n",
              "            0.68315,     0.68219,     0.68035,     0.67947,     0.67849,     0.67749,     0.67576,     0.67483,     0.67275,     0.67228,     0.67109,     0.67033,     0.66858,     0.66775,     0.66686,     0.66498,     0.66337,     0.66227,      0.6614,     0.65971,     0.65855,      0.6573,     0.65601,\n",
              "            0.65344,     0.65204,     0.65063,     0.64904,     0.64657,      0.6455,     0.64466,     0.64288,     0.64056,      0.6397,     0.63836,     0.63572,     0.63525,     0.63296,     0.63073,     0.63075,     0.62874,     0.62592,     0.62579,     0.62362,     0.62161,     0.62137,     0.61764,\n",
              "             0.6159,     0.61365,     0.61333,     0.60983,     0.60753,     0.60508,     0.60473,     0.60276,     0.59975,     0.59946,      0.5972,     0.59531,      0.5949,     0.59235,     0.58972,     0.58773,      0.5875,      0.5842,     0.58172,     0.58123,     0.57791,     0.57516,      0.5722,\n",
              "            0.56997,     0.56924,     0.56683,     0.56391,     0.56138,     0.56048,      0.5582,     0.55424,     0.55112,     0.55059,     0.54722,     0.54475,     0.54148,     0.54064,     0.53617,      0.5331,     0.53013,     0.52595,     0.52192,     0.51857,     0.51828,     0.51515,     0.51214,\n",
              "             0.5095,     0.50627,     0.50578,     0.50362,     0.50046,     0.49809,      0.4934,      0.4927,     0.48821,     0.48428,     0.48118,     0.47737,     0.47381,     0.47292,      0.4694,     0.46232,     0.46059,     0.45713,     0.45206,     0.44983,     0.44531,     0.44061,     0.43518,\n",
              "            0.43385,      0.4299,     0.42426,     0.41991,     0.41697,     0.41248,     0.40867,     0.40365,     0.39996,     0.39602,     0.39371,     0.38806,     0.38071,     0.37649,      0.3711,     0.36748,     0.36229,     0.35735,      0.3543,     0.34823,     0.34292,     0.33784,     0.33313,\n",
              "            0.32869,     0.32379,     0.31738,     0.31255,     0.30675,     0.30046,     0.29525,     0.29018,     0.28367,     0.27273,     0.26795,     0.26196,      0.2561,     0.24869,     0.24286,     0.23547,     0.22818,     0.21837,     0.21295,     0.20563,     0.19635,     0.18524,     0.18058,\n",
              "            0.17186,     0.16615,      0.1558,     0.14867,     0.13963,     0.13084,     0.12146,     0.11094,     0.10433,    0.096964,    0.087058,    0.080812,    0.072182,    0.066564,    0.059535,    0.054867,    0.047667,    0.042835,    0.040218,    0.035536,    0.032901,    0.028372,    0.025339,\n",
              "           0.023245,    0.021146,    0.019424,    0.016745,    0.015398,    0.013666,    0.011931,    0.010385,   0.0084513,   0.0078008,   0.0070832,   0.0059589,   0.0051338,    0.004351,   0.0033741,   0.0029773,   0.0028266,   0.0027273,   0.0023672,   0.0017761,   0.0013685,  0.00097574,  0.00067984,\n",
              "         0.00038762,  0.00035701,   0.0003264,  0.00029578,  0.00026517,  0.00023455,  0.00020394,           0,           0,           0,           0,           0,           0,           0,           0,           0,           0,           0,           0,           0,           0,           0,           0,\n",
              "                  0,           0,           0,           0,           0,           0,           0,           0,           0,           0,           0,           0,           0,           0,           0,           0,           0,           0,           0,           0,           0,           0,           0,\n",
              "                  0,           0,           0,           0,           0,           0,           0,           0,           0,           0,           0,           0,           0,           0,           0,           0,           0,           0,           0,           0,           0,           0,           0,\n",
              "                  0,           0,           0,           0,           0,           0,           0,           0,           0,           0,           0]]), 'Confidence', 'F1'], [array([          0,    0.001001,    0.002002,    0.003003,    0.004004,    0.005005,    0.006006,    0.007007,    0.008008,    0.009009,     0.01001,    0.011011,    0.012012,    0.013013,    0.014014,    0.015015,    0.016016,    0.017017,    0.018018,    0.019019,     0.02002,    0.021021,    0.022022,    0.023023,\n",
              "          0.024024,    0.025025,    0.026026,    0.027027,    0.028028,    0.029029,     0.03003,    0.031031,    0.032032,    0.033033,    0.034034,    0.035035,    0.036036,    0.037037,    0.038038,    0.039039,     0.04004,    0.041041,    0.042042,    0.043043,    0.044044,    0.045045,    0.046046,    0.047047,\n",
              "          0.048048,    0.049049,     0.05005,    0.051051,    0.052052,    0.053053,    0.054054,    0.055055,    0.056056,    0.057057,    0.058058,    0.059059,     0.06006,    0.061061,    0.062062,    0.063063,    0.064064,    0.065065,    0.066066,    0.067067,    0.068068,    0.069069,     0.07007,    0.071071,\n",
              "          0.072072,    0.073073,    0.074074,    0.075075,    0.076076,    0.077077,    0.078078,    0.079079,     0.08008,    0.081081,    0.082082,    0.083083,    0.084084,    0.085085,    0.086086,    0.087087,    0.088088,    0.089089,     0.09009,    0.091091,    0.092092,    0.093093,    0.094094,    0.095095,\n",
              "          0.096096,    0.097097,    0.098098,    0.099099,      0.1001,      0.1011,      0.1021,      0.1031,      0.1041,     0.10511,     0.10611,     0.10711,     0.10811,     0.10911,     0.11011,     0.11111,     0.11211,     0.11311,     0.11411,     0.11512,     0.11612,     0.11712,     0.11812,     0.11912,\n",
              "           0.12012,     0.12112,     0.12212,     0.12312,     0.12412,     0.12513,     0.12613,     0.12713,     0.12813,     0.12913,     0.13013,     0.13113,     0.13213,     0.13313,     0.13413,     0.13514,     0.13614,     0.13714,     0.13814,     0.13914,     0.14014,     0.14114,     0.14214,     0.14314,\n",
              "           0.14414,     0.14515,     0.14615,     0.14715,     0.14815,     0.14915,     0.15015,     0.15115,     0.15215,     0.15315,     0.15415,     0.15516,     0.15616,     0.15716,     0.15816,     0.15916,     0.16016,     0.16116,     0.16216,     0.16316,     0.16416,     0.16517,     0.16617,     0.16717,\n",
              "           0.16817,     0.16917,     0.17017,     0.17117,     0.17217,     0.17317,     0.17417,     0.17518,     0.17618,     0.17718,     0.17818,     0.17918,     0.18018,     0.18118,     0.18218,     0.18318,     0.18418,     0.18519,     0.18619,     0.18719,     0.18819,     0.18919,     0.19019,     0.19119,\n",
              "           0.19219,     0.19319,     0.19419,      0.1952,      0.1962,      0.1972,      0.1982,      0.1992,      0.2002,      0.2012,      0.2022,      0.2032,      0.2042,     0.20521,     0.20621,     0.20721,     0.20821,     0.20921,     0.21021,     0.21121,     0.21221,     0.21321,     0.21421,     0.21522,\n",
              "           0.21622,     0.21722,     0.21822,     0.21922,     0.22022,     0.22122,     0.22222,     0.22322,     0.22422,     0.22523,     0.22623,     0.22723,     0.22823,     0.22923,     0.23023,     0.23123,     0.23223,     0.23323,     0.23423,     0.23524,     0.23624,     0.23724,     0.23824,     0.23924,\n",
              "           0.24024,     0.24124,     0.24224,     0.24324,     0.24424,     0.24525,     0.24625,     0.24725,     0.24825,     0.24925,     0.25025,     0.25125,     0.25225,     0.25325,     0.25425,     0.25526,     0.25626,     0.25726,     0.25826,     0.25926,     0.26026,     0.26126,     0.26226,     0.26326,\n",
              "           0.26426,     0.26527,     0.26627,     0.26727,     0.26827,     0.26927,     0.27027,     0.27127,     0.27227,     0.27327,     0.27427,     0.27528,     0.27628,     0.27728,     0.27828,     0.27928,     0.28028,     0.28128,     0.28228,     0.28328,     0.28428,     0.28529,     0.28629,     0.28729,\n",
              "           0.28829,     0.28929,     0.29029,     0.29129,     0.29229,     0.29329,     0.29429,      0.2953,      0.2963,      0.2973,      0.2983,      0.2993,      0.3003,      0.3013,      0.3023,      0.3033,      0.3043,     0.30531,     0.30631,     0.30731,     0.30831,     0.30931,     0.31031,     0.31131,\n",
              "           0.31231,     0.31331,     0.31431,     0.31532,     0.31632,     0.31732,     0.31832,     0.31932,     0.32032,     0.32132,     0.32232,     0.32332,     0.32432,     0.32533,     0.32633,     0.32733,     0.32833,     0.32933,     0.33033,     0.33133,     0.33233,     0.33333,     0.33433,     0.33534,\n",
              "           0.33634,     0.33734,     0.33834,     0.33934,     0.34034,     0.34134,     0.34234,     0.34334,     0.34434,     0.34535,     0.34635,     0.34735,     0.34835,     0.34935,     0.35035,     0.35135,     0.35235,     0.35335,     0.35435,     0.35536,     0.35636,     0.35736,     0.35836,     0.35936,\n",
              "           0.36036,     0.36136,     0.36236,     0.36336,     0.36436,     0.36537,     0.36637,     0.36737,     0.36837,     0.36937,     0.37037,     0.37137,     0.37237,     0.37337,     0.37437,     0.37538,     0.37638,     0.37738,     0.37838,     0.37938,     0.38038,     0.38138,     0.38238,     0.38338,\n",
              "           0.38438,     0.38539,     0.38639,     0.38739,     0.38839,     0.38939,     0.39039,     0.39139,     0.39239,     0.39339,     0.39439,      0.3954,      0.3964,      0.3974,      0.3984,      0.3994,      0.4004,      0.4014,      0.4024,      0.4034,      0.4044,     0.40541,     0.40641,     0.40741,\n",
              "           0.40841,     0.40941,     0.41041,     0.41141,     0.41241,     0.41341,     0.41441,     0.41542,     0.41642,     0.41742,     0.41842,     0.41942,     0.42042,     0.42142,     0.42242,     0.42342,     0.42442,     0.42543,     0.42643,     0.42743,     0.42843,     0.42943,     0.43043,     0.43143,\n",
              "           0.43243,     0.43343,     0.43443,     0.43544,     0.43644,     0.43744,     0.43844,     0.43944,     0.44044,     0.44144,     0.44244,     0.44344,     0.44444,     0.44545,     0.44645,     0.44745,     0.44845,     0.44945,     0.45045,     0.45145,     0.45245,     0.45345,     0.45445,     0.45546,\n",
              "           0.45646,     0.45746,     0.45846,     0.45946,     0.46046,     0.46146,     0.46246,     0.46346,     0.46446,     0.46547,     0.46647,     0.46747,     0.46847,     0.46947,     0.47047,     0.47147,     0.47247,     0.47347,     0.47447,     0.47548,     0.47648,     0.47748,     0.47848,     0.47948,\n",
              "           0.48048,     0.48148,     0.48248,     0.48348,     0.48448,     0.48549,     0.48649,     0.48749,     0.48849,     0.48949,     0.49049,     0.49149,     0.49249,     0.49349,     0.49449,      0.4955,      0.4965,      0.4975,      0.4985,      0.4995,      0.5005,      0.5015,      0.5025,      0.5035,\n",
              "            0.5045,     0.50551,     0.50651,     0.50751,     0.50851,     0.50951,     0.51051,     0.51151,     0.51251,     0.51351,     0.51451,     0.51552,     0.51652,     0.51752,     0.51852,     0.51952,     0.52052,     0.52152,     0.52252,     0.52352,     0.52452,     0.52553,     0.52653,     0.52753,\n",
              "           0.52853,     0.52953,     0.53053,     0.53153,     0.53253,     0.53353,     0.53453,     0.53554,     0.53654,     0.53754,     0.53854,     0.53954,     0.54054,     0.54154,     0.54254,     0.54354,     0.54454,     0.54555,     0.54655,     0.54755,     0.54855,     0.54955,     0.55055,     0.55155,\n",
              "           0.55255,     0.55355,     0.55455,     0.55556,     0.55656,     0.55756,     0.55856,     0.55956,     0.56056,     0.56156,     0.56256,     0.56356,     0.56456,     0.56557,     0.56657,     0.56757,     0.56857,     0.56957,     0.57057,     0.57157,     0.57257,     0.57357,     0.57457,     0.57558,\n",
              "           0.57658,     0.57758,     0.57858,     0.57958,     0.58058,     0.58158,     0.58258,     0.58358,     0.58458,     0.58559,     0.58659,     0.58759,     0.58859,     0.58959,     0.59059,     0.59159,     0.59259,     0.59359,     0.59459,      0.5956,      0.5966,      0.5976,      0.5986,      0.5996,\n",
              "            0.6006,      0.6016,      0.6026,      0.6036,      0.6046,     0.60561,     0.60661,     0.60761,     0.60861,     0.60961,     0.61061,     0.61161,     0.61261,     0.61361,     0.61461,     0.61562,     0.61662,     0.61762,     0.61862,     0.61962,     0.62062,     0.62162,     0.62262,     0.62362,\n",
              "           0.62462,     0.62563,     0.62663,     0.62763,     0.62863,     0.62963,     0.63063,     0.63163,     0.63263,     0.63363,     0.63463,     0.63564,     0.63664,     0.63764,     0.63864,     0.63964,     0.64064,     0.64164,     0.64264,     0.64364,     0.64464,     0.64565,     0.64665,     0.64765,\n",
              "           0.64865,     0.64965,     0.65065,     0.65165,     0.65265,     0.65365,     0.65465,     0.65566,     0.65666,     0.65766,     0.65866,     0.65966,     0.66066,     0.66166,     0.66266,     0.66366,     0.66466,     0.66567,     0.66667,     0.66767,     0.66867,     0.66967,     0.67067,     0.67167,\n",
              "           0.67267,     0.67367,     0.67467,     0.67568,     0.67668,     0.67768,     0.67868,     0.67968,     0.68068,     0.68168,     0.68268,     0.68368,     0.68468,     0.68569,     0.68669,     0.68769,     0.68869,     0.68969,     0.69069,     0.69169,     0.69269,     0.69369,     0.69469,      0.6957,\n",
              "            0.6967,      0.6977,      0.6987,      0.6997,      0.7007,      0.7017,      0.7027,      0.7037,      0.7047,     0.70571,     0.70671,     0.70771,     0.70871,     0.70971,     0.71071,     0.71171,     0.71271,     0.71371,     0.71471,     0.71572,     0.71672,     0.71772,     0.71872,     0.71972,\n",
              "           0.72072,     0.72172,     0.72272,     0.72372,     0.72472,     0.72573,     0.72673,     0.72773,     0.72873,     0.72973,     0.73073,     0.73173,     0.73273,     0.73373,     0.73473,     0.73574,     0.73674,     0.73774,     0.73874,     0.73974,     0.74074,     0.74174,     0.74274,     0.74374,\n",
              "           0.74474,     0.74575,     0.74675,     0.74775,     0.74875,     0.74975,     0.75075,     0.75175,     0.75275,     0.75375,     0.75475,     0.75576,     0.75676,     0.75776,     0.75876,     0.75976,     0.76076,     0.76176,     0.76276,     0.76376,     0.76476,     0.76577,     0.76677,     0.76777,\n",
              "           0.76877,     0.76977,     0.77077,     0.77177,     0.77277,     0.77377,     0.77477,     0.77578,     0.77678,     0.77778,     0.77878,     0.77978,     0.78078,     0.78178,     0.78278,     0.78378,     0.78478,     0.78579,     0.78679,     0.78779,     0.78879,     0.78979,     0.79079,     0.79179,\n",
              "           0.79279,     0.79379,     0.79479,      0.7958,      0.7968,      0.7978,      0.7988,      0.7998,      0.8008,      0.8018,      0.8028,      0.8038,      0.8048,     0.80581,     0.80681,     0.80781,     0.80881,     0.80981,     0.81081,     0.81181,     0.81281,     0.81381,     0.81481,     0.81582,\n",
              "           0.81682,     0.81782,     0.81882,     0.81982,     0.82082,     0.82182,     0.82282,     0.82382,     0.82482,     0.82583,     0.82683,     0.82783,     0.82883,     0.82983,     0.83083,     0.83183,     0.83283,     0.83383,     0.83483,     0.83584,     0.83684,     0.83784,     0.83884,     0.83984,\n",
              "           0.84084,     0.84184,     0.84284,     0.84384,     0.84484,     0.84585,     0.84685,     0.84785,     0.84885,     0.84985,     0.85085,     0.85185,     0.85285,     0.85385,     0.85485,     0.85586,     0.85686,     0.85786,     0.85886,     0.85986,     0.86086,     0.86186,     0.86286,     0.86386,\n",
              "           0.86486,     0.86587,     0.86687,     0.86787,     0.86887,     0.86987,     0.87087,     0.87187,     0.87287,     0.87387,     0.87487,     0.87588,     0.87688,     0.87788,     0.87888,     0.87988,     0.88088,     0.88188,     0.88288,     0.88388,     0.88488,     0.88589,     0.88689,     0.88789,\n",
              "           0.88889,     0.88989,     0.89089,     0.89189,     0.89289,     0.89389,     0.89489,      0.8959,      0.8969,      0.8979,      0.8989,      0.8999,      0.9009,      0.9019,      0.9029,      0.9039,      0.9049,     0.90591,     0.90691,     0.90791,     0.90891,     0.90991,     0.91091,     0.91191,\n",
              "           0.91291,     0.91391,     0.91491,     0.91592,     0.91692,     0.91792,     0.91892,     0.91992,     0.92092,     0.92192,     0.92292,     0.92392,     0.92492,     0.92593,     0.92693,     0.92793,     0.92893,     0.92993,     0.93093,     0.93193,     0.93293,     0.93393,     0.93493,     0.93594,\n",
              "           0.93694,     0.93794,     0.93894,     0.93994,     0.94094,     0.94194,     0.94294,     0.94394,     0.94494,     0.94595,     0.94695,     0.94795,     0.94895,     0.94995,     0.95095,     0.95195,     0.95295,     0.95395,     0.95495,     0.95596,     0.95696,     0.95796,     0.95896,     0.95996,\n",
              "           0.96096,     0.96196,     0.96296,     0.96396,     0.96496,     0.96597,     0.96697,     0.96797,     0.96897,     0.96997,     0.97097,     0.97197,     0.97297,     0.97397,     0.97497,     0.97598,     0.97698,     0.97798,     0.97898,     0.97998,     0.98098,     0.98198,     0.98298,     0.98398,\n",
              "           0.98498,     0.98599,     0.98699,     0.98799,     0.98899,     0.98999,     0.99099,     0.99199,     0.99299,     0.99399,     0.99499,       0.996,       0.997,       0.998,       0.999,           1]), array([[   0.045851,    0.045851,    0.070129,    0.090681,     0.10869,     0.12489,     0.14002,     0.15373,     0.16768,     0.18021,     0.19283,     0.20372,     0.21494,     0.22497,     0.23575,      0.2454,     0.25424,     0.26342,     0.27226,     0.28177,      0.2908,     0.29919,     0.30709,\n",
              "            0.31454,     0.32273,      0.3302,     0.33705,     0.34425,     0.35104,     0.35773,     0.36464,     0.37139,     0.37761,     0.38399,     0.39088,     0.39654,     0.40248,      0.4081,      0.4141,     0.41928,     0.42517,     0.43022,     0.43591,     0.44114,     0.44634,     0.45146,\n",
              "            0.45722,     0.46174,     0.46697,     0.47139,     0.47639,     0.48075,     0.48519,     0.48972,     0.49364,     0.49811,     0.50266,     0.50554,     0.50939,     0.51364,     0.51714,     0.52117,     0.52527,     0.52971,      0.5334,     0.53691,     0.53992,     0.54324,     0.54706,\n",
              "            0.54976,     0.55267,     0.55543,     0.55814,     0.56109,     0.56406,     0.56748,     0.57023,     0.57324,     0.57601,     0.57855,     0.58152,      0.5838,     0.58635,     0.58833,     0.59018,     0.59361,     0.59695,     0.59978,     0.60255,      0.6046,     0.60777,     0.61038,\n",
              "            0.61299,     0.61583,     0.61819,     0.62053,      0.6234,     0.62555,     0.62783,     0.62986,     0.63299,      0.6357,     0.63799,     0.64067,      0.6417,       0.644,     0.64695,     0.64903,     0.65043,     0.65293,     0.65517,     0.65685,     0.65951,     0.66108,     0.66317,\n",
              "            0.66454,     0.66689,     0.66852,     0.67112,     0.67309,     0.67529,     0.67742,     0.67893,     0.68085,     0.68221,     0.68484,     0.68636,     0.68762,     0.68987,      0.6915,     0.69374,      0.6952,     0.69707,     0.69878,     0.70001,     0.70143,     0.70295,     0.70414,\n",
              "             0.7063,     0.70725,     0.70845,     0.71016,     0.71114,      0.7126,     0.71346,     0.71549,     0.71656,     0.71818,        0.72,     0.72115,     0.72274,     0.72382,     0.72517,     0.72618,     0.72805,     0.72986,     0.73148,     0.73294,     0.73395,     0.73493,     0.73641,\n",
              "             0.7374,     0.73885,     0.74012,     0.74097,      0.7426,     0.74421,     0.74543,     0.74638,     0.74833,     0.74902,     0.74994,     0.75169,     0.75295,     0.75443,     0.75634,     0.75767,     0.75854,     0.75984,      0.7608,     0.76175,     0.76246,     0.76458,     0.76586,\n",
              "            0.76678,     0.76781,     0.76911,     0.77036,     0.77132,     0.77198,     0.77356,     0.77405,     0.77487,     0.77611,     0.77662,     0.77775,     0.77894,     0.77975,     0.78136,     0.78233,     0.78328,      0.7845,     0.78521,     0.78594,     0.78676,     0.78826,     0.78911,\n",
              "            0.79073,     0.79147,     0.79261,     0.79433,     0.79505,     0.79616,     0.79655,     0.79755,     0.79848,     0.79921,     0.79983,     0.80043,     0.80106,      0.8027,     0.80331,     0.80455,     0.80507,     0.80613,     0.80704,      0.8081,     0.80866,     0.80948,     0.81001,\n",
              "            0.81059,     0.81142,     0.81196,     0.81258,     0.81309,     0.81439,     0.81503,     0.81545,     0.81632,     0.81711,     0.81833,     0.81918,     0.82016,     0.82078,      0.8212,     0.82234,     0.82307,     0.82351,     0.82445,     0.82491,     0.82616,     0.82687,     0.82731,\n",
              "            0.82846,     0.82885,      0.8296,     0.83081,      0.8312,      0.8321,     0.83296,     0.83338,     0.83462,      0.8347,     0.83551,     0.83568,     0.83662,     0.83753,     0.83779,     0.83929,     0.83971,     0.84047,     0.84221,     0.84294,      0.8432,     0.84355,     0.84488,\n",
              "            0.84536,     0.84597,     0.84655,     0.84727,     0.84809,     0.84848,     0.84865,     0.84908,     0.84943,     0.84984,     0.85082,     0.85161,      0.8525,     0.85332,     0.85452,      0.8554,     0.85582,     0.85644,     0.85725,      0.8575,     0.85802,     0.85838,     0.85882,\n",
              "            0.85992,      0.8606,     0.86075,     0.86108,     0.86225,      0.8626,     0.86324,      0.8637,     0.86399,     0.86496,     0.86565,     0.86627,     0.86677,     0.86795,      0.8688,     0.86937,     0.86978,     0.87012,      0.8704,     0.87076,     0.87121,     0.87163,     0.87165,\n",
              "            0.87221,     0.87276,     0.87379,     0.87426,     0.87505,     0.87539,     0.87597,     0.87644,     0.87749,     0.87786,     0.87823,     0.87859,     0.87901,      0.8798,     0.88054,     0.88094,     0.88133,     0.88157,     0.88195,     0.88234,     0.88263,     0.88356,     0.88382,\n",
              "            0.88415,     0.88442,     0.88503,     0.88534,     0.88559,     0.88615,      0.8865,      0.8866,     0.88695,      0.8875,     0.88816,     0.88892,     0.88941,     0.88953,     0.89001,     0.89048,     0.89108,     0.89166,       0.892,     0.89223,     0.89238,     0.89243,     0.89282,\n",
              "            0.89328,     0.89377,     0.89418,     0.89429,     0.89467,     0.89494,     0.89523,     0.89558,     0.89602,     0.89653,     0.89682,     0.89699,     0.89784,     0.89802,     0.89835,     0.89894,     0.89937,     0.89956,     0.89961,     0.89989,         0.9,     0.90007,     0.90056,\n",
              "            0.90094,     0.90121,     0.90119,     0.90143,     0.90157,     0.90206,       0.902,     0.90208,     0.90239,     0.90275,     0.90291,     0.90361,     0.90393,     0.90421,     0.90478,     0.90498,     0.90604,     0.90645,     0.90681,     0.90724,     0.90741,      0.9076,     0.90845,\n",
              "            0.90873,     0.90913,     0.90908,     0.90912,     0.90984,     0.91007,     0.91069,     0.91123,     0.91153,     0.91184,     0.91203,      0.9124,     0.91256,     0.91275,     0.91272,      0.9132,     0.91338,     0.91346,     0.91373,     0.91415,     0.91442,     0.91487,     0.91536,\n",
              "            0.91585,     0.91625,     0.91678,     0.91698,     0.91738,     0.91797,     0.91809,     0.91836,     0.91881,      0.9198,     0.92001,     0.92031,     0.92074,     0.92118,     0.92172,     0.92192,     0.92246,     0.92298,     0.92325,     0.92364,     0.92387,     0.92425,     0.92452,\n",
              "            0.92484,     0.92497,     0.92505,     0.92559,      0.9258,     0.92606,     0.92628,     0.92653,     0.92658,     0.92714,     0.92724,     0.92764,     0.92776,     0.92795,     0.92807,     0.92825,      0.9287,      0.9291,     0.92944,     0.92991,     0.93031,     0.93065,     0.93094,\n",
              "            0.93102,     0.93117,     0.93139,     0.93172,     0.93172,     0.93215,     0.93261,     0.93329,     0.93341,      0.9335,     0.93371,     0.93402,     0.93434,     0.93455,     0.93483,     0.93495,     0.93529,     0.93562,     0.93595,     0.93597,     0.93617,     0.93666,     0.93681,\n",
              "            0.93721,      0.9377,     0.93766,     0.93797,     0.93805,      0.9385,     0.93909,     0.93942,     0.93964,     0.94011,     0.94021,     0.94064,     0.94095,     0.94104,      0.9417,     0.94205,     0.94252,     0.94288,     0.94321,     0.94368,     0.94378,     0.94419,     0.94452,\n",
              "            0.94503,     0.94533,     0.94593,     0.94651,     0.94649,      0.9467,     0.94685,      0.9469,     0.94725,     0.94744,     0.94741,     0.94737,     0.94784,     0.94813,     0.94816,     0.94832,     0.94858,     0.94879,      0.9491,     0.94905,     0.94914,     0.94935,     0.94974,\n",
              "            0.95033,     0.95056,     0.95117,     0.95153,     0.95189,     0.95231,     0.95304,     0.95315,     0.95365,     0.95362,     0.95395,      0.9542,     0.95419,     0.95427,     0.95434,     0.95445,     0.95462,     0.95484,      0.9555,     0.95588,     0.95629,     0.95623,     0.95684,\n",
              "            0.95681,     0.95718,     0.95731,     0.95755,     0.95763,     0.95822,     0.95829,     0.95825,     0.95849,     0.95883,     0.95922,     0.95932,     0.95981,     0.96006,        0.96,     0.95996,     0.96045,      0.9607,     0.96077,     0.96101,      0.9613,     0.96191,     0.96203,\n",
              "             0.9624,     0.96234,     0.96245,     0.96268,     0.96307,     0.96319,     0.96313,      0.9634,     0.96365,       0.964,     0.96411,     0.96418,     0.96429,     0.96453,     0.96478,     0.96508,     0.96515,     0.96532,     0.96538,      0.9655,     0.96561,     0.96558,     0.96565,\n",
              "            0.96605,     0.96659,      0.9667,     0.96666,     0.96661,     0.96688,     0.96684,     0.96692,     0.96703,     0.96729,     0.96738,     0.96747,     0.96741,     0.96752,     0.96778,     0.96803,     0.96815,     0.96839,     0.96848,     0.96869,     0.96882,     0.96921,     0.96963,\n",
              "            0.97001,     0.97012,     0.97008,     0.97019,     0.97029,     0.97062,     0.97085,     0.97111,     0.97107,     0.97114,     0.97131,     0.97171,     0.97179,     0.97218,     0.97254,     0.97263,     0.97259,     0.97255,     0.97295,     0.97307,     0.97394,     0.97417,     0.97459,\n",
              "            0.97468,     0.97481,     0.97492,     0.97562,     0.97593,     0.97647,     0.97644,     0.97702,     0.97699,     0.97712,     0.97735,     0.97763,     0.97777,     0.97819,     0.97849,     0.97863,     0.97891,      0.9792,     0.97981,     0.97977,     0.98019,     0.98035,     0.98031,\n",
              "            0.98026,     0.98022,     0.98019,     0.98045,     0.98058,     0.98081,     0.98098,     0.98125,     0.98132,     0.98126,     0.98134,      0.9813,     0.98141,     0.98155,     0.98186,     0.98212,     0.98224,     0.98222,     0.98255,     0.98251,     0.98279,     0.98276,     0.98273,\n",
              "            0.98269,     0.98283,     0.98294,      0.9829,     0.98304,     0.98301,     0.98331,     0.98327,      0.9832,     0.98336,      0.9835,     0.98347,     0.98341,     0.98356,     0.98353,     0.98365,     0.98363,     0.98402,     0.98426,     0.98421,     0.98454,     0.98485,     0.98483,\n",
              "            0.98475,     0.98527,     0.98523,     0.98576,     0.98587,     0.98584,     0.98581,     0.98575,     0.98627,     0.98644,      0.9866,     0.98652,      0.9865,     0.98684,     0.98703,     0.98738,     0.98732,     0.98731,     0.98744,     0.98758,     0.98753,     0.98773,     0.98762,\n",
              "            0.98757,     0.98772,     0.98771,     0.98761,     0.98776,     0.98812,     0.98833,     0.98849,     0.98867,     0.98884,     0.98878,     0.98895,     0.98894,     0.98932,     0.98925,      0.9892,      0.9892,     0.98911,     0.98928,     0.98926,     0.98918,      0.9891,     0.98926,\n",
              "             0.9892,     0.98918,     0.98936,     0.98928,     0.98946,     0.98968,     0.98962,     0.98952,     0.98944,     0.98942,     0.98983,     0.99053,     0.99045,     0.99043,     0.99084,     0.99077,      0.9907,     0.99113,      0.9913,      0.9915,     0.99176,     0.99225,     0.99246,\n",
              "            0.99241,     0.99234,      0.9929,     0.99314,     0.99308,     0.99304,     0.99295,     0.99294,     0.99315,     0.99337,     0.99392,     0.99386,      0.9938,      0.9944,     0.99434,     0.99519,     0.99516,     0.99512,     0.99537,     0.99567,     0.99562,     0.99556,     0.99549,\n",
              "            0.99547,     0.99542,     0.99534,     0.99528,     0.99524,     0.99517,     0.99512,     0.99542,     0.99575,      0.9957,     0.99567,     0.99559,     0.99548,     0.99542,     0.99534,     0.99528,      0.9952,     0.99512,     0.99507,     0.99496,     0.99487,     0.99478,     0.99469,\n",
              "            0.99509,       0.995,     0.99539,     0.99531,     0.99573,     0.99563,     0.99554,     0.99601,     0.99707,     0.99694,      0.9975,     0.99743,     0.99749,     0.99863,      0.9986,     0.99855,     0.99849,     0.99842,     0.99837,     0.99831,     0.99822,     0.99905,     0.99902,\n",
              "            0.99897,     0.99893,     0.99885,     0.99879,     0.99871,     0.99861,      0.9985,     0.99835,     0.99824,      0.9981,     0.99787,      0.9977,     0.99741,     0.99719,     0.99825,           1,           1,           1,           1,           1,           1,           1,           1,\n",
              "                  1,           1,           1,           1,           1,           1,           1,           1,           1,           1,           1,           1,           1,           1,           1,           1,           1,           1,           1,           1,           1,           1,           1,\n",
              "                  1,           1,           1,           1,           1,           1,           1,           1,           1,           1,           1,           1,           1,           1,           1,           1,           1,           1,           1,           1,           1,           1,           1,\n",
              "                  1,           1,           1,           1,           1,           1,           1,           1,           1,           1,           1,           1,           1,           1,           1,           1,           1,           1,           1,           1,           1,           1,           1,\n",
              "                  1,           1,           1,           1,           1,           1,           1,           1,           1,           1,           1,           1,           1,           1,           1,           1,           1,           1,           1,           1,           1,           1,           1,\n",
              "                  1,           1,           1,           1,           1,           1,           1,           1,           1,           1,           1]]), 'Confidence', 'Precision'], [array([          0,    0.001001,    0.002002,    0.003003,    0.004004,    0.005005,    0.006006,    0.007007,    0.008008,    0.009009,     0.01001,    0.011011,    0.012012,    0.013013,    0.014014,    0.015015,    0.016016,    0.017017,    0.018018,    0.019019,     0.02002,    0.021021,    0.022022,    0.023023,\n",
              "          0.024024,    0.025025,    0.026026,    0.027027,    0.028028,    0.029029,     0.03003,    0.031031,    0.032032,    0.033033,    0.034034,    0.035035,    0.036036,    0.037037,    0.038038,    0.039039,     0.04004,    0.041041,    0.042042,    0.043043,    0.044044,    0.045045,    0.046046,    0.047047,\n",
              "          0.048048,    0.049049,     0.05005,    0.051051,    0.052052,    0.053053,    0.054054,    0.055055,    0.056056,    0.057057,    0.058058,    0.059059,     0.06006,    0.061061,    0.062062,    0.063063,    0.064064,    0.065065,    0.066066,    0.067067,    0.068068,    0.069069,     0.07007,    0.071071,\n",
              "          0.072072,    0.073073,    0.074074,    0.075075,    0.076076,    0.077077,    0.078078,    0.079079,     0.08008,    0.081081,    0.082082,    0.083083,    0.084084,    0.085085,    0.086086,    0.087087,    0.088088,    0.089089,     0.09009,    0.091091,    0.092092,    0.093093,    0.094094,    0.095095,\n",
              "          0.096096,    0.097097,    0.098098,    0.099099,      0.1001,      0.1011,      0.1021,      0.1031,      0.1041,     0.10511,     0.10611,     0.10711,     0.10811,     0.10911,     0.11011,     0.11111,     0.11211,     0.11311,     0.11411,     0.11512,     0.11612,     0.11712,     0.11812,     0.11912,\n",
              "           0.12012,     0.12112,     0.12212,     0.12312,     0.12412,     0.12513,     0.12613,     0.12713,     0.12813,     0.12913,     0.13013,     0.13113,     0.13213,     0.13313,     0.13413,     0.13514,     0.13614,     0.13714,     0.13814,     0.13914,     0.14014,     0.14114,     0.14214,     0.14314,\n",
              "           0.14414,     0.14515,     0.14615,     0.14715,     0.14815,     0.14915,     0.15015,     0.15115,     0.15215,     0.15315,     0.15415,     0.15516,     0.15616,     0.15716,     0.15816,     0.15916,     0.16016,     0.16116,     0.16216,     0.16316,     0.16416,     0.16517,     0.16617,     0.16717,\n",
              "           0.16817,     0.16917,     0.17017,     0.17117,     0.17217,     0.17317,     0.17417,     0.17518,     0.17618,     0.17718,     0.17818,     0.17918,     0.18018,     0.18118,     0.18218,     0.18318,     0.18418,     0.18519,     0.18619,     0.18719,     0.18819,     0.18919,     0.19019,     0.19119,\n",
              "           0.19219,     0.19319,     0.19419,      0.1952,      0.1962,      0.1972,      0.1982,      0.1992,      0.2002,      0.2012,      0.2022,      0.2032,      0.2042,     0.20521,     0.20621,     0.20721,     0.20821,     0.20921,     0.21021,     0.21121,     0.21221,     0.21321,     0.21421,     0.21522,\n",
              "           0.21622,     0.21722,     0.21822,     0.21922,     0.22022,     0.22122,     0.22222,     0.22322,     0.22422,     0.22523,     0.22623,     0.22723,     0.22823,     0.22923,     0.23023,     0.23123,     0.23223,     0.23323,     0.23423,     0.23524,     0.23624,     0.23724,     0.23824,     0.23924,\n",
              "           0.24024,     0.24124,     0.24224,     0.24324,     0.24424,     0.24525,     0.24625,     0.24725,     0.24825,     0.24925,     0.25025,     0.25125,     0.25225,     0.25325,     0.25425,     0.25526,     0.25626,     0.25726,     0.25826,     0.25926,     0.26026,     0.26126,     0.26226,     0.26326,\n",
              "           0.26426,     0.26527,     0.26627,     0.26727,     0.26827,     0.26927,     0.27027,     0.27127,     0.27227,     0.27327,     0.27427,     0.27528,     0.27628,     0.27728,     0.27828,     0.27928,     0.28028,     0.28128,     0.28228,     0.28328,     0.28428,     0.28529,     0.28629,     0.28729,\n",
              "           0.28829,     0.28929,     0.29029,     0.29129,     0.29229,     0.29329,     0.29429,      0.2953,      0.2963,      0.2973,      0.2983,      0.2993,      0.3003,      0.3013,      0.3023,      0.3033,      0.3043,     0.30531,     0.30631,     0.30731,     0.30831,     0.30931,     0.31031,     0.31131,\n",
              "           0.31231,     0.31331,     0.31431,     0.31532,     0.31632,     0.31732,     0.31832,     0.31932,     0.32032,     0.32132,     0.32232,     0.32332,     0.32432,     0.32533,     0.32633,     0.32733,     0.32833,     0.32933,     0.33033,     0.33133,     0.33233,     0.33333,     0.33433,     0.33534,\n",
              "           0.33634,     0.33734,     0.33834,     0.33934,     0.34034,     0.34134,     0.34234,     0.34334,     0.34434,     0.34535,     0.34635,     0.34735,     0.34835,     0.34935,     0.35035,     0.35135,     0.35235,     0.35335,     0.35435,     0.35536,     0.35636,     0.35736,     0.35836,     0.35936,\n",
              "           0.36036,     0.36136,     0.36236,     0.36336,     0.36436,     0.36537,     0.36637,     0.36737,     0.36837,     0.36937,     0.37037,     0.37137,     0.37237,     0.37337,     0.37437,     0.37538,     0.37638,     0.37738,     0.37838,     0.37938,     0.38038,     0.38138,     0.38238,     0.38338,\n",
              "           0.38438,     0.38539,     0.38639,     0.38739,     0.38839,     0.38939,     0.39039,     0.39139,     0.39239,     0.39339,     0.39439,      0.3954,      0.3964,      0.3974,      0.3984,      0.3994,      0.4004,      0.4014,      0.4024,      0.4034,      0.4044,     0.40541,     0.40641,     0.40741,\n",
              "           0.40841,     0.40941,     0.41041,     0.41141,     0.41241,     0.41341,     0.41441,     0.41542,     0.41642,     0.41742,     0.41842,     0.41942,     0.42042,     0.42142,     0.42242,     0.42342,     0.42442,     0.42543,     0.42643,     0.42743,     0.42843,     0.42943,     0.43043,     0.43143,\n",
              "           0.43243,     0.43343,     0.43443,     0.43544,     0.43644,     0.43744,     0.43844,     0.43944,     0.44044,     0.44144,     0.44244,     0.44344,     0.44444,     0.44545,     0.44645,     0.44745,     0.44845,     0.44945,     0.45045,     0.45145,     0.45245,     0.45345,     0.45445,     0.45546,\n",
              "           0.45646,     0.45746,     0.45846,     0.45946,     0.46046,     0.46146,     0.46246,     0.46346,     0.46446,     0.46547,     0.46647,     0.46747,     0.46847,     0.46947,     0.47047,     0.47147,     0.47247,     0.47347,     0.47447,     0.47548,     0.47648,     0.47748,     0.47848,     0.47948,\n",
              "           0.48048,     0.48148,     0.48248,     0.48348,     0.48448,     0.48549,     0.48649,     0.48749,     0.48849,     0.48949,     0.49049,     0.49149,     0.49249,     0.49349,     0.49449,      0.4955,      0.4965,      0.4975,      0.4985,      0.4995,      0.5005,      0.5015,      0.5025,      0.5035,\n",
              "            0.5045,     0.50551,     0.50651,     0.50751,     0.50851,     0.50951,     0.51051,     0.51151,     0.51251,     0.51351,     0.51451,     0.51552,     0.51652,     0.51752,     0.51852,     0.51952,     0.52052,     0.52152,     0.52252,     0.52352,     0.52452,     0.52553,     0.52653,     0.52753,\n",
              "           0.52853,     0.52953,     0.53053,     0.53153,     0.53253,     0.53353,     0.53453,     0.53554,     0.53654,     0.53754,     0.53854,     0.53954,     0.54054,     0.54154,     0.54254,     0.54354,     0.54454,     0.54555,     0.54655,     0.54755,     0.54855,     0.54955,     0.55055,     0.55155,\n",
              "           0.55255,     0.55355,     0.55455,     0.55556,     0.55656,     0.55756,     0.55856,     0.55956,     0.56056,     0.56156,     0.56256,     0.56356,     0.56456,     0.56557,     0.56657,     0.56757,     0.56857,     0.56957,     0.57057,     0.57157,     0.57257,     0.57357,     0.57457,     0.57558,\n",
              "           0.57658,     0.57758,     0.57858,     0.57958,     0.58058,     0.58158,     0.58258,     0.58358,     0.58458,     0.58559,     0.58659,     0.58759,     0.58859,     0.58959,     0.59059,     0.59159,     0.59259,     0.59359,     0.59459,      0.5956,      0.5966,      0.5976,      0.5986,      0.5996,\n",
              "            0.6006,      0.6016,      0.6026,      0.6036,      0.6046,     0.60561,     0.60661,     0.60761,     0.60861,     0.60961,     0.61061,     0.61161,     0.61261,     0.61361,     0.61461,     0.61562,     0.61662,     0.61762,     0.61862,     0.61962,     0.62062,     0.62162,     0.62262,     0.62362,\n",
              "           0.62462,     0.62563,     0.62663,     0.62763,     0.62863,     0.62963,     0.63063,     0.63163,     0.63263,     0.63363,     0.63463,     0.63564,     0.63664,     0.63764,     0.63864,     0.63964,     0.64064,     0.64164,     0.64264,     0.64364,     0.64464,     0.64565,     0.64665,     0.64765,\n",
              "           0.64865,     0.64965,     0.65065,     0.65165,     0.65265,     0.65365,     0.65465,     0.65566,     0.65666,     0.65766,     0.65866,     0.65966,     0.66066,     0.66166,     0.66266,     0.66366,     0.66466,     0.66567,     0.66667,     0.66767,     0.66867,     0.66967,     0.67067,     0.67167,\n",
              "           0.67267,     0.67367,     0.67467,     0.67568,     0.67668,     0.67768,     0.67868,     0.67968,     0.68068,     0.68168,     0.68268,     0.68368,     0.68468,     0.68569,     0.68669,     0.68769,     0.68869,     0.68969,     0.69069,     0.69169,     0.69269,     0.69369,     0.69469,      0.6957,\n",
              "            0.6967,      0.6977,      0.6987,      0.6997,      0.7007,      0.7017,      0.7027,      0.7037,      0.7047,     0.70571,     0.70671,     0.70771,     0.70871,     0.70971,     0.71071,     0.71171,     0.71271,     0.71371,     0.71471,     0.71572,     0.71672,     0.71772,     0.71872,     0.71972,\n",
              "           0.72072,     0.72172,     0.72272,     0.72372,     0.72472,     0.72573,     0.72673,     0.72773,     0.72873,     0.72973,     0.73073,     0.73173,     0.73273,     0.73373,     0.73473,     0.73574,     0.73674,     0.73774,     0.73874,     0.73974,     0.74074,     0.74174,     0.74274,     0.74374,\n",
              "           0.74474,     0.74575,     0.74675,     0.74775,     0.74875,     0.74975,     0.75075,     0.75175,     0.75275,     0.75375,     0.75475,     0.75576,     0.75676,     0.75776,     0.75876,     0.75976,     0.76076,     0.76176,     0.76276,     0.76376,     0.76476,     0.76577,     0.76677,     0.76777,\n",
              "           0.76877,     0.76977,     0.77077,     0.77177,     0.77277,     0.77377,     0.77477,     0.77578,     0.77678,     0.77778,     0.77878,     0.77978,     0.78078,     0.78178,     0.78278,     0.78378,     0.78478,     0.78579,     0.78679,     0.78779,     0.78879,     0.78979,     0.79079,     0.79179,\n",
              "           0.79279,     0.79379,     0.79479,      0.7958,      0.7968,      0.7978,      0.7988,      0.7998,      0.8008,      0.8018,      0.8028,      0.8038,      0.8048,     0.80581,     0.80681,     0.80781,     0.80881,     0.80981,     0.81081,     0.81181,     0.81281,     0.81381,     0.81481,     0.81582,\n",
              "           0.81682,     0.81782,     0.81882,     0.81982,     0.82082,     0.82182,     0.82282,     0.82382,     0.82482,     0.82583,     0.82683,     0.82783,     0.82883,     0.82983,     0.83083,     0.83183,     0.83283,     0.83383,     0.83483,     0.83584,     0.83684,     0.83784,     0.83884,     0.83984,\n",
              "           0.84084,     0.84184,     0.84284,     0.84384,     0.84484,     0.84585,     0.84685,     0.84785,     0.84885,     0.84985,     0.85085,     0.85185,     0.85285,     0.85385,     0.85485,     0.85586,     0.85686,     0.85786,     0.85886,     0.85986,     0.86086,     0.86186,     0.86286,     0.86386,\n",
              "           0.86486,     0.86587,     0.86687,     0.86787,     0.86887,     0.86987,     0.87087,     0.87187,     0.87287,     0.87387,     0.87487,     0.87588,     0.87688,     0.87788,     0.87888,     0.87988,     0.88088,     0.88188,     0.88288,     0.88388,     0.88488,     0.88589,     0.88689,     0.88789,\n",
              "           0.88889,     0.88989,     0.89089,     0.89189,     0.89289,     0.89389,     0.89489,      0.8959,      0.8969,      0.8979,      0.8989,      0.8999,      0.9009,      0.9019,      0.9029,      0.9039,      0.9049,     0.90591,     0.90691,     0.90791,     0.90891,     0.90991,     0.91091,     0.91191,\n",
              "           0.91291,     0.91391,     0.91491,     0.91592,     0.91692,     0.91792,     0.91892,     0.91992,     0.92092,     0.92192,     0.92292,     0.92392,     0.92492,     0.92593,     0.92693,     0.92793,     0.92893,     0.92993,     0.93093,     0.93193,     0.93293,     0.93393,     0.93493,     0.93594,\n",
              "           0.93694,     0.93794,     0.93894,     0.93994,     0.94094,     0.94194,     0.94294,     0.94394,     0.94494,     0.94595,     0.94695,     0.94795,     0.94895,     0.94995,     0.95095,     0.95195,     0.95295,     0.95395,     0.95495,     0.95596,     0.95696,     0.95796,     0.95896,     0.95996,\n",
              "           0.96096,     0.96196,     0.96296,     0.96396,     0.96496,     0.96597,     0.96697,     0.96797,     0.96897,     0.96997,     0.97097,     0.97197,     0.97297,     0.97397,     0.97497,     0.97598,     0.97698,     0.97798,     0.97898,     0.97998,     0.98098,     0.98198,     0.98298,     0.98398,\n",
              "           0.98498,     0.98599,     0.98699,     0.98799,     0.98899,     0.98999,     0.99099,     0.99199,     0.99299,     0.99399,     0.99499,       0.996,       0.997,       0.998,       0.999,           1]), array([[    0.93766,     0.93766,     0.93028,     0.92621,     0.92242,     0.91815,     0.91621,      0.9129,     0.91028,     0.90844,      0.9065,     0.90417,     0.90271,     0.90077,     0.89998,     0.89824,     0.89688,     0.89591,     0.89455,     0.89407,      0.8931,     0.89222,     0.89135,\n",
              "            0.89028,     0.88912,     0.88805,     0.88649,     0.88543,     0.88368,      0.8828,     0.88203,     0.88106,     0.88018,     0.87911,     0.87824,     0.87746,     0.87649,      0.8762,     0.87504,     0.87436,     0.87348,     0.87261,     0.87222,     0.87183,     0.87135,     0.87076,\n",
              "            0.87047,     0.87028,      0.8696,     0.86853,     0.86795,     0.86727,     0.86659,     0.86581,     0.86523,     0.86504,     0.86436,     0.86348,     0.86257,     0.86203,     0.86105,     0.86018,      0.8596,     0.85882,     0.85814,     0.85775,     0.85678,      0.8563,     0.85551,\n",
              "            0.85455,     0.85377,     0.85329,      0.8528,     0.85222,     0.85183,     0.85144,     0.85134,     0.85037,     0.84989,     0.84969,      0.8495,     0.84901,     0.84882,     0.84841,     0.84775,     0.84727,     0.84698,     0.84659,     0.84649,       0.846,     0.84494,     0.84465,\n",
              "            0.84445,     0.84416,     0.84367,     0.84319,     0.84299,      0.8428,     0.84222,     0.84202,     0.84125,      0.8409,     0.84004,     0.83989,      0.8396,     0.83901,     0.83843,     0.83814,     0.83765,     0.83756,     0.83717,     0.83717,     0.83697,     0.83678,     0.83649,\n",
              "            0.83639,     0.83562,     0.83542,     0.83477,     0.83455,     0.83387,     0.83367,     0.83299,     0.83241,     0.83212,     0.83173,     0.83144,     0.83079,     0.83018,     0.82989,      0.8295,      0.8294,     0.82911,     0.82872,     0.82824,     0.82814,     0.82785,     0.82726,\n",
              "            0.82688,     0.82688,     0.82649,      0.8261,     0.82591,     0.82532,     0.82513,     0.82484,     0.82425,     0.82416,     0.82387,     0.82328,      0.8227,     0.82212,      0.8219,     0.82163,     0.82105,     0.82076,     0.82047,     0.81989,     0.81969,     0.81921,     0.81882,\n",
              "            0.81814,     0.81775,     0.81746,     0.81726,     0.81668,     0.81639,     0.81629,       0.816,     0.81561,     0.81532,     0.81493,     0.81474,     0.81455,     0.81425,     0.81416,     0.81387,     0.81357,     0.81338,     0.81251,     0.81231,     0.81202,     0.81163,     0.81105,\n",
              "            0.81086,     0.81056,     0.80998,     0.80977,      0.8094,     0.80901,      0.8087,     0.80843,     0.80814,     0.80775,     0.80765,     0.80732,     0.80707,     0.80687,     0.80668,     0.80629,     0.80561,     0.80552,     0.80552,     0.80522,     0.80513,     0.80474,     0.80445,\n",
              "            0.80421,     0.80367,     0.80357,     0.80318,     0.80266,     0.80192,     0.80153,     0.80124,     0.80115,     0.80095,     0.80077,     0.80047,     0.80047,     0.80017,     0.79943,     0.79896,     0.79862,     0.79833,     0.79823,     0.79771,     0.79765,     0.79736,     0.79707,\n",
              "            0.79697,     0.79697,     0.79668,     0.79604,     0.79551,     0.79483,     0.79445,     0.79406,     0.79406,     0.79406,     0.79367,     0.79353,     0.79308,     0.79289,      0.7926,     0.79221,     0.79182,     0.79153,     0.79124,     0.79105,     0.79047,     0.79017,     0.78998,\n",
              "            0.78919,     0.78881,     0.78862,     0.78784,     0.78747,     0.78736,     0.78707,     0.78677,     0.78648,     0.78639,      0.7861,      0.7858,     0.78532,     0.78485,     0.78445,     0.78394,     0.78386,     0.78386,     0.78357,     0.78324,     0.78289,     0.78279,      0.7826,\n",
              "            0.78211,     0.78176,     0.78154,     0.78102,     0.78059,     0.78037,     0.77959,     0.77896,     0.77862,     0.77815,     0.77794,     0.77765,     0.77745,     0.77727,     0.77677,     0.77639,      0.7759,     0.77571,     0.77492,     0.77454,     0.77425,     0.77387,     0.77376,\n",
              "            0.77305,     0.77299,      0.7726,     0.77231,     0.77191,     0.77153,     0.77134,     0.77114,     0.77105,     0.77054,     0.77014,     0.76988,     0.76959,     0.76901,     0.76891,     0.76872,     0.76854,     0.76826,     0.76823,     0.76804,     0.76765,     0.76742,     0.76716,\n",
              "            0.76697,     0.76668,     0.76619,     0.76609,     0.76567,     0.76561,     0.76551,     0.76522,     0.76502,     0.76464,     0.76425,      0.7638,     0.76338,     0.76329,     0.76291,     0.76211,     0.76202,     0.76143,     0.76134,     0.76114,     0.76087,     0.76027,     0.76006,\n",
              "            0.75957,     0.75935,     0.75901,     0.75874,     0.75871,     0.75803,     0.75764,     0.75755,     0.75745,     0.75726,     0.75721,     0.75706,     0.75671,     0.75609,      0.7558,     0.75551,     0.75522,     0.75493,     0.75425,     0.75399,      0.7536,     0.75321,     0.75299,\n",
              "             0.7526,      0.7524,     0.75192,      0.7516,     0.75131,       0.751,     0.75066,      0.7503,     0.74972,     0.74968,      0.7494,      0.7491,     0.74842,      0.7481,     0.74803,     0.74765,     0.74719,     0.74701,     0.74651,     0.74622,      0.7457,     0.74515,     0.74483,\n",
              "            0.74444,     0.74405,     0.74376,     0.74326,     0.74318,     0.74314,     0.74265,     0.74245,     0.74192,     0.74175,     0.74135,     0.74114,     0.74096,     0.74057,     0.74007,     0.73979,     0.73967,      0.7393,     0.73862,     0.73862,     0.73813,     0.73794,     0.73774,\n",
              "             0.7376,     0.73729,      0.7369,     0.73658,     0.73619,     0.73619,      0.7359,     0.73553,     0.73551,     0.73502,     0.73482,     0.73423,     0.73365,     0.73335,     0.73306,     0.73248,     0.73208,     0.73179,     0.73121,     0.73101,     0.73042,     0.72988,     0.72949,\n",
              "            0.72949,       0.729,     0.72871,     0.72842,     0.72793,     0.72716,     0.72591,     0.72541,     0.72523,     0.72502,     0.72474,     0.72444,     0.72415,     0.72395,     0.72366,     0.72337,     0.72307,     0.72258,      0.7225,     0.72226,     0.72182,     0.72148,     0.72133,\n",
              "            0.72104,      0.7206,     0.72021,     0.71982,     0.71962,      0.7192,       0.719,     0.71874,     0.71842,     0.71823,     0.71767,     0.71725,     0.71698,     0.71677,     0.71659,     0.71619,     0.71589,     0.71522,     0.71502,     0.71492,     0.71415,     0.71405,     0.71336,\n",
              "            0.71297,       0.712,     0.71162,     0.71151,     0.71123,     0.71075,     0.71055,     0.71043,     0.71007,     0.70968,     0.70939,     0.70926,     0.70877,     0.70848,      0.7075,     0.70686,     0.70667,     0.70619,      0.7058,     0.70535,     0.70487,     0.70415,     0.70389,\n",
              "            0.70337,     0.70291,     0.70243,     0.70184,     0.70162,     0.70087,     0.70057,     0.70018,     0.70007,     0.69978,      0.6993,     0.69852,     0.69784,     0.69745,     0.69628,     0.69609,     0.69579,     0.69541,     0.69511,     0.69471,     0.69415,     0.69325,     0.69257,\n",
              "             0.6923,     0.69179,      0.6913,     0.69072,     0.69042,     0.68984,     0.68948,     0.68915,     0.68867,     0.68779,      0.6874,     0.68691,     0.68642,     0.68579,     0.68545,     0.68482,     0.68418,     0.68359,     0.68252,     0.68184,     0.68135,     0.68104,     0.68077,\n",
              "            0.67999,      0.6796,     0.67929,     0.67862,     0.67823,     0.67663,     0.67594,     0.67555,     0.67526,     0.67477,     0.67463,      0.6736,      0.6735,     0.67272,     0.67175,     0.67145,     0.67055,     0.66987,     0.66968,     0.66939,     0.66911,     0.66824,     0.66764,\n",
              "            0.66687,     0.66647,     0.66628,     0.66589,     0.66492,     0.66356,     0.66258,     0.66195,     0.66146,      0.6603,      0.6601,     0.65951,     0.65864,     0.65815,     0.65708,     0.65649,     0.65552,     0.65513,     0.65434,     0.65375,     0.65357,     0.65216,     0.65187,\n",
              "            0.65118,     0.65011,     0.64953,     0.64875,     0.64826,     0.64787,      0.6467,      0.6466,     0.64602,      0.6449,     0.64431,     0.64295,     0.64237,     0.64168,       0.641,     0.64035,     0.63993,     0.63948,     0.63901,      0.6387,     0.63803,     0.63744,     0.63598,\n",
              "            0.63549,     0.63491,     0.63413,     0.63344,     0.63252,     0.63204,     0.63126,     0.63009,     0.62931,     0.62872,     0.62775,     0.62673,     0.62546,     0.62469,      0.6241,     0.62322,     0.62269,     0.62162,     0.62064,      0.6188,     0.61831,     0.61724,     0.61627,\n",
              "            0.61553,     0.61466,     0.61378,       0.613,     0.61193,     0.60945,      0.6079,     0.60702,     0.60624,     0.60559,     0.60483,     0.60376,     0.60229,     0.60055,     0.59827,       0.597,     0.59603,     0.59515,     0.59374,     0.59286,      0.5915,     0.58966,     0.58837,\n",
              "            0.58688,      0.5862,     0.58503,     0.58275,     0.58151,     0.58032,      0.5795,     0.57793,     0.57715,     0.57637,      0.5739,     0.57292,     0.57234,     0.57035,     0.56976,     0.56908,      0.5678,     0.56679,     0.56533,     0.56436,     0.56217,     0.56188,     0.56069,\n",
              "             0.5592,     0.55813,     0.55716,     0.55526,       0.554,      0.5518,     0.55084,     0.54889,     0.54593,     0.54399,     0.54141,     0.53996,      0.5381,     0.53728,     0.53621,     0.53344,     0.53169,     0.53089,     0.53018,     0.52901,     0.52682,     0.52575,     0.52484,\n",
              "            0.52356,     0.52239,     0.52021,     0.51919,     0.51801,     0.51685,     0.51476,     0.51369,     0.51131,     0.51072,     0.50931,     0.50844,     0.50644,     0.50545,     0.50445,     0.50226,     0.50044,     0.49908,     0.49803,     0.49613,     0.49474,     0.49325,     0.49181,\n",
              "            0.48894,     0.48724,     0.48568,     0.48379,     0.48102,     0.47984,     0.47892,     0.47698,     0.47431,     0.47332,     0.47183,     0.46896,     0.46845,      0.4659,     0.46344,     0.46339,     0.46123,      0.4582,     0.45803,     0.45569,     0.45355,     0.45325,     0.44932,\n",
              "            0.44749,     0.44509,     0.44475,      0.4411,     0.43867,     0.43605,     0.43565,     0.43357,     0.43043,      0.4301,     0.42778,     0.42581,      0.4254,     0.42273,     0.42007,     0.41806,     0.41783,     0.41451,     0.41199,      0.4115,      0.4082,     0.40547,     0.40251,\n",
              "            0.40032,     0.39959,      0.3972,     0.39434,     0.39185,     0.39094,     0.38873,     0.38492,     0.38193,     0.38142,     0.37813,     0.37568,     0.37259,     0.37179,     0.36753,     0.36465,     0.36189,     0.35795,     0.35421,      0.3511,      0.3508,     0.34788,     0.34512,\n",
              "            0.34272,     0.33982,     0.33932,     0.33734,     0.33452,     0.33241,     0.32826,     0.32764,     0.32365,     0.32019,     0.31743,     0.31412,     0.31105,     0.31023,     0.30722,      0.3011,     0.29963,     0.29671,     0.29244,     0.29055,      0.2868,     0.28291,     0.27845,\n",
              "            0.27736,     0.27415,     0.26959,     0.26608,     0.26373,     0.26015,     0.25714,     0.25315,     0.25023,     0.24717,     0.24537,       0.241,     0.23536,     0.23215,     0.22807,     0.22534,     0.22145,     0.21777,     0.21552,     0.21105,     0.20716,     0.20347,     0.20006,\n",
              "            0.19685,     0.19335,     0.18879,     0.18538,      0.1813,     0.17693,     0.17333,     0.16983,     0.16536,     0.15797,     0.15476,     0.15078,     0.14691,     0.14203,     0.13824,     0.13347,     0.12881,     0.12259,     0.11919,     0.11462,     0.10888,     0.10208,    0.099263,\n",
              "           0.094015,    0.090611,    0.084489,    0.080309,    0.075061,    0.070007,    0.064662,    0.058734,     0.05504,    0.050957,    0.045515,    0.042111,    0.037446,    0.034431,    0.030683,    0.028207,    0.024416,    0.021886,    0.020522,     0.01809,    0.016725,     0.01439,    0.012832,\n",
              "           0.011759,    0.010686,   0.0098073,    0.008443,   0.0077585,   0.0068798,    0.006001,   0.0052194,   0.0042436,   0.0039157,   0.0035542,   0.0029884,   0.0025735,   0.0021803,   0.0016899,   0.0014909,   0.0014153,   0.0013655,    0.001185,  0.00088884,  0.00068473,  0.00048811,  0.00034003,\n",
              "         0.00019385,  0.00017854,  0.00016323,  0.00014791,   0.0001326,  0.00011729,  0.00010198,           0,           0,           0,           0,           0,           0,           0,           0,           0,           0,           0,           0,           0,           0,           0,           0,\n",
              "                  0,           0,           0,           0,           0,           0,           0,           0,           0,           0,           0,           0,           0,           0,           0,           0,           0,           0,           0,           0,           0,           0,           0,\n",
              "                  0,           0,           0,           0,           0,           0,           0,           0,           0,           0,           0,           0,           0,           0,           0,           0,           0,           0,           0,           0,           0,           0,           0,\n",
              "                  0,           0,           0,           0,           0,           0,           0,           0,           0,           0,           0]]), 'Confidence', 'Recall']]\n",
              "fitness: 0.5850536345379672\n",
              "keys: ['metrics/precision(B)', 'metrics/recall(B)', 'metrics/mAP50(B)', 'metrics/mAP50-95(B)']\n",
              "maps: array([    0.55648])\n",
              "names: {0: 'rosto humano'}\n",
              "plot: True\n",
              "results_dict: {'metrics/precision(B)': 0.8861519866879125, 'metrics/recall(B)': 0.7580339102088787, 'metrics/mAP50(B)': 0.8422531036088007, 'metrics/mAP50-95(B)': 0.556475915752319, 'fitness': 0.5850536345379672}\n",
              "save_dir: PosixPath('runs/detect/custom_yolo_training2')\n",
              "speed: {'preprocess': 0.09912870376901482, 'inference': 1.6153234847096996, 'loss': 0.0003325892876681193, 'postprocess': 0.7712365906381735}\n",
              "task: 'detect'"
            ]
          },
          "metadata": {},
          "execution_count": 3
        }
      ]
    },
    {
      "cell_type": "code",
      "source": [
        "model.val(data=\"dataset.yaml\")"
      ],
      "metadata": {
        "colab": {
          "base_uri": "https://localhost:8080/"
        },
        "id": "_yzUZJRNB4dl",
        "outputId": "f5c4e6ca-a39d-42d0-97df-586b4d11a208"
      },
      "execution_count": null,
      "outputs": [
        {
          "output_type": "stream",
          "name": "stdout",
          "text": [
            "Ultralytics 8.3.40 🚀 Python-3.10.12 torch-2.5.1+cu121 CUDA:0 (NVIDIA A100-SXM4-40GB, 40514MiB)\n",
            "Model summary (fused): 268 layers, 68,133,198 parameters, 0 gradients, 257.4 GFLOPs\n"
          ]
        },
        {
          "output_type": "stream",
          "name": "stderr",
          "text": [
            "\u001b[34m\u001b[1mval: \u001b[0mScanning /root/.cache/kagglehub/datasets/thepbordin/indoor-object-detection/versions/1/valid/labels.cache... 230 images, 31 backgrounds, 0 corrupt: 100%|██████████| 230/230 [00:00<?, ?it/s]\n",
            "                 Class     Images  Instances      Box(P          R      mAP50  mAP50-95): 100%|██████████| 15/15 [00:05<00:00,  2.68it/s]\n"
          ]
        },
        {
          "output_type": "stream",
          "name": "stdout",
          "text": [
            "                   all        230       1289      0.363      0.581      0.423       0.27\n",
            "                  door         63         97      0.386       0.67      0.557      0.386\n",
            "           cabinetDoor         99        765       0.68      0.847       0.84      0.486\n",
            "      refrigeratorDoor         85        192      0.648      0.859      0.839      0.586\n",
            "                window         39         91      0.321      0.505      0.307      0.196\n",
            "                 chair         24         49       0.61      0.607       0.61      0.325\n",
            "                 table         30         40       0.23      0.325      0.205     0.0892\n",
            "               cabinet         28         32      0.336        0.5      0.467      0.379\n",
            "                 couch          1          1      0.185          1      0.199       0.12\n",
            "            openedDoor         13         13      0.131      0.385      0.131     0.0857\n",
            "                  pole          4          9      0.104      0.111     0.0771     0.0428\n",
            "Speed: 0.1ms preprocess, 14.3ms inference, 0.0ms loss, 0.9ms postprocess per image\n",
            "Results saved to \u001b[1mruns/detect/custom_yolo_training242\u001b[0m\n"
          ]
        },
        {
          "output_type": "execute_result",
          "data": {
            "text/plain": [
              "ultralytics.utils.metrics.DetMetrics object with attributes:\n",
              "\n",
              "ap_class_index: array([0, 1, 2, 3, 4, 5, 6, 7, 8, 9])\n",
              "box: ultralytics.utils.metrics.Metric object\n",
              "confusion_matrix: <ultralytics.utils.metrics.ConfusionMatrix object at 0x7d7b50686d40>\n",
              "curves: ['Precision-Recall(B)', 'F1-Confidence(B)', 'Precision-Confidence(B)', 'Recall-Confidence(B)']\n",
              "curves_results: [[array([          0,    0.001001,    0.002002,    0.003003,    0.004004,    0.005005,    0.006006,    0.007007,    0.008008,    0.009009,     0.01001,    0.011011,    0.012012,    0.013013,    0.014014,    0.015015,    0.016016,    0.017017,    0.018018,    0.019019,     0.02002,    0.021021,    0.022022,    0.023023,\n",
              "          0.024024,    0.025025,    0.026026,    0.027027,    0.028028,    0.029029,     0.03003,    0.031031,    0.032032,    0.033033,    0.034034,    0.035035,    0.036036,    0.037037,    0.038038,    0.039039,     0.04004,    0.041041,    0.042042,    0.043043,    0.044044,    0.045045,    0.046046,    0.047047,\n",
              "          0.048048,    0.049049,     0.05005,    0.051051,    0.052052,    0.053053,    0.054054,    0.055055,    0.056056,    0.057057,    0.058058,    0.059059,     0.06006,    0.061061,    0.062062,    0.063063,    0.064064,    0.065065,    0.066066,    0.067067,    0.068068,    0.069069,     0.07007,    0.071071,\n",
              "          0.072072,    0.073073,    0.074074,    0.075075,    0.076076,    0.077077,    0.078078,    0.079079,     0.08008,    0.081081,    0.082082,    0.083083,    0.084084,    0.085085,    0.086086,    0.087087,    0.088088,    0.089089,     0.09009,    0.091091,    0.092092,    0.093093,    0.094094,    0.095095,\n",
              "          0.096096,    0.097097,    0.098098,    0.099099,      0.1001,      0.1011,      0.1021,      0.1031,      0.1041,     0.10511,     0.10611,     0.10711,     0.10811,     0.10911,     0.11011,     0.11111,     0.11211,     0.11311,     0.11411,     0.11512,     0.11612,     0.11712,     0.11812,     0.11912,\n",
              "           0.12012,     0.12112,     0.12212,     0.12312,     0.12412,     0.12513,     0.12613,     0.12713,     0.12813,     0.12913,     0.13013,     0.13113,     0.13213,     0.13313,     0.13413,     0.13514,     0.13614,     0.13714,     0.13814,     0.13914,     0.14014,     0.14114,     0.14214,     0.14314,\n",
              "           0.14414,     0.14515,     0.14615,     0.14715,     0.14815,     0.14915,     0.15015,     0.15115,     0.15215,     0.15315,     0.15415,     0.15516,     0.15616,     0.15716,     0.15816,     0.15916,     0.16016,     0.16116,     0.16216,     0.16316,     0.16416,     0.16517,     0.16617,     0.16717,\n",
              "           0.16817,     0.16917,     0.17017,     0.17117,     0.17217,     0.17317,     0.17417,     0.17518,     0.17618,     0.17718,     0.17818,     0.17918,     0.18018,     0.18118,     0.18218,     0.18318,     0.18418,     0.18519,     0.18619,     0.18719,     0.18819,     0.18919,     0.19019,     0.19119,\n",
              "           0.19219,     0.19319,     0.19419,      0.1952,      0.1962,      0.1972,      0.1982,      0.1992,      0.2002,      0.2012,      0.2022,      0.2032,      0.2042,     0.20521,     0.20621,     0.20721,     0.20821,     0.20921,     0.21021,     0.21121,     0.21221,     0.21321,     0.21421,     0.21522,\n",
              "           0.21622,     0.21722,     0.21822,     0.21922,     0.22022,     0.22122,     0.22222,     0.22322,     0.22422,     0.22523,     0.22623,     0.22723,     0.22823,     0.22923,     0.23023,     0.23123,     0.23223,     0.23323,     0.23423,     0.23524,     0.23624,     0.23724,     0.23824,     0.23924,\n",
              "           0.24024,     0.24124,     0.24224,     0.24324,     0.24424,     0.24525,     0.24625,     0.24725,     0.24825,     0.24925,     0.25025,     0.25125,     0.25225,     0.25325,     0.25425,     0.25526,     0.25626,     0.25726,     0.25826,     0.25926,     0.26026,     0.26126,     0.26226,     0.26326,\n",
              "           0.26426,     0.26527,     0.26627,     0.26727,     0.26827,     0.26927,     0.27027,     0.27127,     0.27227,     0.27327,     0.27427,     0.27528,     0.27628,     0.27728,     0.27828,     0.27928,     0.28028,     0.28128,     0.28228,     0.28328,     0.28428,     0.28529,     0.28629,     0.28729,\n",
              "           0.28829,     0.28929,     0.29029,     0.29129,     0.29229,     0.29329,     0.29429,      0.2953,      0.2963,      0.2973,      0.2983,      0.2993,      0.3003,      0.3013,      0.3023,      0.3033,      0.3043,     0.30531,     0.30631,     0.30731,     0.30831,     0.30931,     0.31031,     0.31131,\n",
              "           0.31231,     0.31331,     0.31431,     0.31532,     0.31632,     0.31732,     0.31832,     0.31932,     0.32032,     0.32132,     0.32232,     0.32332,     0.32432,     0.32533,     0.32633,     0.32733,     0.32833,     0.32933,     0.33033,     0.33133,     0.33233,     0.33333,     0.33433,     0.33534,\n",
              "           0.33634,     0.33734,     0.33834,     0.33934,     0.34034,     0.34134,     0.34234,     0.34334,     0.34434,     0.34535,     0.34635,     0.34735,     0.34835,     0.34935,     0.35035,     0.35135,     0.35235,     0.35335,     0.35435,     0.35536,     0.35636,     0.35736,     0.35836,     0.35936,\n",
              "           0.36036,     0.36136,     0.36236,     0.36336,     0.36436,     0.36537,     0.36637,     0.36737,     0.36837,     0.36937,     0.37037,     0.37137,     0.37237,     0.37337,     0.37437,     0.37538,     0.37638,     0.37738,     0.37838,     0.37938,     0.38038,     0.38138,     0.38238,     0.38338,\n",
              "           0.38438,     0.38539,     0.38639,     0.38739,     0.38839,     0.38939,     0.39039,     0.39139,     0.39239,     0.39339,     0.39439,      0.3954,      0.3964,      0.3974,      0.3984,      0.3994,      0.4004,      0.4014,      0.4024,      0.4034,      0.4044,     0.40541,     0.40641,     0.40741,\n",
              "           0.40841,     0.40941,     0.41041,     0.41141,     0.41241,     0.41341,     0.41441,     0.41542,     0.41642,     0.41742,     0.41842,     0.41942,     0.42042,     0.42142,     0.42242,     0.42342,     0.42442,     0.42543,     0.42643,     0.42743,     0.42843,     0.42943,     0.43043,     0.43143,\n",
              "           0.43243,     0.43343,     0.43443,     0.43544,     0.43644,     0.43744,     0.43844,     0.43944,     0.44044,     0.44144,     0.44244,     0.44344,     0.44444,     0.44545,     0.44645,     0.44745,     0.44845,     0.44945,     0.45045,     0.45145,     0.45245,     0.45345,     0.45445,     0.45546,\n",
              "           0.45646,     0.45746,     0.45846,     0.45946,     0.46046,     0.46146,     0.46246,     0.46346,     0.46446,     0.46547,     0.46647,     0.46747,     0.46847,     0.46947,     0.47047,     0.47147,     0.47247,     0.47347,     0.47447,     0.47548,     0.47648,     0.47748,     0.47848,     0.47948,\n",
              "           0.48048,     0.48148,     0.48248,     0.48348,     0.48448,     0.48549,     0.48649,     0.48749,     0.48849,     0.48949,     0.49049,     0.49149,     0.49249,     0.49349,     0.49449,      0.4955,      0.4965,      0.4975,      0.4985,      0.4995,      0.5005,      0.5015,      0.5025,      0.5035,\n",
              "            0.5045,     0.50551,     0.50651,     0.50751,     0.50851,     0.50951,     0.51051,     0.51151,     0.51251,     0.51351,     0.51451,     0.51552,     0.51652,     0.51752,     0.51852,     0.51952,     0.52052,     0.52152,     0.52252,     0.52352,     0.52452,     0.52553,     0.52653,     0.52753,\n",
              "           0.52853,     0.52953,     0.53053,     0.53153,     0.53253,     0.53353,     0.53453,     0.53554,     0.53654,     0.53754,     0.53854,     0.53954,     0.54054,     0.54154,     0.54254,     0.54354,     0.54454,     0.54555,     0.54655,     0.54755,     0.54855,     0.54955,     0.55055,     0.55155,\n",
              "           0.55255,     0.55355,     0.55455,     0.55556,     0.55656,     0.55756,     0.55856,     0.55956,     0.56056,     0.56156,     0.56256,     0.56356,     0.56456,     0.56557,     0.56657,     0.56757,     0.56857,     0.56957,     0.57057,     0.57157,     0.57257,     0.57357,     0.57457,     0.57558,\n",
              "           0.57658,     0.57758,     0.57858,     0.57958,     0.58058,     0.58158,     0.58258,     0.58358,     0.58458,     0.58559,     0.58659,     0.58759,     0.58859,     0.58959,     0.59059,     0.59159,     0.59259,     0.59359,     0.59459,      0.5956,      0.5966,      0.5976,      0.5986,      0.5996,\n",
              "            0.6006,      0.6016,      0.6026,      0.6036,      0.6046,     0.60561,     0.60661,     0.60761,     0.60861,     0.60961,     0.61061,     0.61161,     0.61261,     0.61361,     0.61461,     0.61562,     0.61662,     0.61762,     0.61862,     0.61962,     0.62062,     0.62162,     0.62262,     0.62362,\n",
              "           0.62462,     0.62563,     0.62663,     0.62763,     0.62863,     0.62963,     0.63063,     0.63163,     0.63263,     0.63363,     0.63463,     0.63564,     0.63664,     0.63764,     0.63864,     0.63964,     0.64064,     0.64164,     0.64264,     0.64364,     0.64464,     0.64565,     0.64665,     0.64765,\n",
              "           0.64865,     0.64965,     0.65065,     0.65165,     0.65265,     0.65365,     0.65465,     0.65566,     0.65666,     0.65766,     0.65866,     0.65966,     0.66066,     0.66166,     0.66266,     0.66366,     0.66466,     0.66567,     0.66667,     0.66767,     0.66867,     0.66967,     0.67067,     0.67167,\n",
              "           0.67267,     0.67367,     0.67467,     0.67568,     0.67668,     0.67768,     0.67868,     0.67968,     0.68068,     0.68168,     0.68268,     0.68368,     0.68468,     0.68569,     0.68669,     0.68769,     0.68869,     0.68969,     0.69069,     0.69169,     0.69269,     0.69369,     0.69469,      0.6957,\n",
              "            0.6967,      0.6977,      0.6987,      0.6997,      0.7007,      0.7017,      0.7027,      0.7037,      0.7047,     0.70571,     0.70671,     0.70771,     0.70871,     0.70971,     0.71071,     0.71171,     0.71271,     0.71371,     0.71471,     0.71572,     0.71672,     0.71772,     0.71872,     0.71972,\n",
              "           0.72072,     0.72172,     0.72272,     0.72372,     0.72472,     0.72573,     0.72673,     0.72773,     0.72873,     0.72973,     0.73073,     0.73173,     0.73273,     0.73373,     0.73473,     0.73574,     0.73674,     0.73774,     0.73874,     0.73974,     0.74074,     0.74174,     0.74274,     0.74374,\n",
              "           0.74474,     0.74575,     0.74675,     0.74775,     0.74875,     0.74975,     0.75075,     0.75175,     0.75275,     0.75375,     0.75475,     0.75576,     0.75676,     0.75776,     0.75876,     0.75976,     0.76076,     0.76176,     0.76276,     0.76376,     0.76476,     0.76577,     0.76677,     0.76777,\n",
              "           0.76877,     0.76977,     0.77077,     0.77177,     0.77277,     0.77377,     0.77477,     0.77578,     0.77678,     0.77778,     0.77878,     0.77978,     0.78078,     0.78178,     0.78278,     0.78378,     0.78478,     0.78579,     0.78679,     0.78779,     0.78879,     0.78979,     0.79079,     0.79179,\n",
              "           0.79279,     0.79379,     0.79479,      0.7958,      0.7968,      0.7978,      0.7988,      0.7998,      0.8008,      0.8018,      0.8028,      0.8038,      0.8048,     0.80581,     0.80681,     0.80781,     0.80881,     0.80981,     0.81081,     0.81181,     0.81281,     0.81381,     0.81481,     0.81582,\n",
              "           0.81682,     0.81782,     0.81882,     0.81982,     0.82082,     0.82182,     0.82282,     0.82382,     0.82482,     0.82583,     0.82683,     0.82783,     0.82883,     0.82983,     0.83083,     0.83183,     0.83283,     0.83383,     0.83483,     0.83584,     0.83684,     0.83784,     0.83884,     0.83984,\n",
              "           0.84084,     0.84184,     0.84284,     0.84384,     0.84484,     0.84585,     0.84685,     0.84785,     0.84885,     0.84985,     0.85085,     0.85185,     0.85285,     0.85385,     0.85485,     0.85586,     0.85686,     0.85786,     0.85886,     0.85986,     0.86086,     0.86186,     0.86286,     0.86386,\n",
              "           0.86486,     0.86587,     0.86687,     0.86787,     0.86887,     0.86987,     0.87087,     0.87187,     0.87287,     0.87387,     0.87487,     0.87588,     0.87688,     0.87788,     0.87888,     0.87988,     0.88088,     0.88188,     0.88288,     0.88388,     0.88488,     0.88589,     0.88689,     0.88789,\n",
              "           0.88889,     0.88989,     0.89089,     0.89189,     0.89289,     0.89389,     0.89489,      0.8959,      0.8969,      0.8979,      0.8989,      0.8999,      0.9009,      0.9019,      0.9029,      0.9039,      0.9049,     0.90591,     0.90691,     0.90791,     0.90891,     0.90991,     0.91091,     0.91191,\n",
              "           0.91291,     0.91391,     0.91491,     0.91592,     0.91692,     0.91792,     0.91892,     0.91992,     0.92092,     0.92192,     0.92292,     0.92392,     0.92492,     0.92593,     0.92693,     0.92793,     0.92893,     0.92993,     0.93093,     0.93193,     0.93293,     0.93393,     0.93493,     0.93594,\n",
              "           0.93694,     0.93794,     0.93894,     0.93994,     0.94094,     0.94194,     0.94294,     0.94394,     0.94494,     0.94595,     0.94695,     0.94795,     0.94895,     0.94995,     0.95095,     0.95195,     0.95295,     0.95395,     0.95495,     0.95596,     0.95696,     0.95796,     0.95896,     0.95996,\n",
              "           0.96096,     0.96196,     0.96296,     0.96396,     0.96496,     0.96597,     0.96697,     0.96797,     0.96897,     0.96997,     0.97097,     0.97197,     0.97297,     0.97397,     0.97497,     0.97598,     0.97698,     0.97798,     0.97898,     0.97998,     0.98098,     0.98198,     0.98298,     0.98398,\n",
              "           0.98498,     0.98599,     0.98699,     0.98799,     0.98899,     0.98999,     0.99099,     0.99199,     0.99299,     0.99399,     0.99499,       0.996,       0.997,       0.998,       0.999,           1]), array([[          1,           1,           1, ...,  0.00070195,  0.00035098,           0],\n",
              "       [          1,           1,           1, ...,   0.0045064,   0.0022532,           0],\n",
              "       [          1,           1,           1, ...,   0.0028494,   0.0014247,           0],\n",
              "       ...,\n",
              "       [        0.2,         0.2,         0.2, ...,         0.2,         0.2,           0],\n",
              "       [    0.26667,     0.26667,     0.26667, ...,  5.2104e-05,  2.6052e-05,           0],\n",
              "       [        0.5,         0.5,         0.5, ...,  7.4455e-05,  3.7227e-05,           0]]), 'Recall', 'Precision'], [array([          0,    0.001001,    0.002002,    0.003003,    0.004004,    0.005005,    0.006006,    0.007007,    0.008008,    0.009009,     0.01001,    0.011011,    0.012012,    0.013013,    0.014014,    0.015015,    0.016016,    0.017017,    0.018018,    0.019019,     0.02002,    0.021021,    0.022022,    0.023023,\n",
              "          0.024024,    0.025025,    0.026026,    0.027027,    0.028028,    0.029029,     0.03003,    0.031031,    0.032032,    0.033033,    0.034034,    0.035035,    0.036036,    0.037037,    0.038038,    0.039039,     0.04004,    0.041041,    0.042042,    0.043043,    0.044044,    0.045045,    0.046046,    0.047047,\n",
              "          0.048048,    0.049049,     0.05005,    0.051051,    0.052052,    0.053053,    0.054054,    0.055055,    0.056056,    0.057057,    0.058058,    0.059059,     0.06006,    0.061061,    0.062062,    0.063063,    0.064064,    0.065065,    0.066066,    0.067067,    0.068068,    0.069069,     0.07007,    0.071071,\n",
              "          0.072072,    0.073073,    0.074074,    0.075075,    0.076076,    0.077077,    0.078078,    0.079079,     0.08008,    0.081081,    0.082082,    0.083083,    0.084084,    0.085085,    0.086086,    0.087087,    0.088088,    0.089089,     0.09009,    0.091091,    0.092092,    0.093093,    0.094094,    0.095095,\n",
              "          0.096096,    0.097097,    0.098098,    0.099099,      0.1001,      0.1011,      0.1021,      0.1031,      0.1041,     0.10511,     0.10611,     0.10711,     0.10811,     0.10911,     0.11011,     0.11111,     0.11211,     0.11311,     0.11411,     0.11512,     0.11612,     0.11712,     0.11812,     0.11912,\n",
              "           0.12012,     0.12112,     0.12212,     0.12312,     0.12412,     0.12513,     0.12613,     0.12713,     0.12813,     0.12913,     0.13013,     0.13113,     0.13213,     0.13313,     0.13413,     0.13514,     0.13614,     0.13714,     0.13814,     0.13914,     0.14014,     0.14114,     0.14214,     0.14314,\n",
              "           0.14414,     0.14515,     0.14615,     0.14715,     0.14815,     0.14915,     0.15015,     0.15115,     0.15215,     0.15315,     0.15415,     0.15516,     0.15616,     0.15716,     0.15816,     0.15916,     0.16016,     0.16116,     0.16216,     0.16316,     0.16416,     0.16517,     0.16617,     0.16717,\n",
              "           0.16817,     0.16917,     0.17017,     0.17117,     0.17217,     0.17317,     0.17417,     0.17518,     0.17618,     0.17718,     0.17818,     0.17918,     0.18018,     0.18118,     0.18218,     0.18318,     0.18418,     0.18519,     0.18619,     0.18719,     0.18819,     0.18919,     0.19019,     0.19119,\n",
              "           0.19219,     0.19319,     0.19419,      0.1952,      0.1962,      0.1972,      0.1982,      0.1992,      0.2002,      0.2012,      0.2022,      0.2032,      0.2042,     0.20521,     0.20621,     0.20721,     0.20821,     0.20921,     0.21021,     0.21121,     0.21221,     0.21321,     0.21421,     0.21522,\n",
              "           0.21622,     0.21722,     0.21822,     0.21922,     0.22022,     0.22122,     0.22222,     0.22322,     0.22422,     0.22523,     0.22623,     0.22723,     0.22823,     0.22923,     0.23023,     0.23123,     0.23223,     0.23323,     0.23423,     0.23524,     0.23624,     0.23724,     0.23824,     0.23924,\n",
              "           0.24024,     0.24124,     0.24224,     0.24324,     0.24424,     0.24525,     0.24625,     0.24725,     0.24825,     0.24925,     0.25025,     0.25125,     0.25225,     0.25325,     0.25425,     0.25526,     0.25626,     0.25726,     0.25826,     0.25926,     0.26026,     0.26126,     0.26226,     0.26326,\n",
              "           0.26426,     0.26527,     0.26627,     0.26727,     0.26827,     0.26927,     0.27027,     0.27127,     0.27227,     0.27327,     0.27427,     0.27528,     0.27628,     0.27728,     0.27828,     0.27928,     0.28028,     0.28128,     0.28228,     0.28328,     0.28428,     0.28529,     0.28629,     0.28729,\n",
              "           0.28829,     0.28929,     0.29029,     0.29129,     0.29229,     0.29329,     0.29429,      0.2953,      0.2963,      0.2973,      0.2983,      0.2993,      0.3003,      0.3013,      0.3023,      0.3033,      0.3043,     0.30531,     0.30631,     0.30731,     0.30831,     0.30931,     0.31031,     0.31131,\n",
              "           0.31231,     0.31331,     0.31431,     0.31532,     0.31632,     0.31732,     0.31832,     0.31932,     0.32032,     0.32132,     0.32232,     0.32332,     0.32432,     0.32533,     0.32633,     0.32733,     0.32833,     0.32933,     0.33033,     0.33133,     0.33233,     0.33333,     0.33433,     0.33534,\n",
              "           0.33634,     0.33734,     0.33834,     0.33934,     0.34034,     0.34134,     0.34234,     0.34334,     0.34434,     0.34535,     0.34635,     0.34735,     0.34835,     0.34935,     0.35035,     0.35135,     0.35235,     0.35335,     0.35435,     0.35536,     0.35636,     0.35736,     0.35836,     0.35936,\n",
              "           0.36036,     0.36136,     0.36236,     0.36336,     0.36436,     0.36537,     0.36637,     0.36737,     0.36837,     0.36937,     0.37037,     0.37137,     0.37237,     0.37337,     0.37437,     0.37538,     0.37638,     0.37738,     0.37838,     0.37938,     0.38038,     0.38138,     0.38238,     0.38338,\n",
              "           0.38438,     0.38539,     0.38639,     0.38739,     0.38839,     0.38939,     0.39039,     0.39139,     0.39239,     0.39339,     0.39439,      0.3954,      0.3964,      0.3974,      0.3984,      0.3994,      0.4004,      0.4014,      0.4024,      0.4034,      0.4044,     0.40541,     0.40641,     0.40741,\n",
              "           0.40841,     0.40941,     0.41041,     0.41141,     0.41241,     0.41341,     0.41441,     0.41542,     0.41642,     0.41742,     0.41842,     0.41942,     0.42042,     0.42142,     0.42242,     0.42342,     0.42442,     0.42543,     0.42643,     0.42743,     0.42843,     0.42943,     0.43043,     0.43143,\n",
              "           0.43243,     0.43343,     0.43443,     0.43544,     0.43644,     0.43744,     0.43844,     0.43944,     0.44044,     0.44144,     0.44244,     0.44344,     0.44444,     0.44545,     0.44645,     0.44745,     0.44845,     0.44945,     0.45045,     0.45145,     0.45245,     0.45345,     0.45445,     0.45546,\n",
              "           0.45646,     0.45746,     0.45846,     0.45946,     0.46046,     0.46146,     0.46246,     0.46346,     0.46446,     0.46547,     0.46647,     0.46747,     0.46847,     0.46947,     0.47047,     0.47147,     0.47247,     0.47347,     0.47447,     0.47548,     0.47648,     0.47748,     0.47848,     0.47948,\n",
              "           0.48048,     0.48148,     0.48248,     0.48348,     0.48448,     0.48549,     0.48649,     0.48749,     0.48849,     0.48949,     0.49049,     0.49149,     0.49249,     0.49349,     0.49449,      0.4955,      0.4965,      0.4975,      0.4985,      0.4995,      0.5005,      0.5015,      0.5025,      0.5035,\n",
              "            0.5045,     0.50551,     0.50651,     0.50751,     0.50851,     0.50951,     0.51051,     0.51151,     0.51251,     0.51351,     0.51451,     0.51552,     0.51652,     0.51752,     0.51852,     0.51952,     0.52052,     0.52152,     0.52252,     0.52352,     0.52452,     0.52553,     0.52653,     0.52753,\n",
              "           0.52853,     0.52953,     0.53053,     0.53153,     0.53253,     0.53353,     0.53453,     0.53554,     0.53654,     0.53754,     0.53854,     0.53954,     0.54054,     0.54154,     0.54254,     0.54354,     0.54454,     0.54555,     0.54655,     0.54755,     0.54855,     0.54955,     0.55055,     0.55155,\n",
              "           0.55255,     0.55355,     0.55455,     0.55556,     0.55656,     0.55756,     0.55856,     0.55956,     0.56056,     0.56156,     0.56256,     0.56356,     0.56456,     0.56557,     0.56657,     0.56757,     0.56857,     0.56957,     0.57057,     0.57157,     0.57257,     0.57357,     0.57457,     0.57558,\n",
              "           0.57658,     0.57758,     0.57858,     0.57958,     0.58058,     0.58158,     0.58258,     0.58358,     0.58458,     0.58559,     0.58659,     0.58759,     0.58859,     0.58959,     0.59059,     0.59159,     0.59259,     0.59359,     0.59459,      0.5956,      0.5966,      0.5976,      0.5986,      0.5996,\n",
              "            0.6006,      0.6016,      0.6026,      0.6036,      0.6046,     0.60561,     0.60661,     0.60761,     0.60861,     0.60961,     0.61061,     0.61161,     0.61261,     0.61361,     0.61461,     0.61562,     0.61662,     0.61762,     0.61862,     0.61962,     0.62062,     0.62162,     0.62262,     0.62362,\n",
              "           0.62462,     0.62563,     0.62663,     0.62763,     0.62863,     0.62963,     0.63063,     0.63163,     0.63263,     0.63363,     0.63463,     0.63564,     0.63664,     0.63764,     0.63864,     0.63964,     0.64064,     0.64164,     0.64264,     0.64364,     0.64464,     0.64565,     0.64665,     0.64765,\n",
              "           0.64865,     0.64965,     0.65065,     0.65165,     0.65265,     0.65365,     0.65465,     0.65566,     0.65666,     0.65766,     0.65866,     0.65966,     0.66066,     0.66166,     0.66266,     0.66366,     0.66466,     0.66567,     0.66667,     0.66767,     0.66867,     0.66967,     0.67067,     0.67167,\n",
              "           0.67267,     0.67367,     0.67467,     0.67568,     0.67668,     0.67768,     0.67868,     0.67968,     0.68068,     0.68168,     0.68268,     0.68368,     0.68468,     0.68569,     0.68669,     0.68769,     0.68869,     0.68969,     0.69069,     0.69169,     0.69269,     0.69369,     0.69469,      0.6957,\n",
              "            0.6967,      0.6977,      0.6987,      0.6997,      0.7007,      0.7017,      0.7027,      0.7037,      0.7047,     0.70571,     0.70671,     0.70771,     0.70871,     0.70971,     0.71071,     0.71171,     0.71271,     0.71371,     0.71471,     0.71572,     0.71672,     0.71772,     0.71872,     0.71972,\n",
              "           0.72072,     0.72172,     0.72272,     0.72372,     0.72472,     0.72573,     0.72673,     0.72773,     0.72873,     0.72973,     0.73073,     0.73173,     0.73273,     0.73373,     0.73473,     0.73574,     0.73674,     0.73774,     0.73874,     0.73974,     0.74074,     0.74174,     0.74274,     0.74374,\n",
              "           0.74474,     0.74575,     0.74675,     0.74775,     0.74875,     0.74975,     0.75075,     0.75175,     0.75275,     0.75375,     0.75475,     0.75576,     0.75676,     0.75776,     0.75876,     0.75976,     0.76076,     0.76176,     0.76276,     0.76376,     0.76476,     0.76577,     0.76677,     0.76777,\n",
              "           0.76877,     0.76977,     0.77077,     0.77177,     0.77277,     0.77377,     0.77477,     0.77578,     0.77678,     0.77778,     0.77878,     0.77978,     0.78078,     0.78178,     0.78278,     0.78378,     0.78478,     0.78579,     0.78679,     0.78779,     0.78879,     0.78979,     0.79079,     0.79179,\n",
              "           0.79279,     0.79379,     0.79479,      0.7958,      0.7968,      0.7978,      0.7988,      0.7998,      0.8008,      0.8018,      0.8028,      0.8038,      0.8048,     0.80581,     0.80681,     0.80781,     0.80881,     0.80981,     0.81081,     0.81181,     0.81281,     0.81381,     0.81481,     0.81582,\n",
              "           0.81682,     0.81782,     0.81882,     0.81982,     0.82082,     0.82182,     0.82282,     0.82382,     0.82482,     0.82583,     0.82683,     0.82783,     0.82883,     0.82983,     0.83083,     0.83183,     0.83283,     0.83383,     0.83483,     0.83584,     0.83684,     0.83784,     0.83884,     0.83984,\n",
              "           0.84084,     0.84184,     0.84284,     0.84384,     0.84484,     0.84585,     0.84685,     0.84785,     0.84885,     0.84985,     0.85085,     0.85185,     0.85285,     0.85385,     0.85485,     0.85586,     0.85686,     0.85786,     0.85886,     0.85986,     0.86086,     0.86186,     0.86286,     0.86386,\n",
              "           0.86486,     0.86587,     0.86687,     0.86787,     0.86887,     0.86987,     0.87087,     0.87187,     0.87287,     0.87387,     0.87487,     0.87588,     0.87688,     0.87788,     0.87888,     0.87988,     0.88088,     0.88188,     0.88288,     0.88388,     0.88488,     0.88589,     0.88689,     0.88789,\n",
              "           0.88889,     0.88989,     0.89089,     0.89189,     0.89289,     0.89389,     0.89489,      0.8959,      0.8969,      0.8979,      0.8989,      0.8999,      0.9009,      0.9019,      0.9029,      0.9039,      0.9049,     0.90591,     0.90691,     0.90791,     0.90891,     0.90991,     0.91091,     0.91191,\n",
              "           0.91291,     0.91391,     0.91491,     0.91592,     0.91692,     0.91792,     0.91892,     0.91992,     0.92092,     0.92192,     0.92292,     0.92392,     0.92492,     0.92593,     0.92693,     0.92793,     0.92893,     0.92993,     0.93093,     0.93193,     0.93293,     0.93393,     0.93493,     0.93594,\n",
              "           0.93694,     0.93794,     0.93894,     0.93994,     0.94094,     0.94194,     0.94294,     0.94394,     0.94494,     0.94595,     0.94695,     0.94795,     0.94895,     0.94995,     0.95095,     0.95195,     0.95295,     0.95395,     0.95495,     0.95596,     0.95696,     0.95796,     0.95896,     0.95996,\n",
              "           0.96096,     0.96196,     0.96296,     0.96396,     0.96496,     0.96597,     0.96697,     0.96797,     0.96897,     0.96997,     0.97097,     0.97197,     0.97297,     0.97397,     0.97497,     0.97598,     0.97698,     0.97798,     0.97898,     0.97998,     0.98098,     0.98198,     0.98298,     0.98398,\n",
              "           0.98498,     0.98599,     0.98699,     0.98799,     0.98899,     0.98999,     0.99099,     0.99199,     0.99299,     0.99399,     0.99499,       0.996,       0.997,       0.998,       0.999,           1]), array([[   0.062812,    0.062812,    0.089261, ...,           0,           0,           0],\n",
              "       [    0.25856,      0.2587,     0.33432, ...,           0,           0,           0],\n",
              "       [     0.1247,     0.12477,     0.17983, ...,           0,           0,           0],\n",
              "       ...,\n",
              "       [  0.0076336,   0.0076336,    0.011787, ...,           0,           0,           0],\n",
              "       [   0.011919,    0.011932,    0.017457, ...,           0,           0,           0],\n",
              "       [   0.016355,     0.01637,    0.023761, ...,           0,           0,           0]]), 'Confidence', 'F1'], [array([          0,    0.001001,    0.002002,    0.003003,    0.004004,    0.005005,    0.006006,    0.007007,    0.008008,    0.009009,     0.01001,    0.011011,    0.012012,    0.013013,    0.014014,    0.015015,    0.016016,    0.017017,    0.018018,    0.019019,     0.02002,    0.021021,    0.022022,    0.023023,\n",
              "          0.024024,    0.025025,    0.026026,    0.027027,    0.028028,    0.029029,     0.03003,    0.031031,    0.032032,    0.033033,    0.034034,    0.035035,    0.036036,    0.037037,    0.038038,    0.039039,     0.04004,    0.041041,    0.042042,    0.043043,    0.044044,    0.045045,    0.046046,    0.047047,\n",
              "          0.048048,    0.049049,     0.05005,    0.051051,    0.052052,    0.053053,    0.054054,    0.055055,    0.056056,    0.057057,    0.058058,    0.059059,     0.06006,    0.061061,    0.062062,    0.063063,    0.064064,    0.065065,    0.066066,    0.067067,    0.068068,    0.069069,     0.07007,    0.071071,\n",
              "          0.072072,    0.073073,    0.074074,    0.075075,    0.076076,    0.077077,    0.078078,    0.079079,     0.08008,    0.081081,    0.082082,    0.083083,    0.084084,    0.085085,    0.086086,    0.087087,    0.088088,    0.089089,     0.09009,    0.091091,    0.092092,    0.093093,    0.094094,    0.095095,\n",
              "          0.096096,    0.097097,    0.098098,    0.099099,      0.1001,      0.1011,      0.1021,      0.1031,      0.1041,     0.10511,     0.10611,     0.10711,     0.10811,     0.10911,     0.11011,     0.11111,     0.11211,     0.11311,     0.11411,     0.11512,     0.11612,     0.11712,     0.11812,     0.11912,\n",
              "           0.12012,     0.12112,     0.12212,     0.12312,     0.12412,     0.12513,     0.12613,     0.12713,     0.12813,     0.12913,     0.13013,     0.13113,     0.13213,     0.13313,     0.13413,     0.13514,     0.13614,     0.13714,     0.13814,     0.13914,     0.14014,     0.14114,     0.14214,     0.14314,\n",
              "           0.14414,     0.14515,     0.14615,     0.14715,     0.14815,     0.14915,     0.15015,     0.15115,     0.15215,     0.15315,     0.15415,     0.15516,     0.15616,     0.15716,     0.15816,     0.15916,     0.16016,     0.16116,     0.16216,     0.16316,     0.16416,     0.16517,     0.16617,     0.16717,\n",
              "           0.16817,     0.16917,     0.17017,     0.17117,     0.17217,     0.17317,     0.17417,     0.17518,     0.17618,     0.17718,     0.17818,     0.17918,     0.18018,     0.18118,     0.18218,     0.18318,     0.18418,     0.18519,     0.18619,     0.18719,     0.18819,     0.18919,     0.19019,     0.19119,\n",
              "           0.19219,     0.19319,     0.19419,      0.1952,      0.1962,      0.1972,      0.1982,      0.1992,      0.2002,      0.2012,      0.2022,      0.2032,      0.2042,     0.20521,     0.20621,     0.20721,     0.20821,     0.20921,     0.21021,     0.21121,     0.21221,     0.21321,     0.21421,     0.21522,\n",
              "           0.21622,     0.21722,     0.21822,     0.21922,     0.22022,     0.22122,     0.22222,     0.22322,     0.22422,     0.22523,     0.22623,     0.22723,     0.22823,     0.22923,     0.23023,     0.23123,     0.23223,     0.23323,     0.23423,     0.23524,     0.23624,     0.23724,     0.23824,     0.23924,\n",
              "           0.24024,     0.24124,     0.24224,     0.24324,     0.24424,     0.24525,     0.24625,     0.24725,     0.24825,     0.24925,     0.25025,     0.25125,     0.25225,     0.25325,     0.25425,     0.25526,     0.25626,     0.25726,     0.25826,     0.25926,     0.26026,     0.26126,     0.26226,     0.26326,\n",
              "           0.26426,     0.26527,     0.26627,     0.26727,     0.26827,     0.26927,     0.27027,     0.27127,     0.27227,     0.27327,     0.27427,     0.27528,     0.27628,     0.27728,     0.27828,     0.27928,     0.28028,     0.28128,     0.28228,     0.28328,     0.28428,     0.28529,     0.28629,     0.28729,\n",
              "           0.28829,     0.28929,     0.29029,     0.29129,     0.29229,     0.29329,     0.29429,      0.2953,      0.2963,      0.2973,      0.2983,      0.2993,      0.3003,      0.3013,      0.3023,      0.3033,      0.3043,     0.30531,     0.30631,     0.30731,     0.30831,     0.30931,     0.31031,     0.31131,\n",
              "           0.31231,     0.31331,     0.31431,     0.31532,     0.31632,     0.31732,     0.31832,     0.31932,     0.32032,     0.32132,     0.32232,     0.32332,     0.32432,     0.32533,     0.32633,     0.32733,     0.32833,     0.32933,     0.33033,     0.33133,     0.33233,     0.33333,     0.33433,     0.33534,\n",
              "           0.33634,     0.33734,     0.33834,     0.33934,     0.34034,     0.34134,     0.34234,     0.34334,     0.34434,     0.34535,     0.34635,     0.34735,     0.34835,     0.34935,     0.35035,     0.35135,     0.35235,     0.35335,     0.35435,     0.35536,     0.35636,     0.35736,     0.35836,     0.35936,\n",
              "           0.36036,     0.36136,     0.36236,     0.36336,     0.36436,     0.36537,     0.36637,     0.36737,     0.36837,     0.36937,     0.37037,     0.37137,     0.37237,     0.37337,     0.37437,     0.37538,     0.37638,     0.37738,     0.37838,     0.37938,     0.38038,     0.38138,     0.38238,     0.38338,\n",
              "           0.38438,     0.38539,     0.38639,     0.38739,     0.38839,     0.38939,     0.39039,     0.39139,     0.39239,     0.39339,     0.39439,      0.3954,      0.3964,      0.3974,      0.3984,      0.3994,      0.4004,      0.4014,      0.4024,      0.4034,      0.4044,     0.40541,     0.40641,     0.40741,\n",
              "           0.40841,     0.40941,     0.41041,     0.41141,     0.41241,     0.41341,     0.41441,     0.41542,     0.41642,     0.41742,     0.41842,     0.41942,     0.42042,     0.42142,     0.42242,     0.42342,     0.42442,     0.42543,     0.42643,     0.42743,     0.42843,     0.42943,     0.43043,     0.43143,\n",
              "           0.43243,     0.43343,     0.43443,     0.43544,     0.43644,     0.43744,     0.43844,     0.43944,     0.44044,     0.44144,     0.44244,     0.44344,     0.44444,     0.44545,     0.44645,     0.44745,     0.44845,     0.44945,     0.45045,     0.45145,     0.45245,     0.45345,     0.45445,     0.45546,\n",
              "           0.45646,     0.45746,     0.45846,     0.45946,     0.46046,     0.46146,     0.46246,     0.46346,     0.46446,     0.46547,     0.46647,     0.46747,     0.46847,     0.46947,     0.47047,     0.47147,     0.47247,     0.47347,     0.47447,     0.47548,     0.47648,     0.47748,     0.47848,     0.47948,\n",
              "           0.48048,     0.48148,     0.48248,     0.48348,     0.48448,     0.48549,     0.48649,     0.48749,     0.48849,     0.48949,     0.49049,     0.49149,     0.49249,     0.49349,     0.49449,      0.4955,      0.4965,      0.4975,      0.4985,      0.4995,      0.5005,      0.5015,      0.5025,      0.5035,\n",
              "            0.5045,     0.50551,     0.50651,     0.50751,     0.50851,     0.50951,     0.51051,     0.51151,     0.51251,     0.51351,     0.51451,     0.51552,     0.51652,     0.51752,     0.51852,     0.51952,     0.52052,     0.52152,     0.52252,     0.52352,     0.52452,     0.52553,     0.52653,     0.52753,\n",
              "           0.52853,     0.52953,     0.53053,     0.53153,     0.53253,     0.53353,     0.53453,     0.53554,     0.53654,     0.53754,     0.53854,     0.53954,     0.54054,     0.54154,     0.54254,     0.54354,     0.54454,     0.54555,     0.54655,     0.54755,     0.54855,     0.54955,     0.55055,     0.55155,\n",
              "           0.55255,     0.55355,     0.55455,     0.55556,     0.55656,     0.55756,     0.55856,     0.55956,     0.56056,     0.56156,     0.56256,     0.56356,     0.56456,     0.56557,     0.56657,     0.56757,     0.56857,     0.56957,     0.57057,     0.57157,     0.57257,     0.57357,     0.57457,     0.57558,\n",
              "           0.57658,     0.57758,     0.57858,     0.57958,     0.58058,     0.58158,     0.58258,     0.58358,     0.58458,     0.58559,     0.58659,     0.58759,     0.58859,     0.58959,     0.59059,     0.59159,     0.59259,     0.59359,     0.59459,      0.5956,      0.5966,      0.5976,      0.5986,      0.5996,\n",
              "            0.6006,      0.6016,      0.6026,      0.6036,      0.6046,     0.60561,     0.60661,     0.60761,     0.60861,     0.60961,     0.61061,     0.61161,     0.61261,     0.61361,     0.61461,     0.61562,     0.61662,     0.61762,     0.61862,     0.61962,     0.62062,     0.62162,     0.62262,     0.62362,\n",
              "           0.62462,     0.62563,     0.62663,     0.62763,     0.62863,     0.62963,     0.63063,     0.63163,     0.63263,     0.63363,     0.63463,     0.63564,     0.63664,     0.63764,     0.63864,     0.63964,     0.64064,     0.64164,     0.64264,     0.64364,     0.64464,     0.64565,     0.64665,     0.64765,\n",
              "           0.64865,     0.64965,     0.65065,     0.65165,     0.65265,     0.65365,     0.65465,     0.65566,     0.65666,     0.65766,     0.65866,     0.65966,     0.66066,     0.66166,     0.66266,     0.66366,     0.66466,     0.66567,     0.66667,     0.66767,     0.66867,     0.66967,     0.67067,     0.67167,\n",
              "           0.67267,     0.67367,     0.67467,     0.67568,     0.67668,     0.67768,     0.67868,     0.67968,     0.68068,     0.68168,     0.68268,     0.68368,     0.68468,     0.68569,     0.68669,     0.68769,     0.68869,     0.68969,     0.69069,     0.69169,     0.69269,     0.69369,     0.69469,      0.6957,\n",
              "            0.6967,      0.6977,      0.6987,      0.6997,      0.7007,      0.7017,      0.7027,      0.7037,      0.7047,     0.70571,     0.70671,     0.70771,     0.70871,     0.70971,     0.71071,     0.71171,     0.71271,     0.71371,     0.71471,     0.71572,     0.71672,     0.71772,     0.71872,     0.71972,\n",
              "           0.72072,     0.72172,     0.72272,     0.72372,     0.72472,     0.72573,     0.72673,     0.72773,     0.72873,     0.72973,     0.73073,     0.73173,     0.73273,     0.73373,     0.73473,     0.73574,     0.73674,     0.73774,     0.73874,     0.73974,     0.74074,     0.74174,     0.74274,     0.74374,\n",
              "           0.74474,     0.74575,     0.74675,     0.74775,     0.74875,     0.74975,     0.75075,     0.75175,     0.75275,     0.75375,     0.75475,     0.75576,     0.75676,     0.75776,     0.75876,     0.75976,     0.76076,     0.76176,     0.76276,     0.76376,     0.76476,     0.76577,     0.76677,     0.76777,\n",
              "           0.76877,     0.76977,     0.77077,     0.77177,     0.77277,     0.77377,     0.77477,     0.77578,     0.77678,     0.77778,     0.77878,     0.77978,     0.78078,     0.78178,     0.78278,     0.78378,     0.78478,     0.78579,     0.78679,     0.78779,     0.78879,     0.78979,     0.79079,     0.79179,\n",
              "           0.79279,     0.79379,     0.79479,      0.7958,      0.7968,      0.7978,      0.7988,      0.7998,      0.8008,      0.8018,      0.8028,      0.8038,      0.8048,     0.80581,     0.80681,     0.80781,     0.80881,     0.80981,     0.81081,     0.81181,     0.81281,     0.81381,     0.81481,     0.81582,\n",
              "           0.81682,     0.81782,     0.81882,     0.81982,     0.82082,     0.82182,     0.82282,     0.82382,     0.82482,     0.82583,     0.82683,     0.82783,     0.82883,     0.82983,     0.83083,     0.83183,     0.83283,     0.83383,     0.83483,     0.83584,     0.83684,     0.83784,     0.83884,     0.83984,\n",
              "           0.84084,     0.84184,     0.84284,     0.84384,     0.84484,     0.84585,     0.84685,     0.84785,     0.84885,     0.84985,     0.85085,     0.85185,     0.85285,     0.85385,     0.85485,     0.85586,     0.85686,     0.85786,     0.85886,     0.85986,     0.86086,     0.86186,     0.86286,     0.86386,\n",
              "           0.86486,     0.86587,     0.86687,     0.86787,     0.86887,     0.86987,     0.87087,     0.87187,     0.87287,     0.87387,     0.87487,     0.87588,     0.87688,     0.87788,     0.87888,     0.87988,     0.88088,     0.88188,     0.88288,     0.88388,     0.88488,     0.88589,     0.88689,     0.88789,\n",
              "           0.88889,     0.88989,     0.89089,     0.89189,     0.89289,     0.89389,     0.89489,      0.8959,      0.8969,      0.8979,      0.8989,      0.8999,      0.9009,      0.9019,      0.9029,      0.9039,      0.9049,     0.90591,     0.90691,     0.90791,     0.90891,     0.90991,     0.91091,     0.91191,\n",
              "           0.91291,     0.91391,     0.91491,     0.91592,     0.91692,     0.91792,     0.91892,     0.91992,     0.92092,     0.92192,     0.92292,     0.92392,     0.92492,     0.92593,     0.92693,     0.92793,     0.92893,     0.92993,     0.93093,     0.93193,     0.93293,     0.93393,     0.93493,     0.93594,\n",
              "           0.93694,     0.93794,     0.93894,     0.93994,     0.94094,     0.94194,     0.94294,     0.94394,     0.94494,     0.94595,     0.94695,     0.94795,     0.94895,     0.94995,     0.95095,     0.95195,     0.95295,     0.95395,     0.95495,     0.95596,     0.95696,     0.95796,     0.95896,     0.95996,\n",
              "           0.96096,     0.96196,     0.96296,     0.96396,     0.96496,     0.96597,     0.96697,     0.96797,     0.96897,     0.96997,     0.97097,     0.97197,     0.97297,     0.97397,     0.97497,     0.97598,     0.97698,     0.97798,     0.97898,     0.97998,     0.98098,     0.98198,     0.98298,     0.98398,\n",
              "           0.98498,     0.98599,     0.98699,     0.98799,     0.98899,     0.98999,     0.99099,     0.99199,     0.99299,     0.99399,     0.99499,       0.996,       0.997,       0.998,       0.999,           1]), array([[   0.032532,    0.032532,    0.046939, ...,           1,           1,           1],\n",
              "       [    0.15006,     0.15016,     0.20388, ...,           1,           1,           1],\n",
              "       [   0.066715,    0.066753,    0.099453, ...,           1,           1,           1],\n",
              "       ...,\n",
              "       [  0.0038314,   0.0038314,   0.0059286, ...,           1,           1,           1],\n",
              "       [   0.006006,   0.0060125,   0.0088285, ...,           1,           1,           1],\n",
              "       [  0.0082645,   0.0082718,    0.012096, ...,           1,           1,           1]]), 'Confidence', 'Precision'], [array([          0,    0.001001,    0.002002,    0.003003,    0.004004,    0.005005,    0.006006,    0.007007,    0.008008,    0.009009,     0.01001,    0.011011,    0.012012,    0.013013,    0.014014,    0.015015,    0.016016,    0.017017,    0.018018,    0.019019,     0.02002,    0.021021,    0.022022,    0.023023,\n",
              "          0.024024,    0.025025,    0.026026,    0.027027,    0.028028,    0.029029,     0.03003,    0.031031,    0.032032,    0.033033,    0.034034,    0.035035,    0.036036,    0.037037,    0.038038,    0.039039,     0.04004,    0.041041,    0.042042,    0.043043,    0.044044,    0.045045,    0.046046,    0.047047,\n",
              "          0.048048,    0.049049,     0.05005,    0.051051,    0.052052,    0.053053,    0.054054,    0.055055,    0.056056,    0.057057,    0.058058,    0.059059,     0.06006,    0.061061,    0.062062,    0.063063,    0.064064,    0.065065,    0.066066,    0.067067,    0.068068,    0.069069,     0.07007,    0.071071,\n",
              "          0.072072,    0.073073,    0.074074,    0.075075,    0.076076,    0.077077,    0.078078,    0.079079,     0.08008,    0.081081,    0.082082,    0.083083,    0.084084,    0.085085,    0.086086,    0.087087,    0.088088,    0.089089,     0.09009,    0.091091,    0.092092,    0.093093,    0.094094,    0.095095,\n",
              "          0.096096,    0.097097,    0.098098,    0.099099,      0.1001,      0.1011,      0.1021,      0.1031,      0.1041,     0.10511,     0.10611,     0.10711,     0.10811,     0.10911,     0.11011,     0.11111,     0.11211,     0.11311,     0.11411,     0.11512,     0.11612,     0.11712,     0.11812,     0.11912,\n",
              "           0.12012,     0.12112,     0.12212,     0.12312,     0.12412,     0.12513,     0.12613,     0.12713,     0.12813,     0.12913,     0.13013,     0.13113,     0.13213,     0.13313,     0.13413,     0.13514,     0.13614,     0.13714,     0.13814,     0.13914,     0.14014,     0.14114,     0.14214,     0.14314,\n",
              "           0.14414,     0.14515,     0.14615,     0.14715,     0.14815,     0.14915,     0.15015,     0.15115,     0.15215,     0.15315,     0.15415,     0.15516,     0.15616,     0.15716,     0.15816,     0.15916,     0.16016,     0.16116,     0.16216,     0.16316,     0.16416,     0.16517,     0.16617,     0.16717,\n",
              "           0.16817,     0.16917,     0.17017,     0.17117,     0.17217,     0.17317,     0.17417,     0.17518,     0.17618,     0.17718,     0.17818,     0.17918,     0.18018,     0.18118,     0.18218,     0.18318,     0.18418,     0.18519,     0.18619,     0.18719,     0.18819,     0.18919,     0.19019,     0.19119,\n",
              "           0.19219,     0.19319,     0.19419,      0.1952,      0.1962,      0.1972,      0.1982,      0.1992,      0.2002,      0.2012,      0.2022,      0.2032,      0.2042,     0.20521,     0.20621,     0.20721,     0.20821,     0.20921,     0.21021,     0.21121,     0.21221,     0.21321,     0.21421,     0.21522,\n",
              "           0.21622,     0.21722,     0.21822,     0.21922,     0.22022,     0.22122,     0.22222,     0.22322,     0.22422,     0.22523,     0.22623,     0.22723,     0.22823,     0.22923,     0.23023,     0.23123,     0.23223,     0.23323,     0.23423,     0.23524,     0.23624,     0.23724,     0.23824,     0.23924,\n",
              "           0.24024,     0.24124,     0.24224,     0.24324,     0.24424,     0.24525,     0.24625,     0.24725,     0.24825,     0.24925,     0.25025,     0.25125,     0.25225,     0.25325,     0.25425,     0.25526,     0.25626,     0.25726,     0.25826,     0.25926,     0.26026,     0.26126,     0.26226,     0.26326,\n",
              "           0.26426,     0.26527,     0.26627,     0.26727,     0.26827,     0.26927,     0.27027,     0.27127,     0.27227,     0.27327,     0.27427,     0.27528,     0.27628,     0.27728,     0.27828,     0.27928,     0.28028,     0.28128,     0.28228,     0.28328,     0.28428,     0.28529,     0.28629,     0.28729,\n",
              "           0.28829,     0.28929,     0.29029,     0.29129,     0.29229,     0.29329,     0.29429,      0.2953,      0.2963,      0.2973,      0.2983,      0.2993,      0.3003,      0.3013,      0.3023,      0.3033,      0.3043,     0.30531,     0.30631,     0.30731,     0.30831,     0.30931,     0.31031,     0.31131,\n",
              "           0.31231,     0.31331,     0.31431,     0.31532,     0.31632,     0.31732,     0.31832,     0.31932,     0.32032,     0.32132,     0.32232,     0.32332,     0.32432,     0.32533,     0.32633,     0.32733,     0.32833,     0.32933,     0.33033,     0.33133,     0.33233,     0.33333,     0.33433,     0.33534,\n",
              "           0.33634,     0.33734,     0.33834,     0.33934,     0.34034,     0.34134,     0.34234,     0.34334,     0.34434,     0.34535,     0.34635,     0.34735,     0.34835,     0.34935,     0.35035,     0.35135,     0.35235,     0.35335,     0.35435,     0.35536,     0.35636,     0.35736,     0.35836,     0.35936,\n",
              "           0.36036,     0.36136,     0.36236,     0.36336,     0.36436,     0.36537,     0.36637,     0.36737,     0.36837,     0.36937,     0.37037,     0.37137,     0.37237,     0.37337,     0.37437,     0.37538,     0.37638,     0.37738,     0.37838,     0.37938,     0.38038,     0.38138,     0.38238,     0.38338,\n",
              "           0.38438,     0.38539,     0.38639,     0.38739,     0.38839,     0.38939,     0.39039,     0.39139,     0.39239,     0.39339,     0.39439,      0.3954,      0.3964,      0.3974,      0.3984,      0.3994,      0.4004,      0.4014,      0.4024,      0.4034,      0.4044,     0.40541,     0.40641,     0.40741,\n",
              "           0.40841,     0.40941,     0.41041,     0.41141,     0.41241,     0.41341,     0.41441,     0.41542,     0.41642,     0.41742,     0.41842,     0.41942,     0.42042,     0.42142,     0.42242,     0.42342,     0.42442,     0.42543,     0.42643,     0.42743,     0.42843,     0.42943,     0.43043,     0.43143,\n",
              "           0.43243,     0.43343,     0.43443,     0.43544,     0.43644,     0.43744,     0.43844,     0.43944,     0.44044,     0.44144,     0.44244,     0.44344,     0.44444,     0.44545,     0.44645,     0.44745,     0.44845,     0.44945,     0.45045,     0.45145,     0.45245,     0.45345,     0.45445,     0.45546,\n",
              "           0.45646,     0.45746,     0.45846,     0.45946,     0.46046,     0.46146,     0.46246,     0.46346,     0.46446,     0.46547,     0.46647,     0.46747,     0.46847,     0.46947,     0.47047,     0.47147,     0.47247,     0.47347,     0.47447,     0.47548,     0.47648,     0.47748,     0.47848,     0.47948,\n",
              "           0.48048,     0.48148,     0.48248,     0.48348,     0.48448,     0.48549,     0.48649,     0.48749,     0.48849,     0.48949,     0.49049,     0.49149,     0.49249,     0.49349,     0.49449,      0.4955,      0.4965,      0.4975,      0.4985,      0.4995,      0.5005,      0.5015,      0.5025,      0.5035,\n",
              "            0.5045,     0.50551,     0.50651,     0.50751,     0.50851,     0.50951,     0.51051,     0.51151,     0.51251,     0.51351,     0.51451,     0.51552,     0.51652,     0.51752,     0.51852,     0.51952,     0.52052,     0.52152,     0.52252,     0.52352,     0.52452,     0.52553,     0.52653,     0.52753,\n",
              "           0.52853,     0.52953,     0.53053,     0.53153,     0.53253,     0.53353,     0.53453,     0.53554,     0.53654,     0.53754,     0.53854,     0.53954,     0.54054,     0.54154,     0.54254,     0.54354,     0.54454,     0.54555,     0.54655,     0.54755,     0.54855,     0.54955,     0.55055,     0.55155,\n",
              "           0.55255,     0.55355,     0.55455,     0.55556,     0.55656,     0.55756,     0.55856,     0.55956,     0.56056,     0.56156,     0.56256,     0.56356,     0.56456,     0.56557,     0.56657,     0.56757,     0.56857,     0.56957,     0.57057,     0.57157,     0.57257,     0.57357,     0.57457,     0.57558,\n",
              "           0.57658,     0.57758,     0.57858,     0.57958,     0.58058,     0.58158,     0.58258,     0.58358,     0.58458,     0.58559,     0.58659,     0.58759,     0.58859,     0.58959,     0.59059,     0.59159,     0.59259,     0.59359,     0.59459,      0.5956,      0.5966,      0.5976,      0.5986,      0.5996,\n",
              "            0.6006,      0.6016,      0.6026,      0.6036,      0.6046,     0.60561,     0.60661,     0.60761,     0.60861,     0.60961,     0.61061,     0.61161,     0.61261,     0.61361,     0.61461,     0.61562,     0.61662,     0.61762,     0.61862,     0.61962,     0.62062,     0.62162,     0.62262,     0.62362,\n",
              "           0.62462,     0.62563,     0.62663,     0.62763,     0.62863,     0.62963,     0.63063,     0.63163,     0.63263,     0.63363,     0.63463,     0.63564,     0.63664,     0.63764,     0.63864,     0.63964,     0.64064,     0.64164,     0.64264,     0.64364,     0.64464,     0.64565,     0.64665,     0.64765,\n",
              "           0.64865,     0.64965,     0.65065,     0.65165,     0.65265,     0.65365,     0.65465,     0.65566,     0.65666,     0.65766,     0.65866,     0.65966,     0.66066,     0.66166,     0.66266,     0.66366,     0.66466,     0.66567,     0.66667,     0.66767,     0.66867,     0.66967,     0.67067,     0.67167,\n",
              "           0.67267,     0.67367,     0.67467,     0.67568,     0.67668,     0.67768,     0.67868,     0.67968,     0.68068,     0.68168,     0.68268,     0.68368,     0.68468,     0.68569,     0.68669,     0.68769,     0.68869,     0.68969,     0.69069,     0.69169,     0.69269,     0.69369,     0.69469,      0.6957,\n",
              "            0.6967,      0.6977,      0.6987,      0.6997,      0.7007,      0.7017,      0.7027,      0.7037,      0.7047,     0.70571,     0.70671,     0.70771,     0.70871,     0.70971,     0.71071,     0.71171,     0.71271,     0.71371,     0.71471,     0.71572,     0.71672,     0.71772,     0.71872,     0.71972,\n",
              "           0.72072,     0.72172,     0.72272,     0.72372,     0.72472,     0.72573,     0.72673,     0.72773,     0.72873,     0.72973,     0.73073,     0.73173,     0.73273,     0.73373,     0.73473,     0.73574,     0.73674,     0.73774,     0.73874,     0.73974,     0.74074,     0.74174,     0.74274,     0.74374,\n",
              "           0.74474,     0.74575,     0.74675,     0.74775,     0.74875,     0.74975,     0.75075,     0.75175,     0.75275,     0.75375,     0.75475,     0.75576,     0.75676,     0.75776,     0.75876,     0.75976,     0.76076,     0.76176,     0.76276,     0.76376,     0.76476,     0.76577,     0.76677,     0.76777,\n",
              "           0.76877,     0.76977,     0.77077,     0.77177,     0.77277,     0.77377,     0.77477,     0.77578,     0.77678,     0.77778,     0.77878,     0.77978,     0.78078,     0.78178,     0.78278,     0.78378,     0.78478,     0.78579,     0.78679,     0.78779,     0.78879,     0.78979,     0.79079,     0.79179,\n",
              "           0.79279,     0.79379,     0.79479,      0.7958,      0.7968,      0.7978,      0.7988,      0.7998,      0.8008,      0.8018,      0.8028,      0.8038,      0.8048,     0.80581,     0.80681,     0.80781,     0.80881,     0.80981,     0.81081,     0.81181,     0.81281,     0.81381,     0.81481,     0.81582,\n",
              "           0.81682,     0.81782,     0.81882,     0.81982,     0.82082,     0.82182,     0.82282,     0.82382,     0.82482,     0.82583,     0.82683,     0.82783,     0.82883,     0.82983,     0.83083,     0.83183,     0.83283,     0.83383,     0.83483,     0.83584,     0.83684,     0.83784,     0.83884,     0.83984,\n",
              "           0.84084,     0.84184,     0.84284,     0.84384,     0.84484,     0.84585,     0.84685,     0.84785,     0.84885,     0.84985,     0.85085,     0.85185,     0.85285,     0.85385,     0.85485,     0.85586,     0.85686,     0.85786,     0.85886,     0.85986,     0.86086,     0.86186,     0.86286,     0.86386,\n",
              "           0.86486,     0.86587,     0.86687,     0.86787,     0.86887,     0.86987,     0.87087,     0.87187,     0.87287,     0.87387,     0.87487,     0.87588,     0.87688,     0.87788,     0.87888,     0.87988,     0.88088,     0.88188,     0.88288,     0.88388,     0.88488,     0.88589,     0.88689,     0.88789,\n",
              "           0.88889,     0.88989,     0.89089,     0.89189,     0.89289,     0.89389,     0.89489,      0.8959,      0.8969,      0.8979,      0.8989,      0.8999,      0.9009,      0.9019,      0.9029,      0.9039,      0.9049,     0.90591,     0.90691,     0.90791,     0.90891,     0.90991,     0.91091,     0.91191,\n",
              "           0.91291,     0.91391,     0.91491,     0.91592,     0.91692,     0.91792,     0.91892,     0.91992,     0.92092,     0.92192,     0.92292,     0.92392,     0.92492,     0.92593,     0.92693,     0.92793,     0.92893,     0.92993,     0.93093,     0.93193,     0.93293,     0.93393,     0.93493,     0.93594,\n",
              "           0.93694,     0.93794,     0.93894,     0.93994,     0.94094,     0.94194,     0.94294,     0.94394,     0.94494,     0.94595,     0.94695,     0.94795,     0.94895,     0.94995,     0.95095,     0.95195,     0.95295,     0.95395,     0.95495,     0.95596,     0.95696,     0.95796,     0.95896,     0.95996,\n",
              "           0.96096,     0.96196,     0.96296,     0.96396,     0.96496,     0.96597,     0.96697,     0.96797,     0.96897,     0.96997,     0.97097,     0.97197,     0.97297,     0.97397,     0.97497,     0.97598,     0.97698,     0.97798,     0.97898,     0.97998,     0.98098,     0.98198,     0.98298,     0.98398,\n",
              "           0.98498,     0.98599,     0.98699,     0.98799,     0.98899,     0.98999,     0.99099,     0.99199,     0.99299,     0.99399,     0.99499,       0.996,       0.997,       0.998,       0.999,           1]), array([[    0.90722,     0.90722,     0.90722, ...,           0,           0,           0],\n",
              "       [    0.93333,     0.93333,      0.9281, ...,           0,           0,           0],\n",
              "       [    0.95312,     0.95312,      0.9375, ...,           0,           0,           0],\n",
              "       ...,\n",
              "       [          1,           1,           1, ...,           0,           0,           0],\n",
              "       [    0.76923,     0.76923,     0.76923, ...,           0,           0,           0],\n",
              "       [    0.77778,     0.77778,     0.66667, ...,           0,           0,           0]]), 'Confidence', 'Recall']]\n",
              "fitness: 0.2849881237488272\n",
              "keys: ['metrics/precision(B)', 'metrics/recall(B)', 'metrics/mAP50(B)', 'metrics/mAP50-95(B)']\n",
              "maps: array([    0.38648,     0.48559,     0.58552,     0.19645,     0.32505,    0.089189,     0.37941,     0.12015,    0.085709,    0.042836])\n",
              "names: {0: 'door', 1: 'cabinetDoor', 2: 'refrigeratorDoor', 3: 'window', 4: 'chair', 5: 'table', 6: 'cabinet', 7: 'couch', 8: 'openedDoor', 9: 'pole'}\n",
              "plot: True\n",
              "results_dict: {'metrics/precision(B)': 0.36304241657015673, 'metrics/recall(B)': 0.5809347319362076, 'metrics/mAP50(B)': 0.42313320078968975, 'metrics/mAP50-95(B)': 0.26963867074428693, 'fitness': 0.2849881237488272}\n",
              "save_dir: PosixPath('runs/detect/custom_yolo_training242')\n",
              "speed: {'preprocess': 0.11866610983143683, 'inference': 14.268693716629691, 'loss': 0.0006779380466627038, 'postprocess': 0.8545326149981954}\n",
              "task: 'detect'"
            ]
          },
          "metadata": {},
          "execution_count": 6
        }
      ]
    },
    {
      "cell_type": "code",
      "source": [
        "import matplotlib.pyplot as plt\n",
        "import cv2\n",
        "from ultralytics import YOLO\n",
        "\n",
        "image_path = \"/content/20201124101308.jpg\"\n",
        "results = model.predict(image_path,conf=0.5)\n",
        "\n",
        "results[0].plot()  # Salva o resultado plotado\n",
        "img_with_boxes = results[0].plot(show=False, save=False)\n",
        "\n",
        "plt.imshow(cv2.cvtColor(img_with_boxes, cv2.COLOR_BGR2RGB))\n",
        "plt.axis('off')\n",
        "plt.show()"
      ],
      "metadata": {
        "id": "WfBoIzea7u60"
      },
      "execution_count": null,
      "outputs": []
    },
    {
      "cell_type": "code",
      "source": [
        "model.save(\"/content/drive/MyDrive/models/face_detection_2.pt\")"
      ],
      "metadata": {
        "id": "zSN5dq8rtRmO"
      },
      "execution_count": null,
      "outputs": []
    },
    {
      "cell_type": "code",
      "source": [],
      "metadata": {
        "id": "G2RC2MLtLarU"
      },
      "execution_count": null,
      "outputs": []
    }
  ]
}